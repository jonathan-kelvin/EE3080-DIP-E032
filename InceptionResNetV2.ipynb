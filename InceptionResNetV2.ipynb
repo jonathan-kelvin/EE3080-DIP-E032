{
  "cells": [
    {
      "cell_type": "markdown",
      "metadata": {
        "id": "WWJA4p5DIiZj"
      },
      "source": [
        "# Imports"
      ]
    },
    {
      "cell_type": "code",
      "execution_count": 1,
      "metadata": {
        "id": "LCBqbrrTIZLH"
      },
      "outputs": [
        {
          "name": "stderr",
          "output_type": "stream",
          "text": [
            "2022-10-19 20:01:15.247913: I tensorflow/core/platform/cpu_feature_guard.cc:193] This TensorFlow binary is optimized with oneAPI Deep Neural Network Library (oneDNN) to use the following CPU instructions in performance-critical operations:  AVX2 AVX512F AVX512_VNNI FMA\n",
            "To enable them in other operations, rebuild TensorFlow with the appropriate compiler flags.\n",
            "2022-10-19 20:01:15.364521: I tensorflow/core/util/util.cc:169] oneDNN custom operations are on. You may see slightly different numerical results due to floating-point round-off errors from different computation orders. To turn them off, set the environment variable `TF_ENABLE_ONEDNN_OPTS=0`.\n",
            "2022-10-19 20:01:15.392095: E tensorflow/stream_executor/cuda/cuda_blas.cc:2981] Unable to register cuBLAS factory: Attempting to register factory for plugin cuBLAS when one has already been registered\n",
            "2022-10-19 20:01:15.997779: W tensorflow/stream_executor/platform/default/dso_loader.cc:64] Could not load dynamic library 'libnvinfer.so.7'; dlerror: libnvinfer.so.7: cannot open shared object file: No such file or directory\n",
            "2022-10-19 20:01:15.997838: W tensorflow/stream_executor/platform/default/dso_loader.cc:64] Could not load dynamic library 'libnvinfer_plugin.so.7'; dlerror: libnvinfer_plugin.so.7: cannot open shared object file: No such file or directory\n",
            "2022-10-19 20:01:15.997842: W tensorflow/compiler/tf2tensorrt/utils/py_utils.cc:38] TF-TRT Warning: Cannot dlopen some TensorRT libraries. If you would like to use Nvidia GPU with TensorRT, please make sure the missing libraries mentioned above are installed properly.\n"
          ]
        }
      ],
      "source": [
        "import tensorflow as tf\n",
        "\n",
        "from tensorflow.keras import layers, models\n",
        "import matplotlib.pyplot as plt\n",
        "\n",
        "import numpy as np\n",
        "from matplotlib import pyplot as plt\n",
        "\n",
        "data_path = \"dataset/master_data/\""
      ]
    },
    {
      "cell_type": "markdown",
      "metadata": {
        "id": "_EssKCfwIut4"
      },
      "source": [
        "## Dataset Preparation"
      ]
    },
    {
      "cell_type": "code",
      "execution_count": 2,
      "metadata": {
        "colab": {
          "base_uri": "https://localhost:8080/"
        },
        "id": "YdT0WrSGIZNJ",
        "outputId": "359d364b-e442-44e9-c359-9214547f4fe3"
      },
      "outputs": [
        {
          "name": "stdout",
          "output_type": "stream",
          "text": [
            "Found 10950 files belonging to 2 classes.\n"
          ]
        },
        {
          "name": "stderr",
          "output_type": "stream",
          "text": [
            "2022-10-19 20:01:18.305458: I tensorflow/core/platform/cpu_feature_guard.cc:193] This TensorFlow binary is optimized with oneAPI Deep Neural Network Library (oneDNN) to use the following CPU instructions in performance-critical operations:  AVX2 AVX512F AVX512_VNNI FMA\n",
            "To enable them in other operations, rebuild TensorFlow with the appropriate compiler flags.\n",
            "2022-10-19 20:01:19.998259: I tensorflow/core/common_runtime/gpu/gpu_device.cc:1616] Created device /job:localhost/replica:0/task:0/device:GPU:0 with 22290 MB memory:  -> device: 0, name: GeForce RTX 3090, pci bus id: 0000:19:00.0, compute capability: 8.6\n",
            "2022-10-19 20:01:19.999418: I tensorflow/core/common_runtime/gpu/gpu_device.cc:1616] Created device /job:localhost/replica:0/task:0/device:GPU:1 with 22290 MB memory:  -> device: 1, name: GeForce RTX 3090, pci bus id: 0000:1a:00.0, compute capability: 8.6\n",
            "2022-10-19 20:01:20.000376: I tensorflow/core/common_runtime/gpu/gpu_device.cc:1616] Created device /job:localhost/replica:0/task:0/device:GPU:2 with 22290 MB memory:  -> device: 2, name: GeForce RTX 3090, pci bus id: 0000:67:00.0, compute capability: 8.6\n",
            "2022-10-19 20:01:20.001383: I tensorflow/core/common_runtime/gpu/gpu_device.cc:1616] Created device /job:localhost/replica:0/task:0/device:GPU:3 with 22233 MB memory:  -> device: 3, name: GeForce RTX 3090, pci bus id: 0000:68:00.0, compute capability: 8.6\n"
          ]
        }
      ],
      "source": [
        "# data pipeline utils\n",
        "data = tf.keras.utils.image_dataset_from_directory(data_path,\n",
        "                                                   image_size = (512,512),\n",
        "                                                   color_mode = 'rgb',\n",
        "                                                   batch_size= 16)"
      ]
    },
    {
      "cell_type": "code",
      "execution_count": 3,
      "metadata": {
        "id": "ZdZgAb3ZIZOw"
      },
      "outputs": [],
      "source": [
        "# Generator to pull batches\n",
        "data_iterator = data.as_numpy_iterator()"
      ]
    },
    {
      "cell_type": "code",
      "execution_count": 4,
      "metadata": {
        "id": "ty0koqnNI4jC"
      },
      "outputs": [],
      "source": [
        "batch = data_iterator.next()"
      ]
    },
    {
      "cell_type": "code",
      "execution_count": 5,
      "metadata": {
        "colab": {
          "base_uri": "https://localhost:8080/"
        },
        "id": "CkfFnPbjNXM-",
        "outputId": "a2cba9a7-2074-41fe-91cc-c06bd4577716"
      },
      "outputs": [
        {
          "data": {
            "text/plain": [
              "(16, 512, 512, 3)"
            ]
          },
          "execution_count": 5,
          "metadata": {},
          "output_type": "execute_result"
        }
      ],
      "source": [
        "batch[0].shape"
      ]
    },
    {
      "cell_type": "code",
      "execution_count": 6,
      "metadata": {
        "colab": {
          "base_uri": "https://localhost:8080/"
        },
        "id": "GdWDfcsOSYq2",
        "outputId": "88bfd713-e885-41a0-c435-e912db764c07"
      },
      "outputs": [
        {
          "data": {
            "text/plain": [
              "array([0, 0, 0, 1, 1, 0, 1, 1, 0, 1, 0, 1, 1, 1, 1, 1], dtype=int32)"
            ]
          },
          "execution_count": 6,
          "metadata": {},
          "output_type": "execute_result"
        }
      ],
      "source": [
        "batch[1]\n",
        "# class 1 = Not Gan Generated\n",
        "# Class 2 = Gan Generated"
      ]
    },
    {
      "cell_type": "code",
      "execution_count": 7,
      "metadata": {
        "id": "4WNI_JHMSkxb"
      },
      "outputs": [],
      "source": [
        "# Reduce it to [0,1] as we load the data pipeline\n",
        "# x - images , y - labels\n",
        "data = data.map(lambda x,y: (x/255,y))"
      ]
    },
    {
      "cell_type": "code",
      "execution_count": 8,
      "metadata": {
        "colab": {
          "base_uri": "https://localhost:8080/"
        },
        "id": "84BRzeoSSkzW",
        "outputId": "8b4d6834-5f57-479a-b2ef-68423780e933"
      },
      "outputs": [
        {
          "data": {
            "text/plain": [
              "(array([[[[0.02739736, 0.05845205, 0.00492877],\n",
              "          [0.04054075, 0.07228477, 0.0229473 ],\n",
              "          [0.0434015 , 0.06597733, 0.01043964],\n",
              "          ...,\n",
              "          [0.34901962, 0.5411765 , 0.8117647 ],\n",
              "          [0.34901962, 0.5411765 , 0.8117647 ],\n",
              "          [0.34870175, 0.5408586 , 0.81144685]],\n",
              " \n",
              "         [[0.07253753, 0.0952742 , 0.03051471],\n",
              "          [0.03916207, 0.05696997, 0.01075751],\n",
              "          [0.05680913, 0.07254902, 0.0070504 ],\n",
              "          ...,\n",
              "          [0.34901962, 0.5411765 , 0.8117647 ],\n",
              "          [0.34901962, 0.5411765 , 0.8117647 ],\n",
              "          [0.34705883, 0.5392157 , 0.8098039 ]],\n",
              " \n",
              "         [[0.10185739, 0.11754366, 0.06115579],\n",
              "          [0.04117647, 0.05453048, 0.00540748],\n",
              "          [0.07630591, 0.09479932, 0.00953585],\n",
              "          ...,\n",
              "          [0.35060892, 0.5427658 , 0.813354  ],\n",
              "          [0.34901962, 0.5411765 , 0.8117647 ],\n",
              "          [0.34705883, 0.5392157 , 0.8098039 ]],\n",
              " \n",
              "         ...,\n",
              " \n",
              "         [[0.63376606, 0.6455308 , 0.6180798 ],\n",
              "          [0.6108149 , 0.62257963, 0.59512866],\n",
              "          [0.62798715, 0.6319087 , 0.6083793 ],\n",
              "          ...,\n",
              "          [0.55845207, 0.56237364, 0.5388442 ],\n",
              "          [0.56984526, 0.5737668 , 0.5502374 ],\n",
              "          [0.5767808 , 0.58070236, 0.55717295]],\n",
              " \n",
              "         [[0.6406403 , 0.652405  , 0.62495404],\n",
              "          [0.62755823, 0.63932294, 0.61187196],\n",
              "          [0.62892926, 0.6328508 , 0.60932136],\n",
              "          ...,\n",
              "          [0.56995636, 0.57387793, 0.5503485 ],\n",
              "          [0.56565946, 0.56958103, 0.5460516 ],\n",
              "          [0.5539484 , 0.55787   , 0.53434056]],\n",
              " \n",
              "         [[0.6182828 , 0.6267616 , 0.60588235],\n",
              "          [0.5985141 , 0.6102788 , 0.5828278 ],\n",
              "          [0.6101218 , 0.61404335, 0.59051394],\n",
              "          ...,\n",
              "          [0.5757812 , 0.5797028 , 0.5561734 ],\n",
              "          [0.5811351 , 0.58505666, 0.56152725],\n",
              "          [0.56147367, 0.56539524, 0.5418658 ]]],\n",
              " \n",
              " \n",
              "        [[[0.5058824 , 0.50980395, 0.5294118 ],\n",
              "          [0.50735295, 0.5112745 , 0.53088236],\n",
              "          [0.50735295, 0.5112745 , 0.53088236],\n",
              "          ...,\n",
              "          [0.5235294 , 0.527451  , 0.54313725],\n",
              "          [0.50147057, 0.50539213, 0.5210784 ],\n",
              "          [0.48382354, 0.4877451 , 0.5034314 ]],\n",
              " \n",
              "         [[0.5040192 , 0.50794077, 0.5275486 ],\n",
              "          [0.50735295, 0.5112745 , 0.53088236],\n",
              "          [0.50868374, 0.5126053 , 0.53221315],\n",
              "          ...,\n",
              "          [0.51927084, 0.5231924 , 0.5388787 ],\n",
              "          [0.49721202, 0.50113356, 0.51681983],\n",
              "          [0.4777018 , 0.48162338, 0.49730965]],\n",
              " \n",
              "         [[0.5015165 , 0.5054381 , 0.52504593],\n",
              "          [0.5064185 , 0.5103401 , 0.52994794],\n",
              "          [0.50886947, 0.51279104, 0.5323989 ],\n",
              "          ...,\n",
              "          [0.513467  , 0.5173886 , 0.53307486],\n",
              "          [0.4896561 , 0.49357766, 0.50926393],\n",
              "          [0.4670592 , 0.47098076, 0.48666704]],\n",
              " \n",
              "         ...,\n",
              " \n",
              "         [[0.58431375, 0.6       , 0.6039216 ],\n",
              "          [0.58431375, 0.6       , 0.6039216 ],\n",
              "          [0.5873487 , 0.60303503, 0.6069566 ],\n",
              "          ...,\n",
              "          [0.44612437, 0.44612437, 0.4539675 ],\n",
              "          [0.4467084 , 0.4467084 , 0.45455155],\n",
              "          [0.44787645, 0.44787645, 0.4557196 ]],\n",
              " \n",
              "         [[0.5840897 , 0.59977597, 0.60369754],\n",
              "          [0.58319354, 0.5988798 , 0.6028014 ],\n",
              "          [0.5867647 , 0.60245097, 0.60637254],\n",
              "          ...,\n",
              "          [0.44705883, 0.44705883, 0.45490196],\n",
              "          [0.44705883, 0.44705883, 0.45490196],\n",
              "          [0.44862705, 0.44862705, 0.4564702 ]],\n",
              " \n",
              "         [[0.5838235 , 0.5995098 , 0.60343134],\n",
              "          [0.58186275, 0.597549  , 0.6014706 ],\n",
              "          [0.5867647 , 0.60245097, 0.60637254],\n",
              "          ...,\n",
              "          [0.44705883, 0.44705883, 0.45490196],\n",
              "          [0.44705883, 0.44705883, 0.45490196],\n",
              "          [0.4504902 , 0.4504902 , 0.45833334]]],\n",
              " \n",
              " \n",
              "        [[[0.11568628, 0.3009804 , 0.35882354],\n",
              "          [0.16764706, 0.3735294 , 0.48921567],\n",
              "          [0.14607844, 0.3647059 , 0.50980395],\n",
              "          ...,\n",
              "          [0.04215686, 0.2       , 0.3       ],\n",
              "          [0.07352941, 0.24117647, 0.3392157 ],\n",
              "          [0.24411765, 0.40490195, 0.49509802]],\n",
              " \n",
              "         [[0.06568628, 0.2617647 , 0.36666667],\n",
              "          [0.14117648, 0.37941176, 0.527451  ],\n",
              "          [0.11568628, 0.37254903, 0.5382353 ],\n",
              "          ...,\n",
              "          [0.01862745, 0.16470589, 0.2627451 ],\n",
              "          [0.02254902, 0.19509804, 0.27941176],\n",
              "          [0.14803922, 0.3372549 , 0.4117647 ]],\n",
              " \n",
              "         [[0.08431373, 0.28137255, 0.39509803],\n",
              "          [0.11470588, 0.36862746, 0.53039217],\n",
              "          [0.09901961, 0.3627451 , 0.5411765 ],\n",
              "          ...,\n",
              "          [0.00196078, 0.15980393, 0.2617647 ],\n",
              "          [0.00196078, 0.18039216, 0.26568627],\n",
              "          [0.07156863, 0.27156863, 0.33137256]],\n",
              " \n",
              "         ...,\n",
              " \n",
              "         [[0.45196077, 0.49803922, 0.50980395],\n",
              "          [0.7529412 , 0.76862746, 0.73333335],\n",
              "          [0.7490196 , 0.7254902 , 0.67058825],\n",
              "          ...,\n",
              "          [0.4862745 , 0.49607843, 0.38235295],\n",
              "          [0.22352941, 0.29117647, 0.1764706 ],\n",
              "          [0.24803922, 0.34019607, 0.2872549 ]],\n",
              " \n",
              "         [[0.46372548, 0.52156866, 0.54019606],\n",
              "          [0.7107843 , 0.74313724, 0.72156864],\n",
              "          [0.66568625, 0.6637255 , 0.59607846],\n",
              "          ...,\n",
              "          [0.42058823, 0.4117647 , 0.2754902 ],\n",
              "          [0.27254903, 0.32254902, 0.20980392],\n",
              "          [0.25      , 0.34509805, 0.2882353 ]],\n",
              " \n",
              "         [[0.49215686, 0.5362745 , 0.50686276],\n",
              "          [0.5421569 , 0.5882353 , 0.51862746],\n",
              "          [0.5382353 , 0.57058823, 0.4872549 ],\n",
              "          ...,\n",
              "          [0.5441176 , 0.5382353 , 0.41568628],\n",
              "          [0.34019607, 0.38235295, 0.2637255 ],\n",
              "          [0.31960785, 0.39117646, 0.3127451 ]]],\n",
              " \n",
              " \n",
              "        ...,\n",
              " \n",
              " \n",
              "        [[[0.4392157 , 0.627451  , 0.5803922 ],\n",
              "          [0.4392157 , 0.627451  , 0.5803922 ],\n",
              "          [0.4392157 , 0.627451  , 0.57856923],\n",
              "          ...,\n",
              "          [0.3930683 , 0.48381588, 0.443413  ],\n",
              "          [0.39215687, 0.49019608, 0.44705883],\n",
              "          [0.39215687, 0.49019608, 0.44705883]],\n",
              " \n",
              "         [[0.4392157 , 0.627451  , 0.5803922 ],\n",
              "          [0.4392157 , 0.627451  , 0.5803922 ],\n",
              "          [0.4392157 , 0.627451  , 0.57856923],\n",
              "          ...,\n",
              "          [0.3930683 , 0.48381588, 0.443413  ],\n",
              "          [0.39215687, 0.49019608, 0.44705883],\n",
              "          [0.39215687, 0.49019608, 0.44705883]],\n",
              " \n",
              "         [[0.4410386 , 0.6292739 , 0.5822151 ],\n",
              "          [0.4410386 , 0.6292739 , 0.5822151 ],\n",
              "          [0.4406149 , 0.62906206, 0.5799685 ],\n",
              "          ...,\n",
              "          [0.395379  , 0.48430365, 0.4448122 ],\n",
              "          [0.39489123, 0.49110752, 0.44888175],\n",
              "          [0.39489123, 0.49110752, 0.44888175]],\n",
              " \n",
              "         ...,\n",
              " \n",
              "         [[0.48691022, 0.4878217 , 0.50624233],\n",
              "          [0.48691022, 0.4878217 , 0.50624233],\n",
              "          [0.48949686, 0.48992053, 0.508829  ],\n",
              "          ...,\n",
              "          [0.9950191 , 0.9924965 , 0.9855648 ],\n",
              "          [1.        , 0.9990885 , 0.99215686],\n",
              "          [1.        , 0.9990885 , 0.99215686]],\n",
              " \n",
              "         [[0.48235294, 0.48235294, 0.49803922],\n",
              "          [0.48235294, 0.48235294, 0.49803922],\n",
              "          [0.48599878, 0.4850873 , 0.501685  ],\n",
              "          ...,\n",
              "          [0.9954427 , 0.9936198 , 0.98577666],\n",
              "          [1.        , 1.        , 0.99215686],\n",
              "          [1.        , 1.        , 0.99215686]],\n",
              " \n",
              "         [[0.48235294, 0.48235294, 0.49803922],\n",
              "          [0.48235294, 0.48235294, 0.49803922],\n",
              "          [0.48599878, 0.4850873 , 0.501685  ],\n",
              "          ...,\n",
              "          [0.9954427 , 0.9936198 , 0.98577666],\n",
              "          [1.        , 1.        , 0.99215686],\n",
              "          [1.        , 1.        , 0.99215686]]],\n",
              " \n",
              " \n",
              "        [[[0.99607843, 1.        , 0.98039216],\n",
              "          [0.99607843, 1.        , 0.98039216],\n",
              "          [0.99607843, 1.        , 0.98039216],\n",
              "          ...,\n",
              "          [1.        , 1.        , 1.        ],\n",
              "          [1.        , 1.        , 1.        ],\n",
              "          [1.        , 1.        , 1.        ]],\n",
              " \n",
              "         [[0.99549633, 0.9994179 , 0.97981006],\n",
              "          [0.99549633, 0.9994179 , 0.97981006],\n",
              "          [0.99549633, 0.9994179 , 0.97981006],\n",
              "          ...,\n",
              "          [0.9994179 , 0.9994179 , 0.9994179 ],\n",
              "          [0.9994179 , 0.9994179 , 0.9994179 ],\n",
              "          [0.9994179 , 0.9994179 , 0.9994179 ]],\n",
              " \n",
              "         [[0.99249387, 0.99641544, 0.9768076 ],\n",
              "          [0.99249387, 0.99641544, 0.9768076 ],\n",
              "          [0.99249387, 0.99641544, 0.9768076 ],\n",
              "          ...,\n",
              "          [0.99641544, 0.99641544, 0.99641544],\n",
              "          [0.99641544, 0.99641544, 0.99641544],\n",
              "          [0.99641544, 0.99641544, 0.99641544]],\n",
              " \n",
              "         ...,\n",
              " \n",
              "         [[0.59865195, 0.61041665, 0.38688725],\n",
              "          [0.57419837, 0.58744895, 0.36094773],\n",
              "          [0.53638345, 0.55193186, 0.32083505],\n",
              "          ...,\n",
              "          [0.73923594, 0.7431575 , 0.48433396],\n",
              "          [0.7536151 , 0.75753665, 0.4987131 ],\n",
              "          [0.7629136 , 0.76683515, 0.50801164]],\n",
              " \n",
              "         [[0.58664215, 0.59840685, 0.37487745],\n",
              "          [0.5627574 , 0.57600796, 0.34950677],\n",
              "          [0.5258221 , 0.5413705 , 0.3102737 ],\n",
              "          ...,\n",
              "          [0.7320464 , 0.735968  , 0.47714448],\n",
              "          [0.7517034 , 0.75562495, 0.4968014 ],\n",
              "          [0.76441485, 0.7683364 , 0.50951284]],\n",
              " \n",
              "         [[0.58431375, 0.59607846, 0.37254903],\n",
              "          [0.5605392 , 0.57378983, 0.3472886 ],\n",
              "          [0.5237745 , 0.5393229 , 0.3082261 ],\n",
              "          ...,\n",
              "          [0.7306526 , 0.73457414, 0.47575063],\n",
              "          [0.7513327 , 0.75525427, 0.49643075],\n",
              "          [0.7647059 , 0.76862746, 0.50980395]]],\n",
              " \n",
              " \n",
              "        [[[0.4392157 , 0.37254903, 0.22352941],\n",
              "          [0.42745098, 0.3372549 , 0.19215687],\n",
              "          [0.3529412 , 0.25882354, 0.10980392],\n",
              "          ...,\n",
              "          [0.26666668, 0.19215687, 0.07843138],\n",
              "          [0.27058825, 0.19215687, 0.07058824],\n",
              "          [0.32156864, 0.23529412, 0.12941177]],\n",
              " \n",
              "         [[0.42745098, 0.34509805, 0.18431373],\n",
              "          [0.3647059 , 0.25882354, 0.11764706],\n",
              "          [0.31764707, 0.20784314, 0.07058824],\n",
              "          ...,\n",
              "          [0.21960784, 0.12941177, 0.07058824],\n",
              "          [0.23921569, 0.13333334, 0.07450981],\n",
              "          [0.27058825, 0.16078432, 0.05882353]],\n",
              " \n",
              "         [[0.37254903, 0.30980393, 0.16078432],\n",
              "          [0.3529412 , 0.25490198, 0.10196079],\n",
              "          [0.30980393, 0.21568628, 0.07843138],\n",
              "          ...,\n",
              "          [0.16862746, 0.09019608, 0.04705882],\n",
              "          [0.2       , 0.10980392, 0.05490196],\n",
              "          [0.21176471, 0.12941177, 0.03921569]],\n",
              " \n",
              "         ...,\n",
              " \n",
              "         [[0.29803923, 0.24705882, 0.11764706],\n",
              "          [0.21568628, 0.14901961, 0.04313726],\n",
              "          [0.2       , 0.14117648, 0.04313726],\n",
              "          ...,\n",
              "          [0.98039216, 0.84705883, 0.6509804 ],\n",
              "          [0.9607843 , 0.8352941 , 0.62352943],\n",
              "          [0.96862745, 0.827451  , 0.6431373 ]],\n",
              " \n",
              "         [[0.33333334, 0.27450982, 0.14509805],\n",
              "          [0.25490198, 0.19215687, 0.08235294],\n",
              "          [0.21176471, 0.15686275, 0.05882353],\n",
              "          ...,\n",
              "          [0.9647059 , 0.827451  , 0.627451  ],\n",
              "          [0.92941177, 0.80784315, 0.60784316],\n",
              "          [0.91764706, 0.78039217, 0.6       ]],\n",
              " \n",
              "         [[0.4117647 , 0.32156864, 0.1764706 ],\n",
              "          [0.3254902 , 0.23529412, 0.12156863],\n",
              "          [0.26666668, 0.19215687, 0.10196079],\n",
              "          ...,\n",
              "          [0.8980392 , 0.7411765 , 0.57254905],\n",
              "          [0.8980392 , 0.7529412 , 0.5686275 ],\n",
              "          [0.92941177, 0.8039216 , 0.6509804 ]]]], dtype=float32),\n",
              " array([1, 1, 0, 0, 0, 0, 0, 1, 0, 0, 1, 1, 1, 0, 1, 0], dtype=int32))"
            ]
          },
          "execution_count": 8,
          "metadata": {},
          "output_type": "execute_result"
        }
      ],
      "source": [
        "data.as_numpy_iterator().next()"
      ]
    },
    {
      "cell_type": "markdown",
      "metadata": {
        "id": "Nmap6bi-SpRf"
      },
      "source": [
        "# Split the data"
      ]
    },
    {
      "cell_type": "code",
      "execution_count": 9,
      "metadata": {
        "colab": {
          "base_uri": "https://localhost:8080/"
        },
        "id": "C46-DwLhSzFr",
        "outputId": "ca958814-a7fe-4042-9a47-cadb7039042e"
      },
      "outputs": [
        {
          "data": {
            "text/plain": [
              "685"
            ]
          },
          "execution_count": 9,
          "metadata": {},
          "output_type": "execute_result"
        }
      ],
      "source": [
        "len(data) # Num of batches"
      ]
    },
    {
      "cell_type": "code",
      "execution_count": 10,
      "metadata": {
        "id": "PhpUbutISk1V"
      },
      "outputs": [],
      "source": [
        "train_size = int(len(data)*.7)  \n",
        "val_size = int(len(data)*.2) \n",
        "test_size = int(len(data)*.1)"
      ]
    },
    {
      "cell_type": "code",
      "execution_count": 11,
      "metadata": {
        "colab": {
          "base_uri": "https://localhost:8080/"
        },
        "id": "Jgj8z-zkS5cq",
        "outputId": "801c2581-928d-4b43-8c61-42a04c9900a0"
      },
      "outputs": [
        {
          "name": "stdout",
          "output_type": "stream",
          "text": [
            "479\n",
            "137\n",
            "68\n",
            "684\n"
          ]
        }
      ],
      "source": [
        "print(train_size)\n",
        "print(val_size)\n",
        "print(test_size)\n",
        "print(train_size + val_size + test_size)"
      ]
    },
    {
      "cell_type": "code",
      "execution_count": 12,
      "metadata": {
        "id": "1xeld2JOS5l6"
      },
      "outputs": [],
      "source": [
        "train = data.take(train_size)\n",
        "val = data.skip(train_size).take(val_size)\n",
        "test = data.skip(train_size+val_size).take(test_size)"
      ]
    },
    {
      "cell_type": "code",
      "execution_count": 13,
      "metadata": {
        "colab": {
          "base_uri": "https://localhost:8080/"
        },
        "id": "CKjskp6hS6oV",
        "outputId": "bfa1e1b1-b6a1-4648-e622-4f2738819762"
      },
      "outputs": [
        {
          "name": "stdout",
          "output_type": "stream",
          "text": [
            "479\n",
            "137\n",
            "68\n"
          ]
        }
      ],
      "source": [
        "print(len(train))\n",
        "print(len(val))\n",
        "print(len(test))"
      ]
    },
    {
      "cell_type": "markdown",
      "metadata": {
        "id": "6dCPhZMuSbAw"
      },
      "source": [
        "# Visualise the images in the batches"
      ]
    },
    {
      "cell_type": "code",
      "execution_count": 14,
      "metadata": {
        "colab": {
          "base_uri": "https://localhost:8080/",
          "height": 209
        },
        "id": "9FOJu73XSdEM",
        "outputId": "2e7f6f43-b003-477d-9cce-711d39e09958"
      },
      "outputs": [
        {
          "data": {
            "image/png": "[encoded data removed]",
            "text/plain": [
              "<Figure size 1440x1440 with 4 Axes>"
            ]
          },
          "metadata": {
            "needs_background": "light"
          },
          "output_type": "display_data"
        }
      ],
      "source": [
        "fig, ax = plt.subplots(ncols=4, figsize=(20,20))\n",
        "for idx, img in enumerate(batch[0][8:12]):\n",
        "    ax[idx].imshow(img.astype(int))\n",
        "    ax[idx].title.set_text(batch[1][idx])\n",
        "\n",
        "# 0 --> fake\n",
        "# 1 --> real"
      ]
    },
    {
      "cell_type": "markdown",
      "metadata": {
        "id": "s55pm52KI9n7"
      },
      "source": [
        "# InceptionResnet Model"
      ]
    },
    {
      "cell_type": "code",
      "execution_count": 15,
      "metadata": {
        "id": "MOjenkNgI4pt"
      },
      "outputs": [],
      "source": [
        "from keras.applications.inception_resnet_v2 import InceptionResNetV2, decode_predictions, preprocess_input\n",
        "\n",
        "inception_model = InceptionResNetV2(include_top = False,\n",
        "                          weights='imagenet',\n",
        "                          input_shape = (512,512,3))\n",
        "\n"
      ]
    },
    {
      "cell_type": "code",
      "execution_count": 16,
      "metadata": {
        "id": "1hRIY2qlI4rI"
      },
      "outputs": [],
      "source": [
        "model = models.Sequential()\n",
        "model.add(inception_model)\n",
        "model.add(layers.Flatten())\n",
        "model.add(layers.Dense(512, activation='relu'))\n",
        "model.add(layers.Dense(2, activation='softmax'))"
      ]
    },
    {
      "cell_type": "code",
      "execution_count": 17,
      "metadata": {
        "colab": {
          "base_uri": "https://localhost:8080/"
        },
        "id": "YualuUxwRwdr",
        "outputId": "b3df1c80-8ad5-42cd-b509-310ee8c45e1a"
      },
      "outputs": [
        {
          "name": "stdout",
          "output_type": "stream",
          "text": [
            "Model: \"sequential\"\n",
            "_________________________________________________________________\n",
            " Layer (type)                Output Shape              Param #   \n",
            "=================================================================\n",
            " inception_resnet_v2 (Functi  (None, 14, 14, 1536)     54336736  \n",
            " onal)                                                           \n",
            "                                                                 \n",
            " flatten (Flatten)           (None, 301056)            0         \n",
            "                                                                 \n",
            " dense (Dense)               (None, 512)               154141184 \n",
            "                                                                 \n",
            " dense_1 (Dense)             (None, 2)                 1026      \n",
            "                                                                 \n",
            "=================================================================\n",
            "Total params: 208,478,946\n",
            "Trainable params: 208,418,402\n",
            "Non-trainable params: 60,544\n",
            "_________________________________________________________________\n"
          ]
        }
      ],
      "source": [
        "model.summary()"
      ]
    },
    {
      "cell_type": "code",
      "execution_count": 18,
      "metadata": {
        "id": "8RKuMluCI4su"
      },
      "outputs": [],
      "source": [
        "model.compile(optimizer = 'adam',\n",
        "              loss = 'sparse_categorical_crossentropy',\n",
        "              metrics = ['accuracy'])"
      ]
    },
    {
      "cell_type": "code",
      "execution_count": 19,
      "metadata": {},
      "outputs": [],
      "source": [
        "# tf.keras.applications.inception_resnet_v2.preprocess_input(data)"
      ]
    },
    {
      "cell_type": "code",
      "execution_count": 20,
      "metadata": {
        "colab": {
          "base_uri": "https://localhost:8080/"
        },
        "id": "IXJHAyiuNHdu",
        "outputId": "65be202b-541f-43b2-ca3f-756f2362d50d"
      },
      "outputs": [
        {
          "name": "stdout",
          "output_type": "stream",
          "text": [
            "Epoch 1/20\n"
          ]
        },
        {
          "name": "stderr",
          "output_type": "stream",
          "text": [
            "2022-10-19 20:01:41.780230: I tensorflow/stream_executor/cuda/cuda_dnn.cc:384] Loaded cuDNN version 8500\n",
            "2022-10-19 20:01:42.145663: W tensorflow/stream_executor/gpu/asm_compiler.cc:111] *** WARNING *** You are using ptxas 10.1.243, which is older than 11.1. ptxas before 11.1 is known to miscompile XLA code, leading to incorrect results or invalid-address errors.\n",
            "\n",
            "You may not need to update to CUDA 11.1; cherry-picking the ptxas binary is often sufficient.\n",
            "2022-10-19 20:01:42.148849: W tensorflow/stream_executor/gpu/asm_compiler.cc:230] Falling back to the CUDA driver for PTX compilation; ptxas does not support CC 8.6\n",
            "2022-10-19 20:01:42.148862: W tensorflow/stream_executor/gpu/asm_compiler.cc:233] Used ptxas at ptxas\n",
            "2022-10-19 20:01:42.148932: W tensorflow/stream_executor/gpu/redzone_allocator.cc:314] UNIMPLEMENTED: ptxas ptxas too old. Falling back to the driver to compile.\n",
            "Relying on driver to perform ptx compilation. \n",
            "Modify $PATH to customize ptxas location.\n",
            "This message will be only logged once.\n",
            "2022-10-19 20:01:42.264536: I tensorflow/stream_executor/cuda/cuda_blas.cc:1614] TensorFloat-32 will be used for the matrix multiplication. This will only be logged once.\n"
          ]
        },
        {
          "name": "stdout",
          "output_type": "stream",
          "text": [
            "119/479 [======>.......................] - ETA: 2:14 - loss: 6.0134 - accuracy: 0.7059"
          ]
        },
        {
          "name": "stderr",
          "output_type": "stream",
          "text": [
            "2022-10-19 20:02:29.660950: W tensorflow/core/lib/png/png_io.cc:88] PNG warning: iCCP: known incorrect sRGB profile\n"
          ]
        },
        {
          "name": "stdout",
          "output_type": "stream",
          "text": [
            "219/479 [============>.................] - ETA: 1:37 - loss: 3.4743 - accuracy: 0.7514"
          ]
        },
        {
          "name": "stderr",
          "output_type": "stream",
          "text": [
            "2022-10-19 20:03:07.194648: W tensorflow/core/lib/png/png_io.cc:88] PNG warning: iCCP: known incorrect sRGB profile\n"
          ]
        },
        {
          "name": "stdout",
          "output_type": "stream",
          "text": [
            "479/479 [==============================] - ETA: 0s - loss: 1.7608 - accuracy: 0.8074"
          ]
        },
        {
          "name": "stderr",
          "output_type": "stream",
          "text": [
            "2022-10-19 20:04:50.010313: W tensorflow/core/lib/png/png_io.cc:88] PNG warning: iCCP: known incorrect sRGB profile\n",
            "2022-10-19 20:04:51.502669: W tensorflow/core/lib/png/png_io.cc:88] PNG warning: iCCP: known incorrect sRGB profile\n",
            "2022-10-19 20:05:05.864947: W tensorflow/core/lib/png/png_io.cc:88] PNG warning: iCCP: known incorrect sRGB profile\n"
          ]
        },
        {
          "name": "stdout",
          "output_type": "stream",
          "text": [
            "479/479 [==============================] - 222s 431ms/step - loss: 1.7608 - accuracy: 0.8074 - val_loss: 0.2204 - val_accuracy: 0.8937\n",
            "Epoch 2/20\n",
            "119/479 [======>.......................] - ETA: 2:15 - loss: 0.2160 - accuracy: 0.8944"
          ]
        },
        {
          "name": "stderr",
          "output_type": "stream",
          "text": [
            "2022-10-19 20:05:56.560127: W tensorflow/core/lib/png/png_io.cc:88] PNG warning: iCCP: known incorrect sRGB profile\n"
          ]
        },
        {
          "name": "stdout",
          "output_type": "stream",
          "text": [
            "219/479 [============>.................] - ETA: 1:37 - loss: 0.1952 - accuracy: 0.9067"
          ]
        },
        {
          "name": "stderr",
          "output_type": "stream",
          "text": [
            "2022-10-19 20:06:34.261990: W tensorflow/core/lib/png/png_io.cc:88] PNG warning: iCCP: known incorrect sRGB profile\n"
          ]
        },
        {
          "name": "stdout",
          "output_type": "stream",
          "text": [
            "479/479 [==============================] - ETA: 0s - loss: 0.1748 - accuracy: 0.9154"
          ]
        },
        {
          "name": "stderr",
          "output_type": "stream",
          "text": [
            "2022-10-19 20:08:15.095054: W tensorflow/core/lib/png/png_io.cc:88] PNG warning: iCCP: known incorrect sRGB profile\n",
            "2022-10-19 20:08:16.606055: W tensorflow/core/lib/png/png_io.cc:88] PNG warning: iCCP: known incorrect sRGB profile\n",
            "2022-10-19 20:08:30.937477: W tensorflow/core/lib/png/png_io.cc:88] PNG warning: iCCP: known incorrect sRGB profile\n"
          ]
        },
        {
          "name": "stdout",
          "output_type": "stream",
          "text": [
            "479/479 [==============================] - 205s 428ms/step - loss: 0.1748 - accuracy: 0.9154 - val_loss: 0.1503 - val_accuracy: 0.9229\n",
            "Epoch 3/20\n",
            "119/479 [======>.......................] - ETA: 2:15 - loss: 0.1358 - accuracy: 0.9407"
          ]
        },
        {
          "name": "stderr",
          "output_type": "stream",
          "text": [
            "2022-10-19 20:09:21.709971: W tensorflow/core/lib/png/png_io.cc:88] PNG warning: iCCP: known incorrect sRGB profile\n"
          ]
        },
        {
          "name": "stdout",
          "output_type": "stream",
          "text": [
            "219/479 [============>.................] - ETA: 1:38 - loss: 0.1287 - accuracy: 0.9398"
          ]
        },
        {
          "name": "stderr",
          "output_type": "stream",
          "text": [
            "2022-10-19 20:09:59.483064: W tensorflow/core/lib/png/png_io.cc:88] PNG warning: iCCP: known incorrect sRGB profile\n"
          ]
        },
        {
          "name": "stdout",
          "output_type": "stream",
          "text": [
            "479/479 [==============================] - ETA: 0s - loss: 0.1276 - accuracy: 0.9408"
          ]
        },
        {
          "name": "stderr",
          "output_type": "stream",
          "text": [
            "2022-10-19 20:11:40.431540: W tensorflow/core/lib/png/png_io.cc:88] PNG warning: iCCP: known incorrect sRGB profile\n",
            "2022-10-19 20:11:42.036844: W tensorflow/core/lib/png/png_io.cc:88] PNG warning: iCCP: known incorrect sRGB profile\n",
            "2022-10-19 20:11:56.338412: W tensorflow/core/lib/png/png_io.cc:88] PNG warning: iCCP: known incorrect sRGB profile\n"
          ]
        },
        {
          "name": "stdout",
          "output_type": "stream",
          "text": [
            "479/479 [==============================] - 205s 428ms/step - loss: 0.1276 - accuracy: 0.9408 - val_loss: 0.1656 - val_accuracy: 0.9211\n",
            "Epoch 4/20\n",
            "119/479 [======>.......................] - ETA: 2:16 - loss: 0.1168 - accuracy: 0.9517"
          ]
        },
        {
          "name": "stderr",
          "output_type": "stream",
          "text": [
            "2022-10-19 20:12:47.242539: W tensorflow/core/lib/png/png_io.cc:88] PNG warning: iCCP: known incorrect sRGB profile\n"
          ]
        },
        {
          "name": "stdout",
          "output_type": "stream",
          "text": [
            "219/479 [============>.................] - ETA: 1:38 - loss: 0.1190 - accuracy: 0.9489"
          ]
        },
        {
          "name": "stderr",
          "output_type": "stream",
          "text": [
            "2022-10-19 20:13:25.042579: W tensorflow/core/lib/png/png_io.cc:88] PNG warning: iCCP: known incorrect sRGB profile\n"
          ]
        },
        {
          "name": "stdout",
          "output_type": "stream",
          "text": [
            "479/479 [==============================] - ETA: 0s - loss: 0.1969 - accuracy: 0.9370"
          ]
        },
        {
          "name": "stderr",
          "output_type": "stream",
          "text": [
            "2022-10-19 20:15:06.169672: W tensorflow/core/lib/png/png_io.cc:88] PNG warning: iCCP: known incorrect sRGB profile\n",
            "2022-10-19 20:15:07.658969: W tensorflow/core/lib/png/png_io.cc:88] PNG warning: iCCP: known incorrect sRGB profile\n",
            "2022-10-19 20:15:22.105401: W tensorflow/core/lib/png/png_io.cc:88] PNG warning: iCCP: known incorrect sRGB profile\n"
          ]
        },
        {
          "name": "stdout",
          "output_type": "stream",
          "text": [
            "479/479 [==============================] - 206s 429ms/step - loss: 0.1969 - accuracy: 0.9370 - val_loss: 2.2868 - val_accuracy: 0.5963\n",
            "Epoch 5/20\n",
            "119/479 [======>.......................] - ETA: 2:15 - loss: 0.4624 - accuracy: 0.8619"
          ]
        },
        {
          "name": "stderr",
          "output_type": "stream",
          "text": [
            "2022-10-19 20:16:12.981008: W tensorflow/core/lib/png/png_io.cc:88] PNG warning: iCCP: known incorrect sRGB profile\n"
          ]
        },
        {
          "name": "stdout",
          "output_type": "stream",
          "text": [
            "219/479 [============>.................] - ETA: 1:38 - loss: 0.3345 - accuracy: 0.8847"
          ]
        },
        {
          "name": "stderr",
          "output_type": "stream",
          "text": [
            "2022-10-19 20:16:50.778491: W tensorflow/core/lib/png/png_io.cc:88] PNG warning: iCCP: known incorrect sRGB profile\n"
          ]
        },
        {
          "name": "stdout",
          "output_type": "stream",
          "text": [
            "479/479 [==============================] - ETA: 0s - loss: 0.2414 - accuracy: 0.9025"
          ]
        },
        {
          "name": "stderr",
          "output_type": "stream",
          "text": [
            "2022-10-19 20:18:31.753628: W tensorflow/core/lib/png/png_io.cc:88] PNG warning: iCCP: known incorrect sRGB profile\n",
            "2022-10-19 20:18:33.278825: W tensorflow/core/lib/png/png_io.cc:88] PNG warning: iCCP: known incorrect sRGB profile\n",
            "2022-10-19 20:18:47.635746: W tensorflow/core/lib/png/png_io.cc:88] PNG warning: iCCP: known incorrect sRGB profile\n"
          ]
        },
        {
          "name": "stdout",
          "output_type": "stream",
          "text": [
            "479/479 [==============================] - 206s 429ms/step - loss: 0.2414 - accuracy: 0.9025 - val_loss: 0.1319 - val_accuracy: 0.9343\n",
            "Epoch 6/20\n",
            "119/479 [======>.......................] - ETA: 2:15 - loss: 0.1395 - accuracy: 0.9301"
          ]
        },
        {
          "name": "stderr",
          "output_type": "stream",
          "text": [
            "2022-10-19 20:19:38.561649: W tensorflow/core/lib/png/png_io.cc:88] PNG warning: iCCP: known incorrect sRGB profile\n"
          ]
        },
        {
          "name": "stdout",
          "output_type": "stream",
          "text": [
            "219/479 [============>.................] - ETA: 1:38 - loss: 0.1414 - accuracy: 0.9332"
          ]
        },
        {
          "name": "stderr",
          "output_type": "stream",
          "text": [
            "2022-10-19 20:20:16.384541: W tensorflow/core/lib/png/png_io.cc:88] PNG warning: iCCP: known incorrect sRGB profile\n"
          ]
        },
        {
          "name": "stdout",
          "output_type": "stream",
          "text": [
            "479/479 [==============================] - ETA: 0s - loss: 0.1512 - accuracy: 0.9315"
          ]
        },
        {
          "name": "stderr",
          "output_type": "stream",
          "text": [
            "2022-10-19 20:21:57.445725: W tensorflow/core/lib/png/png_io.cc:88] PNG warning: iCCP: known incorrect sRGB profile\n",
            "2022-10-19 20:21:59.027186: W tensorflow/core/lib/png/png_io.cc:88] PNG warning: iCCP: known incorrect sRGB profile\n",
            "2022-10-19 20:22:13.314346: W tensorflow/core/lib/png/png_io.cc:88] PNG warning: iCCP: known incorrect sRGB profile\n"
          ]
        },
        {
          "name": "stdout",
          "output_type": "stream",
          "text": [
            "479/479 [==============================] - 206s 429ms/step - loss: 0.1512 - accuracy: 0.9315 - val_loss: 0.1673 - val_accuracy: 0.9156\n",
            "Epoch 7/20\n",
            "119/479 [======>.......................] - ETA: 2:15 - loss: 0.1236 - accuracy: 0.9422"
          ]
        },
        {
          "name": "stderr",
          "output_type": "stream",
          "text": [
            "2022-10-19 20:23:04.188190: W tensorflow/core/lib/png/png_io.cc:88] PNG warning: iCCP: known incorrect sRGB profile\n"
          ]
        },
        {
          "name": "stdout",
          "output_type": "stream",
          "text": [
            "219/479 [============>.................] - ETA: 1:38 - loss: 0.1160 - accuracy: 0.9483"
          ]
        },
        {
          "name": "stderr",
          "output_type": "stream",
          "text": [
            "2022-10-19 20:23:42.061500: W tensorflow/core/lib/png/png_io.cc:88] PNG warning: iCCP: known incorrect sRGB profile\n"
          ]
        },
        {
          "name": "stdout",
          "output_type": "stream",
          "text": [
            "479/479 [==============================] - ETA: 0s - loss: 0.1084 - accuracy: 0.9505"
          ]
        },
        {
          "name": "stderr",
          "output_type": "stream",
          "text": [
            "2022-10-19 20:25:23.063521: W tensorflow/core/lib/png/png_io.cc:88] PNG warning: iCCP: known incorrect sRGB profile\n",
            "2022-10-19 20:25:24.566741: W tensorflow/core/lib/png/png_io.cc:88] PNG warning: iCCP: known incorrect sRGB profile\n",
            "2022-10-19 20:25:39.049348: W tensorflow/core/lib/png/png_io.cc:88] PNG warning: iCCP: known incorrect sRGB profile\n"
          ]
        },
        {
          "name": "stdout",
          "output_type": "stream",
          "text": [
            "479/479 [==============================] - 206s 429ms/step - loss: 0.1084 - accuracy: 0.9505 - val_loss: 0.1523 - val_accuracy: 0.9234\n",
            "Epoch 8/20\n",
            "121/479 [======>.......................] - ETA: 2:15 - loss: 0.0803 - accuracy: 0.9597"
          ]
        },
        {
          "name": "stderr",
          "output_type": "stream",
          "text": [
            "2022-10-19 20:26:30.666278: W tensorflow/core/lib/png/png_io.cc:88] PNG warning: iCCP: known incorrect sRGB profile\n"
          ]
        },
        {
          "name": "stdout",
          "output_type": "stream",
          "text": [
            "221/479 [============>.................] - ETA: 1:37 - loss: 0.0755 - accuracy: 0.9635"
          ]
        },
        {
          "name": "stderr",
          "output_type": "stream",
          "text": [
            "2022-10-19 20:27:08.490101: W tensorflow/core/lib/png/png_io.cc:88] PNG warning: iCCP: known incorrect sRGB profile\n"
          ]
        },
        {
          "name": "stdout",
          "output_type": "stream",
          "text": [
            "479/479 [==============================] - ETA: 0s - loss: 0.0977 - accuracy: 0.9576"
          ]
        },
        {
          "name": "stderr",
          "output_type": "stream",
          "text": [
            "2022-10-19 20:28:48.726270: W tensorflow/core/lib/png/png_io.cc:88] PNG warning: iCCP: known incorrect sRGB profile\n",
            "2022-10-19 20:28:50.299456: W tensorflow/core/lib/png/png_io.cc:88] PNG warning: iCCP: known incorrect sRGB profile\n",
            "2022-10-19 20:29:04.503401: W tensorflow/core/lib/png/png_io.cc:88] PNG warning: iCCP: known incorrect sRGB profile\n"
          ]
        },
        {
          "name": "stdout",
          "output_type": "stream",
          "text": [
            "479/479 [==============================] - 205s 429ms/step - loss: 0.0977 - accuracy: 0.9576 - val_loss: 0.1415 - val_accuracy: 0.9256\n",
            "Epoch 9/20\n",
            "121/479 [======>.......................] - ETA: 2:15 - loss: 0.0986 - accuracy: 0.9551"
          ]
        },
        {
          "name": "stderr",
          "output_type": "stream",
          "text": [
            "2022-10-19 20:29:56.198406: W tensorflow/core/lib/png/png_io.cc:88] PNG warning: iCCP: known incorrect sRGB profile\n"
          ]
        },
        {
          "name": "stdout",
          "output_type": "stream",
          "text": [
            "221/479 [============>.................] - ETA: 1:37 - loss: 0.0856 - accuracy: 0.9615"
          ]
        },
        {
          "name": "stderr",
          "output_type": "stream",
          "text": [
            "2022-10-19 20:30:34.017201: W tensorflow/core/lib/png/png_io.cc:88] PNG warning: iCCP: known incorrect sRGB profile\n"
          ]
        },
        {
          "name": "stdout",
          "output_type": "stream",
          "text": [
            "479/479 [==============================] - ETA: 0s - loss: 0.0866 - accuracy: 0.9615"
          ]
        },
        {
          "name": "stderr",
          "output_type": "stream",
          "text": [
            "2022-10-19 20:32:14.299492: W tensorflow/core/lib/png/png_io.cc:88] PNG warning: iCCP: known incorrect sRGB profile\n",
            "2022-10-19 20:32:15.827554: W tensorflow/core/lib/png/png_io.cc:88] PNG warning: iCCP: known incorrect sRGB profile\n",
            "2022-10-19 20:32:30.090542: W tensorflow/core/lib/png/png_io.cc:88] PNG warning: iCCP: known incorrect sRGB profile\n"
          ]
        },
        {
          "name": "stdout",
          "output_type": "stream",
          "text": [
            "479/479 [==============================] - 206s 429ms/step - loss: 0.0866 - accuracy: 0.9615 - val_loss: 0.2291 - val_accuracy: 0.9129\n",
            "Epoch 10/20\n",
            "121/479 [======>.......................] - ETA: 2:15 - loss: 0.0764 - accuracy: 0.9680"
          ]
        },
        {
          "name": "stderr",
          "output_type": "stream",
          "text": [
            "2022-10-19 20:33:21.746783: W tensorflow/core/lib/png/png_io.cc:88] PNG warning: iCCP: known incorrect sRGB profile\n"
          ]
        },
        {
          "name": "stdout",
          "output_type": "stream",
          "text": [
            "221/479 [============>.................] - ETA: 1:37 - loss: 0.0787 - accuracy: 0.9658"
          ]
        },
        {
          "name": "stderr",
          "output_type": "stream",
          "text": [
            "2022-10-19 20:33:59.551440: W tensorflow/core/lib/png/png_io.cc:88] PNG warning: iCCP: known incorrect sRGB profile\n"
          ]
        },
        {
          "name": "stdout",
          "output_type": "stream",
          "text": [
            "479/479 [==============================] - ETA: 0s - loss: 0.0829 - accuracy: 0.9657"
          ]
        },
        {
          "name": "stderr",
          "output_type": "stream",
          "text": [
            "2022-10-19 20:35:40.005192: W tensorflow/core/lib/png/png_io.cc:88] PNG warning: iCCP: known incorrect sRGB profile\n",
            "2022-10-19 20:35:41.516599: W tensorflow/core/lib/png/png_io.cc:88] PNG warning: iCCP: known incorrect sRGB profile\n",
            "2022-10-19 20:35:55.893240: W tensorflow/core/lib/png/png_io.cc:88] PNG warning: iCCP: known incorrect sRGB profile\n"
          ]
        },
        {
          "name": "stdout",
          "output_type": "stream",
          "text": [
            "479/479 [==============================] - 206s 429ms/step - loss: 0.0829 - accuracy: 0.9657 - val_loss: 0.1646 - val_accuracy: 0.9311\n",
            "Epoch 11/20\n",
            "121/479 [======>.......................] - ETA: 2:15 - loss: 0.1152 - accuracy: 0.9540"
          ]
        },
        {
          "name": "stderr",
          "output_type": "stream",
          "text": [
            "2022-10-19 20:36:47.562691: W tensorflow/core/lib/png/png_io.cc:88] PNG warning: iCCP: known incorrect sRGB profile\n"
          ]
        },
        {
          "name": "stdout",
          "output_type": "stream",
          "text": [
            "221/479 [============>.................] - ETA: 1:37 - loss: 0.1017 - accuracy: 0.9581"
          ]
        },
        {
          "name": "stderr",
          "output_type": "stream",
          "text": [
            "2022-10-19 20:37:25.392534: W tensorflow/core/lib/png/png_io.cc:88] PNG warning: iCCP: known incorrect sRGB profile\n"
          ]
        },
        {
          "name": "stdout",
          "output_type": "stream",
          "text": [
            "479/479 [==============================] - ETA: 0s - loss: 0.0861 - accuracy: 0.9666"
          ]
        },
        {
          "name": "stderr",
          "output_type": "stream",
          "text": [
            "2022-10-19 20:39:05.731623: W tensorflow/core/lib/png/png_io.cc:88] PNG warning: iCCP: known incorrect sRGB profile\n",
            "2022-10-19 20:39:07.231162: W tensorflow/core/lib/png/png_io.cc:88] PNG warning: iCCP: known incorrect sRGB profile\n",
            "2022-10-19 20:39:21.649482: W tensorflow/core/lib/png/png_io.cc:88] PNG warning: iCCP: known incorrect sRGB profile\n"
          ]
        },
        {
          "name": "stdout",
          "output_type": "stream",
          "text": [
            "479/479 [==============================] - 206s 429ms/step - loss: 0.0861 - accuracy: 0.9666 - val_loss: 0.4734 - val_accuracy: 0.8882\n",
            "Epoch 12/20\n",
            "119/479 [======>.......................] - ETA: 2:16 - loss: 0.0710 - accuracy: 0.9701"
          ]
        },
        {
          "name": "stderr",
          "output_type": "stream",
          "text": [
            "2022-10-19 20:40:12.613970: W tensorflow/core/lib/png/png_io.cc:88] PNG warning: iCCP: known incorrect sRGB profile\n"
          ]
        },
        {
          "name": "stdout",
          "output_type": "stream",
          "text": [
            "219/479 [============>.................] - ETA: 1:38 - loss: 0.0769 - accuracy: 0.9663"
          ]
        },
        {
          "name": "stderr",
          "output_type": "stream",
          "text": [
            "2022-10-19 20:40:50.415491: W tensorflow/core/lib/png/png_io.cc:88] PNG warning: iCCP: known incorrect sRGB profile\n"
          ]
        },
        {
          "name": "stdout",
          "output_type": "stream",
          "text": [
            "479/479 [==============================] - ETA: 0s - loss: 0.0737 - accuracy: 0.9708"
          ]
        },
        {
          "name": "stderr",
          "output_type": "stream",
          "text": [
            "2022-10-19 20:42:31.526736: W tensorflow/core/lib/png/png_io.cc:88] PNG warning: iCCP: known incorrect sRGB profile\n",
            "2022-10-19 20:42:33.045010: W tensorflow/core/lib/png/png_io.cc:88] PNG warning: iCCP: known incorrect sRGB profile\n",
            "2022-10-19 20:42:47.449041: W tensorflow/core/lib/png/png_io.cc:88] PNG warning: iCCP: known incorrect sRGB profile\n"
          ]
        },
        {
          "name": "stdout",
          "output_type": "stream",
          "text": [
            "479/479 [==============================] - 206s 429ms/step - loss: 0.0737 - accuracy: 0.9708 - val_loss: 0.1819 - val_accuracy: 0.9266\n",
            "Epoch 13/20\n",
            "121/479 [======>.......................] - ETA: 2:15 - loss: 0.0705 - accuracy: 0.9752"
          ]
        },
        {
          "name": "stderr",
          "output_type": "stream",
          "text": [
            "2022-10-19 20:43:39.111823: W tensorflow/core/lib/png/png_io.cc:88] PNG warning: iCCP: known incorrect sRGB profile\n"
          ]
        },
        {
          "name": "stdout",
          "output_type": "stream",
          "text": [
            "221/479 [============>.................] - ETA: 1:37 - loss: 0.0658 - accuracy: 0.9751"
          ]
        },
        {
          "name": "stderr",
          "output_type": "stream",
          "text": [
            "2022-10-19 20:44:16.963966: W tensorflow/core/lib/png/png_io.cc:88] PNG warning: iCCP: known incorrect sRGB profile\n"
          ]
        },
        {
          "name": "stdout",
          "output_type": "stream",
          "text": [
            "479/479 [==============================] - ETA: 0s - loss: 0.0629 - accuracy: 0.9753"
          ]
        },
        {
          "name": "stderr",
          "output_type": "stream",
          "text": [
            "2022-10-19 20:45:57.282895: W tensorflow/core/lib/png/png_io.cc:88] PNG warning: iCCP: known incorrect sRGB profile\n",
            "2022-10-19 20:45:58.767397: W tensorflow/core/lib/png/png_io.cc:88] PNG warning: iCCP: known incorrect sRGB profile\n",
            "2022-10-19 20:46:13.108689: W tensorflow/core/lib/png/png_io.cc:88] PNG warning: iCCP: known incorrect sRGB profile\n"
          ]
        },
        {
          "name": "stdout",
          "output_type": "stream",
          "text": [
            "479/479 [==============================] - 206s 429ms/step - loss: 0.0629 - accuracy: 0.9753 - val_loss: 0.2242 - val_accuracy: 0.9220\n",
            "Epoch 14/20\n",
            "119/479 [======>.......................] - ETA: 2:16 - loss: 0.0691 - accuracy: 0.9753"
          ]
        },
        {
          "name": "stderr",
          "output_type": "stream",
          "text": [
            "2022-10-19 20:47:04.025089: W tensorflow/core/lib/png/png_io.cc:88] PNG warning: iCCP: known incorrect sRGB profile\n"
          ]
        },
        {
          "name": "stdout",
          "output_type": "stream",
          "text": [
            "219/479 [============>.................] - ETA: 1:38 - loss: 0.0730 - accuracy: 0.9723"
          ]
        },
        {
          "name": "stderr",
          "output_type": "stream",
          "text": [
            "2022-10-19 20:47:41.851486: W tensorflow/core/lib/png/png_io.cc:88] PNG warning: iCCP: known incorrect sRGB profile\n"
          ]
        },
        {
          "name": "stdout",
          "output_type": "stream",
          "text": [
            "479/479 [==============================] - ETA: 0s - loss: 0.0944 - accuracy: 0.9666"
          ]
        },
        {
          "name": "stderr",
          "output_type": "stream",
          "text": [
            "2022-10-19 20:49:23.103370: W tensorflow/core/lib/png/png_io.cc:88] PNG warning: iCCP: known incorrect sRGB profile\n",
            "2022-10-19 20:49:24.694859: W tensorflow/core/lib/png/png_io.cc:88] PNG warning: iCCP: known incorrect sRGB profile\n",
            "2022-10-19 20:49:39.098059: W tensorflow/core/lib/png/png_io.cc:88] PNG warning: iCCP: known incorrect sRGB profile\n"
          ]
        },
        {
          "name": "stdout",
          "output_type": "stream",
          "text": [
            "479/479 [==============================] - 206s 430ms/step - loss: 0.0944 - accuracy: 0.9666 - val_loss: 0.1440 - val_accuracy: 0.9220\n",
            "Epoch 15/20\n",
            "119/479 [======>.......................] - ETA: 2:16 - loss: 0.0911 - accuracy: 0.9706"
          ]
        },
        {
          "name": "stderr",
          "output_type": "stream",
          "text": [
            "2022-10-19 20:50:30.237759: W tensorflow/core/lib/png/png_io.cc:88] PNG warning: iCCP: known incorrect sRGB profile\n"
          ]
        },
        {
          "name": "stdout",
          "output_type": "stream",
          "text": [
            "219/479 [============>.................] - ETA: 1:38 - loss: 0.0799 - accuracy: 0.9717"
          ]
        },
        {
          "name": "stderr",
          "output_type": "stream",
          "text": [
            "2022-10-19 20:51:08.156974: W tensorflow/core/lib/png/png_io.cc:88] PNG warning: iCCP: known incorrect sRGB profile\n"
          ]
        },
        {
          "name": "stdout",
          "output_type": "stream",
          "text": [
            "479/479 [==============================] - ETA: 0s - loss: 0.0767 - accuracy: 0.9714"
          ]
        },
        {
          "name": "stderr",
          "output_type": "stream",
          "text": [
            "2022-10-19 20:52:49.525469: W tensorflow/core/lib/png/png_io.cc:88] PNG warning: iCCP: known incorrect sRGB profile\n",
            "2022-10-19 20:52:51.052196: W tensorflow/core/lib/png/png_io.cc:88] PNG warning: iCCP: known incorrect sRGB profile\n",
            "2022-10-19 20:53:05.399869: W tensorflow/core/lib/png/png_io.cc:88] PNG warning: iCCP: known incorrect sRGB profile\n"
          ]
        },
        {
          "name": "stdout",
          "output_type": "stream",
          "text": [
            "479/479 [==============================] - 206s 430ms/step - loss: 0.0767 - accuracy: 0.9714 - val_loss: 0.2999 - val_accuracy: 0.8969\n",
            "Epoch 16/20\n",
            "121/479 [======>.......................] - ETA: 2:15 - loss: 0.1198 - accuracy: 0.9576"
          ]
        },
        {
          "name": "stderr",
          "output_type": "stream",
          "text": [
            "2022-10-19 20:53:57.066024: W tensorflow/core/lib/png/png_io.cc:88] PNG warning: iCCP: known incorrect sRGB profile\n"
          ]
        },
        {
          "name": "stdout",
          "output_type": "stream",
          "text": [
            "221/479 [============>.................] - ETA: 1:37 - loss: 0.1081 - accuracy: 0.9613"
          ]
        },
        {
          "name": "stderr",
          "output_type": "stream",
          "text": [
            "2022-10-19 20:54:34.906562: W tensorflow/core/lib/png/png_io.cc:88] PNG warning: iCCP: known incorrect sRGB profile\n"
          ]
        },
        {
          "name": "stdout",
          "output_type": "stream",
          "text": [
            "479/479 [==============================] - ETA: 0s - loss: 0.0976 - accuracy: 0.9628"
          ]
        },
        {
          "name": "stderr",
          "output_type": "stream",
          "text": [
            "2022-10-19 20:56:15.425467: W tensorflow/core/lib/png/png_io.cc:88] PNG warning: iCCP: known incorrect sRGB profile\n",
            "2022-10-19 20:56:17.021401: W tensorflow/core/lib/png/png_io.cc:88] PNG warning: iCCP: known incorrect sRGB profile\n",
            "2022-10-19 20:56:31.314386: W tensorflow/core/lib/png/png_io.cc:88] PNG warning: iCCP: known incorrect sRGB profile\n"
          ]
        },
        {
          "name": "stdout",
          "output_type": "stream",
          "text": [
            "479/479 [==============================] - 206s 430ms/step - loss: 0.0976 - accuracy: 0.9628 - val_loss: 7.7461 - val_accuracy: 0.7956\n",
            "Epoch 17/20\n",
            "121/479 [======>.......................] - ETA: 2:15 - loss: 0.0737 - accuracy: 0.9731"
          ]
        },
        {
          "name": "stderr",
          "output_type": "stream",
          "text": [
            "2022-10-19 20:57:23.085443: W tensorflow/core/lib/png/png_io.cc:88] PNG warning: iCCP: known incorrect sRGB profile\n"
          ]
        },
        {
          "name": "stdout",
          "output_type": "stream",
          "text": [
            "221/479 [============>.................] - ETA: 1:37 - loss: 0.0712 - accuracy: 0.9714"
          ]
        },
        {
          "name": "stderr",
          "output_type": "stream",
          "text": [
            "2022-10-19 20:58:00.916576: W tensorflow/core/lib/png/png_io.cc:88] PNG warning: iCCP: known incorrect sRGB profile\n"
          ]
        },
        {
          "name": "stdout",
          "output_type": "stream",
          "text": [
            "479/479 [==============================] - ETA: 0s - loss: 0.0789 - accuracy: 0.9683"
          ]
        },
        {
          "name": "stderr",
          "output_type": "stream",
          "text": [
            "2022-10-19 20:59:41.362624: W tensorflow/core/lib/png/png_io.cc:88] PNG warning: iCCP: known incorrect sRGB profile\n",
            "2022-10-19 20:59:42.917543: W tensorflow/core/lib/png/png_io.cc:88] PNG warning: iCCP: known incorrect sRGB profile\n",
            "2022-10-19 20:59:57.212574: W tensorflow/core/lib/png/png_io.cc:88] PNG warning: iCCP: known incorrect sRGB profile\n"
          ]
        },
        {
          "name": "stdout",
          "output_type": "stream",
          "text": [
            "479/479 [==============================] - 206s 429ms/step - loss: 0.0789 - accuracy: 0.9683 - val_loss: 0.3564 - val_accuracy: 0.8992\n",
            "Epoch 18/20\n",
            "121/479 [======>.......................] - ETA: 2:15 - loss: 0.1128 - accuracy: 0.9597"
          ]
        },
        {
          "name": "stderr",
          "output_type": "stream",
          "text": [
            "2022-10-19 21:00:48.846257: W tensorflow/core/lib/png/png_io.cc:88] PNG warning: iCCP: known incorrect sRGB profile\n"
          ]
        },
        {
          "name": "stdout",
          "output_type": "stream",
          "text": [
            "221/479 [============>.................] - ETA: 1:37 - loss: 0.0872 - accuracy: 0.9678"
          ]
        },
        {
          "name": "stderr",
          "output_type": "stream",
          "text": [
            "2022-10-19 21:01:26.636036: W tensorflow/core/lib/png/png_io.cc:88] PNG warning: iCCP: known incorrect sRGB profile\n"
          ]
        },
        {
          "name": "stdout",
          "output_type": "stream",
          "text": [
            "479/479 [==============================] - ETA: 0s - loss: 0.0800 - accuracy: 0.9682"
          ]
        },
        {
          "name": "stderr",
          "output_type": "stream",
          "text": [
            "2022-10-19 21:03:06.972906: W tensorflow/core/lib/png/png_io.cc:88] PNG warning: iCCP: known incorrect sRGB profile\n",
            "2022-10-19 21:03:08.523817: W tensorflow/core/lib/png/png_io.cc:88] PNG warning: iCCP: known incorrect sRGB profile\n",
            "2022-10-19 21:03:22.817215: W tensorflow/core/lib/png/png_io.cc:88] PNG warning: iCCP: known incorrect sRGB profile\n"
          ]
        },
        {
          "name": "stdout",
          "output_type": "stream",
          "text": [
            "479/479 [==============================] - 206s 429ms/step - loss: 0.0800 - accuracy: 0.9682 - val_loss: 1.5985 - val_accuracy: 0.8444\n",
            "Epoch 19/20\n",
            "119/479 [======>.......................] - ETA: 2:15 - loss: 0.1525 - accuracy: 0.9412"
          ]
        },
        {
          "name": "stderr",
          "output_type": "stream",
          "text": [
            "2022-10-19 21:04:13.717498: W tensorflow/core/lib/png/png_io.cc:88] PNG warning: iCCP: known incorrect sRGB profile\n"
          ]
        },
        {
          "name": "stdout",
          "output_type": "stream",
          "text": [
            "219/479 [============>.................] - ETA: 1:38 - loss: 0.1279 - accuracy: 0.9489"
          ]
        },
        {
          "name": "stderr",
          "output_type": "stream",
          "text": [
            "2022-10-19 21:04:51.539635: W tensorflow/core/lib/png/png_io.cc:88] PNG warning: iCCP: known incorrect sRGB profile\n"
          ]
        },
        {
          "name": "stdout",
          "output_type": "stream",
          "text": [
            "479/479 [==============================] - ETA: 0s - loss: 0.1041 - accuracy: 0.9592"
          ]
        },
        {
          "name": "stderr",
          "output_type": "stream",
          "text": [
            "2022-10-19 21:06:32.619871: W tensorflow/core/lib/png/png_io.cc:88] PNG warning: iCCP: known incorrect sRGB profile\n",
            "2022-10-19 21:06:34.200219: W tensorflow/core/lib/png/png_io.cc:88] PNG warning: iCCP: known incorrect sRGB profile\n",
            "2022-10-19 21:06:48.455497: W tensorflow/core/lib/png/png_io.cc:88] PNG warning: iCCP: known incorrect sRGB profile\n"
          ]
        },
        {
          "name": "stdout",
          "output_type": "stream",
          "text": [
            "479/479 [==============================] - 206s 429ms/step - loss: 0.1041 - accuracy: 0.9592 - val_loss: 0.1906 - val_accuracy: 0.9252\n",
            "Epoch 20/20\n",
            "121/479 [======>.......................] - ETA: 2:15 - loss: 0.0700 - accuracy: 0.9716"
          ]
        },
        {
          "name": "stderr",
          "output_type": "stream",
          "text": [
            "2022-10-19 21:07:40.119012: W tensorflow/core/lib/png/png_io.cc:88] PNG warning: iCCP: known incorrect sRGB profile\n"
          ]
        },
        {
          "name": "stdout",
          "output_type": "stream",
          "text": [
            "221/479 [============>.................] - ETA: 1:37 - loss: 0.0691 - accuracy: 0.9714"
          ]
        },
        {
          "name": "stderr",
          "output_type": "stream",
          "text": [
            "2022-10-19 21:08:17.949342: W tensorflow/core/lib/png/png_io.cc:88] PNG warning: iCCP: known incorrect sRGB profile\n"
          ]
        },
        {
          "name": "stdout",
          "output_type": "stream",
          "text": [
            "479/479 [==============================] - ETA: 0s - loss: 0.0724 - accuracy: 0.9710"
          ]
        },
        {
          "name": "stderr",
          "output_type": "stream",
          "text": [
            "2022-10-19 21:09:58.329049: W tensorflow/core/lib/png/png_io.cc:88] PNG warning: iCCP: known incorrect sRGB profile\n",
            "2022-10-19 21:09:59.872340: W tensorflow/core/lib/png/png_io.cc:88] PNG warning: iCCP: known incorrect sRGB profile\n",
            "2022-10-19 21:10:14.206783: W tensorflow/core/lib/png/png_io.cc:88] PNG warning: iCCP: known incorrect sRGB profile\n"
          ]
        },
        {
          "name": "stdout",
          "output_type": "stream",
          "text": [
            "479/479 [==============================] - 206s 429ms/step - loss: 0.0724 - accuracy: 0.9710 - val_loss: 0.1973 - val_accuracy: 0.9170\n"
          ]
        }
      ],
      "source": [
        "hist = model.fit(train, epochs = 20, validation_data = val)"
      ]
    },
    {
      "cell_type": "markdown",
      "metadata": {
        "id": "RXA2b8iGTpZX"
      },
      "source": [
        "# PlotPerformance"
      ]
    },
    {
      "cell_type": "code",
      "execution_count": 21,
      "metadata": {
        "colab": {
          "base_uri": "https://localhost:8080/",
          "height": 294
        },
        "id": "vbPjGsDFNHf4",
        "outputId": "924c2c72-636e-4f23-d8ed-21feab644995"
      },
      "outputs": [
        {
          "data": {
            "image/png": "[encoded data removed]",
            "text/plain": [
              "<Figure size 432x288 with 1 Axes>"
            ]
          },
          "metadata": {
            "needs_background": "light"
          },
          "output_type": "display_data"
        }
      ],
      "source": [
        "fig = plt.figure()\n",
        "plt.plot(hist.history['loss'], color = 'teal' ,label = 'loss')\n",
        "plt.plot(hist.history['val_loss'], color = 'orange' ,label = 'val_loss')\n",
        "fig.suptitle('Loss', fontsize = 20)\n",
        "plt.legend(loc = 'upper left')\n",
        "plt.show()"
      ]
    },
    {
      "cell_type": "code",
      "execution_count": 22,
      "metadata": {
        "colab": {
          "base_uri": "https://localhost:8080/",
          "height": 294
        },
        "id": "Kfn29HRNNHjs",
        "outputId": "59e4036a-ce53-4d3c-a72c-192b8ffc3fcd"
      },
      "outputs": [
        {
          "data": {
            "image/png": "[encoded data removed]",
            "text/plain": [
              "<Figure size 432x288 with 1 Axes>"
            ]
          },
          "metadata": {
            "needs_background": "light"
          },
          "output_type": "display_data"
        }
      ],
      "source": [
        "fig = plt.figure()\n",
        "plt.plot(hist.history['accuracy'], color='teal', label = 'accuracy')\n",
        "plt.plot(hist.history['val_accuracy'], color = 'orange' ,label = 'val_accuracy')\n",
        "fig.suptitle('Accuracy', fontsize = 20)\n",
        "plt.legend(loc = 'upper left')\n",
        "plt.show()"
      ]
    },
    {
      "cell_type": "markdown",
      "metadata": {},
      "source": [
        "## Saving"
      ]
    },
    {
      "cell_type": "code",
      "execution_count": 25,
      "metadata": {},
      "outputs": [],
      "source": [
        "# h5 format\n",
        "import os\n",
        "save_dir = \"checkpoints\"\n",
        "\n",
        "model.save(os.path.join(save_dir, 'inceptionresnetv2_20epochs.h5'))\n",
        "\n",
        "# SavedModel format\n",
        "model.save(os.path.join(save_dir, \"inceptionresnetv2_20epochs\", \"model\"))"
      ]
    },
    {
      "cell_type": "code",
      "execution_count": 29,
      "metadata": {},
      "outputs": [],
      "source": [
        "# weights only\n",
        "\n",
        "model.save_weights(os.path.join(save_dir, \"weights/20epochs\"))\n"
      ]
    },
    {
      "cell_type": "code",
      "execution_count": 30,
      "metadata": {},
      "outputs": [
        {
          "name": "stderr",
          "output_type": "stream",
          "text": [
            "2022-10-20 02:31:46.132750: W tensorflow/core/lib/png/png_io.cc:88] PNG warning: iCCP: known incorrect sRGB profile\n",
            "2022-10-20 02:31:47.617369: W tensorflow/core/lib/png/png_io.cc:88] PNG warning: iCCP: known incorrect sRGB profile\n",
            "2022-10-20 02:31:53.146918: W tensorflow/core/lib/png/png_io.cc:88] PNG warning: iCCP: known incorrect sRGB profile\n"
          ]
        },
        {
          "name": "stdout",
          "output_type": "stream",
          "text": [
            "68/68 [==============================] - 18s 122ms/step - loss: 0.2116 - accuracy: 0.9081\n"
          ]
        },
        {
          "data": {
            "text/plain": [
              "[0.21160584688186646, 0.908088207244873]"
            ]
          },
          "execution_count": 30,
          "metadata": {},
          "output_type": "execute_result"
        }
      ],
      "source": [
        "model.evaluate(test)"
      ]
    },
    {
      "cell_type": "code",
      "execution_count": 2,
      "metadata": {},
      "outputs": [],
      "source": [
        "new_model = tf.keras.models.load_model(\"checkpoints/inceptionresnetv2_20epochs/\")"
      ]
    },
    {
      "cell_type": "code",
      "execution_count": 33,
      "metadata": {},
      "outputs": [
        {
          "name": "stderr",
          "output_type": "stream",
          "text": [
            "2022-10-20 03:06:58.794657: W tensorflow/core/lib/png/png_io.cc:88] PNG warning: iCCP: known incorrect sRGB profile\n",
            "2022-10-20 03:07:00.297361: W tensorflow/core/lib/png/png_io.cc:88] PNG warning: iCCP: known incorrect sRGB profile\n",
            "2022-10-20 03:07:05.929878: W tensorflow/core/lib/png/png_io.cc:88] PNG warning: iCCP: known incorrect sRGB profile\n"
          ]
        },
        {
          "name": "stdout",
          "output_type": "stream",
          "text": [
            "68/68 [==============================] - 19s 130ms/step - loss: 0.2180 - accuracy: 0.9099\n"
          ]
        },
        {
          "data": {
            "text/plain": [
              "[0.2179793119430542, 0.9099264740943909]"
            ]
          },
          "execution_count": 33,
          "metadata": {},
          "output_type": "execute_result"
        }
      ],
      "source": [
        "new_model.evaluate(test)"
      ]
    },
    {
      "cell_type": "code",
      "execution_count": 51,
      "metadata": {},
      "outputs": [
        {
          "name": "stdout",
          "output_type": "stream",
          "text": [
            "1/1 [==============================] - 0s 48ms/step\n",
            "[[3.3970088e-10 1.0000000e+00]]\n",
            "Real\n"
          ]
        }
      ],
      "source": [
        "import cv2\n",
        "\n",
        "img = cv2.imread(\"dataset/master_data/fake/fake_animal_1.png\")\n",
        "\n",
        "\n",
        "img.shape\n",
        "img = cv2.resize(img, (512,512))\n",
        "sample = img.reshape(1,512,512,3)\n",
        "prob = new_model.predict(sample)\n",
        "print(prob)\n",
        "if prob[0][0] > prob[0][1]:\n",
        "    print('Fake')\n",
        "else:\n",
        "    print('Real')"
      ]
    },
    {
      "cell_type": "markdown",
      "metadata": {},
      "source": [
        "### TFLite Conversion"
      ]
    },
    {
      "cell_type": "code",
      "execution_count": 1,
      "metadata": {},
      "outputs": [
        {
          "name": "stderr",
          "output_type": "stream",
          "text": [
            "2022-10-26 15:05:57.579626: I tensorflow/core/platform/cpu_feature_guard.cc:193] This TensorFlow binary is optimized with oneAPI Deep Neural Network Library (oneDNN) to use the following CPU instructions in performance-critical operations:  AVX2 AVX512F AVX512_VNNI FMA\n",
            "To enable them in other operations, rebuild TensorFlow with the appropriate compiler flags.\n",
            "2022-10-26 15:06:01.948388: I tensorflow/core/util/util.cc:169] oneDNN custom operations are on. You may see slightly different numerical results due to floating-point round-off errors from different computation orders. To turn them off, set the environment variable `TF_ENABLE_ONEDNN_OPTS=0`.\n",
            "2022-10-26 15:06:03.328068: E tensorflow/stream_executor/cuda/cuda_blas.cc:2981] Unable to register cuBLAS factory: Attempting to register factory for plugin cuBLAS when one has already been registered\n",
            "2022-10-26 15:06:17.233897: W tensorflow/stream_executor/platform/default/dso_loader.cc:64] Could not load dynamic library 'libnvinfer.so.7'; dlerror: libnvinfer.so.7: cannot open shared object file: No such file or directory\n",
            "2022-10-26 15:06:17.234170: W tensorflow/stream_executor/platform/default/dso_loader.cc:64] Could not load dynamic library 'libnvinfer_plugin.so.7'; dlerror: libnvinfer_plugin.so.7: cannot open shared object file: No such file or directory\n",
            "2022-10-26 15:06:17.234190: W tensorflow/compiler/tf2tensorrt/utils/py_utils.cc:38] TF-TRT Warning: Cannot dlopen some TensorRT libraries. If you would like to use Nvidia GPU with TensorRT, please make sure the missing libraries mentioned above are installed properly.\n",
            "2022-10-26 15:06:38.135613: I tensorflow/core/platform/cpu_feature_guard.cc:193] This TensorFlow binary is optimized with oneAPI Deep Neural Network Library (oneDNN) to use the following CPU instructions in performance-critical operations:  AVX2 AVX512F AVX512_VNNI FMA\n",
            "To enable them in other operations, rebuild TensorFlow with the appropriate compiler flags.\n",
            "2022-10-26 15:06:42.710965: I tensorflow/core/common_runtime/gpu/gpu_device.cc:1616] Created device /job:localhost/replica:0/task:0/device:GPU:0 with 14677 MB memory:  -> device: 0, name: GeForce RTX 3090, pci bus id: 0000:19:00.0, compute capability: 8.6\n",
            "2022-10-26 15:06:42.722303: I tensorflow/core/common_runtime/gpu/gpu_device.cc:1616] Created device /job:localhost/replica:0/task:0/device:GPU:1 with 16435 MB memory:  -> device: 1, name: GeForce RTX 3090, pci bus id: 0000:1a:00.0, compute capability: 8.6\n",
            "2022-10-26 15:06:42.724863: I tensorflow/core/common_runtime/gpu/gpu_device.cc:1616] Created device /job:localhost/replica:0/task:0/device:GPU:2 with 22290 MB memory:  -> device: 2, name: GeForce RTX 3090, pci bus id: 0000:67:00.0, compute capability: 8.6\n",
            "2022-10-26 15:06:42.727467: I tensorflow/core/common_runtime/gpu/gpu_device.cc:1616] Created device /job:localhost/replica:0/task:0/device:GPU:3 with 22233 MB memory:  -> device: 3, name: GeForce RTX 3090, pci bus id: 0000:68:00.0, compute capability: 8.6\n",
            "2022-10-26 15:07:20.102184: W tensorflow/compiler/mlir/lite/python/tf_tfl_flatbuffer_helpers.cc:362] Ignored output_format.\n",
            "2022-10-26 15:07:20.102240: W tensorflow/compiler/mlir/lite/python/tf_tfl_flatbuffer_helpers.cc:365] Ignored drop_control_dependency.\n",
            "2022-10-26 15:07:20.103911: I tensorflow/cc/saved_model/reader.cc:45] Reading SavedModel from: checkpoints/inceptionresnetv2_20epochs/\n",
            "2022-10-26 15:07:20.236952: I tensorflow/cc/saved_model/reader.cc:89] Reading meta graph with tags { serve }\n",
            "2022-10-26 15:07:20.236992: I tensorflow/cc/saved_model/reader.cc:130] Reading SavedModel debug info (if present) from: checkpoints/inceptionresnetv2_20epochs/\n",
            "2022-10-26 15:07:20.545225: I tensorflow/compiler/mlir/mlir_graph_optimization_pass.cc:354] MLIR V1 optimization pass is not enabled\n",
            "2022-10-26 15:07:20.682154: I tensorflow/cc/saved_model/loader.cc:229] Restoring SavedModel bundle.\n",
            "2022-10-26 15:07:24.103688: I tensorflow/cc/saved_model/loader.cc:213] Running initialization op on SavedModel bundle at path: checkpoints/inceptionresnetv2_20epochs/\n",
            "2022-10-26 15:07:24.744088: I tensorflow/cc/saved_model/loader.cc:305] SavedModel load for tags { serve }; Status: success: OK. Took 4640181 microseconds.\n",
            "2022-10-26 15:07:26.233600: I tensorflow/compiler/mlir/tensorflow/utils/dump_mlir_util.cc:268] disabling MLIR crash reproducer, set env var `MLIR_CRASH_REPRODUCER_DIRECTORY` to enable.\n"
          ]
        }
      ],
      "source": [
        "import tensorflow as tf\n",
        "\n",
        "saved_model_dir = \"checkpoints/inceptionresnetv2_20epochs/\"\n",
        "\n",
        "# Convert the model\n",
        "converter = tf.lite.TFLiteConverter.from_saved_model(saved_model_dir) # path to the SavedModel directory\n",
        "tflite_model = converter.convert()\n",
        "\n",
        "# Save the model.\n",
        "with open('InceptionResnetV2_20e.tflite', 'wb') as f:\n",
        "  f.write(tflite_model)"
      ]
    },
    {
      "cell_type": "code",
      "execution_count": null,
      "metadata": {},
      "outputs": [],
      "source": []
    },
    {
      "cell_type": "code",
      "execution_count": 71,
      "metadata": {},
      "outputs": [
        {
          "name": "stdout",
          "output_type": "stream",
          "text": [
            "1/1 [==============================] - 0s 48ms/step\n"
          ]
        },
        {
          "data": {
            "text/plain": [
              "array([[1.1979683e-04, 9.9988019e-01]], dtype=float32)"
            ]
          },
          "execution_count": 71,
          "metadata": {},
          "output_type": "execute_result"
        }
      ],
      "source": [
        "# test = tf.keras.models.load_model(\"checkpoints/inceptionresnetv2_20epochs/\")\n",
        "\n",
        "img = cv2.imread(\"dataset/master_data/fake/fake_face_640.png\")\n",
        "\n",
        "img = cv2.resize(img, (512,512))\n",
        "sample = img.reshape(1,512,512,3)\n",
        "prob = test.predict(sample)\n",
        "prob\n",
        "\n",
        "# 0 -- > fake, 1 --> real"
      ]
    },
    {
      "cell_type": "code",
      "execution_count": 72,
      "metadata": {},
      "outputs": [
        {
          "name": "stdout",
          "output_type": "stream",
          "text": [
            "1/1 [==============================] - 0s 58ms/step\n",
            "0.0\n",
            "1/1 [==============================] - 0s 50ms/step\n",
            "0.0\n",
            "1/1 [==============================] - 0s 49ms/step\n",
            "0.0\n",
            "1/1 [==============================] - 0s 48ms/step\n",
            "0.25\n",
            "1/1 [==============================] - 0s 58ms/step\n",
            "0.4\n",
            "1/1 [==============================] - 0s 59ms/step\n",
            "0.3333333333333333\n",
            "1/1 [==============================] - 0s 55ms/step\n",
            "0.2857142857142857\n",
            "1/1 [==============================] - 0s 58ms/step\n",
            "0.375\n",
            "1/1 [==============================] - 0s 57ms/step\n",
            "0.4444444444444444\n",
            "1/1 [==============================] - 0s 54ms/step\n",
            "0.4\n",
            "1/1 [==============================] - 0s 46ms/step\n",
            "0.36363636363636365\n",
            "1/1 [==============================] - 0s 40ms/step\n",
            "0.3333333333333333\n",
            "1/1 [==============================] - 0s 41ms/step\n",
            "0.3076923076923077\n",
            "1/1 [==============================] - 0s 49ms/step\n",
            "0.35714285714285715\n",
            "1/1 [==============================] - 0s 52ms/step\n",
            "0.3333333333333333\n",
            "1/1 [==============================] - 0s 55ms/step\n",
            "0.3125\n",
            "1/1 [==============================] - 0s 54ms/step\n",
            "0.29411764705882354\n",
            "1/1 [==============================] - 0s 53ms/step\n",
            "0.3333333333333333\n",
            "1/1 [==============================] - 0s 49ms/step\n",
            "0.3157894736842105\n",
            "1/1 [==============================] - 0s 46ms/step\n",
            "0.3\n",
            "1/1 [==============================] - 0s 56ms/step\n",
            "0.2857142857142857\n",
            "1/1 [==============================] - 0s 52ms/step\n",
            "0.2727272727272727\n",
            "1/1 [==============================] - 0s 47ms/step\n",
            "0.2608695652173913\n",
            "1/1 [==============================] - 0s 50ms/step\n",
            "0.25\n",
            "1/1 [==============================] - 0s 58ms/step\n",
            "0.24\n",
            "1/1 [==============================] - 0s 49ms/step\n",
            "0.2692307692307692\n",
            "1/1 [==============================] - 0s 60ms/step\n",
            "0.2962962962962963\n",
            "1/1 [==============================] - 0s 62ms/step\n",
            "0.2857142857142857\n",
            "1/1 [==============================] - 0s 57ms/step\n",
            "0.27586206896551724\n",
            "1/1 [==============================] - 0s 53ms/step\n",
            "0.26666666666666666\n",
            "1/1 [==============================] - 0s 54ms/step\n",
            "0.25806451612903225\n",
            "1/1 [==============================] - 0s 47ms/step\n",
            "0.25\n",
            "1/1 [==============================] - 0s 60ms/step\n",
            "0.24242424242424243\n",
            "1/1 [==============================] - 0s 54ms/step\n",
            "0.23529411764705882\n",
            "1/1 [==============================] - 0s 71ms/step\n",
            "0.22857142857142856\n",
            "1/1 [==============================] - 0s 55ms/step\n",
            "0.2222222222222222\n",
            "1/1 [==============================] - 0s 47ms/step\n",
            "0.21621621621621623\n",
            "1/1 [==============================] - 0s 50ms/step\n",
            "0.21052631578947367\n",
            "1/1 [==============================] - 0s 61ms/step\n",
            "0.23076923076923078\n",
            "1/1 [==============================] - 0s 62ms/step\n",
            "0.225\n",
            "1/1 [==============================] - 0s 59ms/step\n",
            "0.21951219512195122\n",
            "1/1 [==============================] - 0s 51ms/step\n",
            "0.21428571428571427\n",
            "1/1 [==============================] - 0s 52ms/step\n",
            "0.23255813953488372\n",
            "1/1 [==============================] - 0s 47ms/step\n",
            "0.22727272727272727\n",
            "1/1 [==============================] - 0s 43ms/step\n",
            "0.2222222222222222\n",
            "1/1 [==============================] - 0s 59ms/step\n",
            "0.21739130434782608\n",
            "1/1 [==============================] - 0s 74ms/step\n",
            "0.2127659574468085\n",
            "1/1 [==============================] - 0s 56ms/step\n",
            "0.20833333333333334\n",
            "1/1 [==============================] - 0s 54ms/step\n",
            "0.22448979591836735\n",
            "1/1 [==============================] - 0s 51ms/step\n",
            "0.22\n",
            "1/1 [==============================] - 0s 58ms/step\n",
            "0.21568627450980393\n",
            "1/1 [==============================] - 0s 50ms/step\n",
            "0.21153846153846154\n",
            "1/1 [==============================] - 0s 48ms/step\n",
            "0.20754716981132076\n",
            "1/1 [==============================] - 0s 56ms/step\n",
            "0.2222222222222222\n",
            "1/1 [==============================] - 0s 45ms/step\n",
            "0.21818181818181817\n",
            "1/1 [==============================] - 0s 75ms/step\n",
            "0.21428571428571427\n",
            "1/1 [==============================] - 0s 46ms/step\n",
            "0.21052631578947367\n",
            "1/1 [==============================] - 0s 46ms/step\n",
            "0.20689655172413793\n",
            "1/1 [==============================] - 0s 52ms/step\n",
            "0.2033898305084746\n",
            "1/1 [==============================] - 0s 60ms/step\n",
            "0.2\n",
            "1/1 [==============================] - 0s 60ms/step\n",
            "0.21311475409836064\n",
            "1/1 [==============================] - 0s 50ms/step\n",
            "0.20967741935483872\n",
            "1/1 [==============================] - 0s 52ms/step\n",
            "0.20634920634920634\n",
            "1/1 [==============================] - 0s 56ms/step\n",
            "0.203125\n",
            "1/1 [==============================] - 0s 40ms/step\n",
            "0.2\n",
            "1/1 [==============================] - 0s 53ms/step\n",
            "0.19696969696969696\n",
            "1/1 [==============================] - 0s 47ms/step\n",
            "0.19402985074626866\n",
            "1/1 [==============================] - 0s 57ms/step\n",
            "0.19117647058823528\n",
            "1/1 [==============================] - 0s 55ms/step\n",
            "0.2028985507246377\n",
            "1/1 [==============================] - 0s 54ms/step\n",
            "0.21428571428571427\n",
            "1/1 [==============================] - 0s 53ms/step\n",
            "0.2112676056338028\n",
            "1/1 [==============================] - 0s 56ms/step\n",
            "0.20833333333333334\n",
            "1/1 [==============================] - 0s 43ms/step\n",
            "0.2054794520547945\n",
            "1/1 [==============================] - 0s 40ms/step\n",
            "0.21621621621621623\n",
            "1/1 [==============================] - 0s 41ms/step\n",
            "0.21333333333333335\n",
            "1/1 [==============================] - 0s 59ms/step\n",
            "0.21052631578947367\n",
            "1/1 [==============================] - 0s 55ms/step\n",
            "0.2077922077922078\n",
            "1/1 [==============================] - 0s 59ms/step\n",
            "0.20512820512820512\n",
            "1/1 [==============================] - 0s 49ms/step\n",
            "0.20253164556962025\n",
            "1/1 [==============================] - 0s 53ms/step\n",
            "0.2\n",
            "1/1 [==============================] - 0s 60ms/step\n",
            "0.19753086419753085\n",
            "1/1 [==============================] - 0s 65ms/step\n",
            "0.1951219512195122\n",
            "1/1 [==============================] - 0s 51ms/step\n",
            "0.1927710843373494\n",
            "1/1 [==============================] - 0s 56ms/step\n",
            "0.19047619047619047\n",
            "1/1 [==============================] - 0s 47ms/step\n",
            "0.18823529411764706\n",
            "1/1 [==============================] - 0s 47ms/step\n",
            "0.18604651162790697\n",
            "1/1 [==============================] - 0s 46ms/step\n",
            "0.1839080459770115\n",
            "1/1 [==============================] - 0s 52ms/step\n",
            "0.18181818181818182\n",
            "1/1 [==============================] - 0s 49ms/step\n",
            "0.1797752808988764\n",
            "1/1 [==============================] - 0s 55ms/step\n",
            "0.18888888888888888\n",
            "1/1 [==============================] - 0s 67ms/step\n",
            "0.18681318681318682\n",
            "1/1 [==============================] - 0s 55ms/step\n",
            "0.18478260869565216\n",
            "1/1 [==============================] - 0s 58ms/step\n",
            "0.1827956989247312\n",
            "1/1 [==============================] - 0s 52ms/step\n",
            "0.18085106382978725\n",
            "1/1 [==============================] - 0s 55ms/step\n",
            "0.17894736842105263\n",
            "1/1 [==============================] - 0s 66ms/step\n",
            "0.17708333333333334\n",
            "1/1 [==============================] - 0s 57ms/step\n",
            "0.17525773195876287\n",
            "1/1 [==============================] - 0s 48ms/step\n",
            "0.17346938775510204\n",
            "1/1 [==============================] - 0s 63ms/step\n",
            "0.1717171717171717\n",
            "1/1 [==============================] - 0s 61ms/step\n",
            "0.18\n",
            "1/1 [==============================] - 0s 57ms/step\n",
            "0.1782178217821782\n",
            "1/1 [==============================] - 0s 45ms/step\n",
            "0.17647058823529413\n",
            "1/1 [==============================] - 0s 61ms/step\n",
            "0.17475728155339806\n",
            "1/1 [==============================] - 0s 47ms/step\n",
            "0.17307692307692307\n",
            "1/1 [==============================] - 0s 43ms/step\n",
            "0.17142857142857143\n",
            "1/1 [==============================] - 0s 50ms/step\n",
            "0.16981132075471697\n",
            "1/1 [==============================] - 0s 48ms/step\n",
            "0.16822429906542055\n",
            "1/1 [==============================] - 0s 61ms/step\n",
            "0.17592592592592593\n",
            "1/1 [==============================] - 0s 54ms/step\n",
            "0.1834862385321101\n",
            "1/1 [==============================] - 0s 61ms/step\n",
            "0.18181818181818182\n",
            "1/1 [==============================] - 0s 45ms/step\n",
            "0.1891891891891892\n",
            "1/1 [==============================] - 0s 39ms/step\n",
            "0.19642857142857142\n",
            "1/1 [==============================] - 0s 49ms/step\n",
            "0.19469026548672566\n",
            "1/1 [==============================] - 0s 57ms/step\n",
            "0.19298245614035087\n",
            "1/1 [==============================] - 0s 56ms/step\n",
            "0.2\n",
            "1/1 [==============================] - 0s 54ms/step\n",
            "0.19827586206896552\n",
            "1/1 [==============================] - 0s 58ms/step\n",
            "0.20512820512820512\n",
            "1/1 [==============================] - 0s 60ms/step\n",
            "0.2033898305084746\n",
            "1/1 [==============================] - 0s 61ms/step\n",
            "0.20168067226890757\n",
            "1/1 [==============================] - 0s 59ms/step\n",
            "0.2\n",
            "1/1 [==============================] - 0s 51ms/step\n",
            "0.19834710743801653\n",
            "1/1 [==============================] - 0s 49ms/step\n",
            "0.19672131147540983\n",
            "1/1 [==============================] - 0s 46ms/step\n",
            "0.1951219512195122\n",
            "1/1 [==============================] - 0s 59ms/step\n",
            "0.20161290322580644\n",
            "1/1 [==============================] - 0s 41ms/step\n",
            "0.208\n",
            "1/1 [==============================] - 0s 46ms/step\n",
            "0.20634920634920634\n",
            "1/1 [==============================] - 0s 57ms/step\n",
            "0.2125984251968504\n",
            "1/1 [==============================] - 0s 48ms/step\n",
            "0.2109375\n",
            "1/1 [==============================] - 0s 55ms/step\n",
            "0.20930232558139536\n",
            "1/1 [==============================] - 0s 54ms/step\n",
            "0.2076923076923077\n",
            "1/1 [==============================] - 0s 60ms/step\n",
            "0.20610687022900764\n",
            "1/1 [==============================] - 0s 47ms/step\n",
            "0.20454545454545456\n",
            "1/1 [==============================] - 0s 51ms/step\n",
            "0.20300751879699247\n",
            "1/1 [==============================] - 0s 46ms/step\n",
            "0.208955223880597\n",
            "1/1 [==============================] - 0s 47ms/step\n",
            "0.2074074074074074\n",
            "1/1 [==============================] - 0s 66ms/step\n",
            "0.20588235294117646\n",
            "1/1 [==============================] - 0s 64ms/step\n",
            "0.20437956204379562\n",
            "1/1 [==============================] - 0s 51ms/step\n",
            "0.2028985507246377\n",
            "1/1 [==============================] - 0s 52ms/step\n",
            "0.2014388489208633\n",
            "1/1 [==============================] - 0s 49ms/step\n",
            "0.2\n",
            "1/1 [==============================] - 0s 49ms/step\n",
            "0.19858156028368795\n",
            "1/1 [==============================] - 0s 49ms/step\n",
            "0.20422535211267606\n",
            "1/1 [==============================] - 0s 41ms/step\n",
            "0.20279720279720279\n",
            "1/1 [==============================] - 0s 59ms/step\n",
            "0.20833333333333334\n",
            "1/1 [==============================] - 0s 49ms/step\n",
            "0.20689655172413793\n",
            "1/1 [==============================] - 0s 50ms/step\n",
            "0.2054794520547945\n",
            "1/1 [==============================] - 0s 58ms/step\n",
            "0.2108843537414966\n",
            "1/1 [==============================] - 0s 49ms/step\n",
            "0.20945945945945946\n",
            "1/1 [==============================] - 0s 46ms/step\n",
            "0.2080536912751678\n",
            "1/1 [==============================] - 0s 52ms/step\n",
            "0.21333333333333335\n",
            "1/1 [==============================] - 0s 49ms/step\n",
            "0.2119205298013245\n",
            "1/1 [==============================] - 0s 48ms/step\n",
            "0.21052631578947367\n",
            "1/1 [==============================] - 0s 63ms/step\n",
            "0.20915032679738563\n",
            "1/1 [==============================] - 0s 50ms/step\n",
            "0.2077922077922078\n",
            "1/1 [==============================] - 0s 50ms/step\n",
            "0.2064516129032258\n",
            "1/1 [==============================] - 0s 51ms/step\n",
            "0.21153846153846154\n",
            "1/1 [==============================] - 0s 54ms/step\n",
            "0.21656050955414013\n",
            "1/1 [==============================] - 0s 55ms/step\n",
            "0.21518987341772153\n",
            "1/1 [==============================] - 0s 52ms/step\n",
            "0.22012578616352202\n",
            "1/1 [==============================] - 0s 50ms/step\n",
            "0.21875\n",
            "1/1 [==============================] - 0s 44ms/step\n",
            "0.21739130434782608\n",
            "1/1 [==============================] - 0s 46ms/step\n",
            "0.21604938271604937\n",
            "1/1 [==============================] - 0s 58ms/step\n",
            "0.2147239263803681\n",
            "1/1 [==============================] - 0s 55ms/step\n",
            "0.21341463414634146\n",
            "1/1 [==============================] - 0s 50ms/step\n",
            "0.21212121212121213\n",
            "1/1 [==============================] - 0s 55ms/step\n",
            "0.21084337349397592\n",
            "1/1 [==============================] - 0s 50ms/step\n",
            "0.2155688622754491\n",
            "1/1 [==============================] - 0s 45ms/step\n",
            "0.22023809523809523\n",
            "1/1 [==============================] - 0s 60ms/step\n",
            "0.22485207100591717\n",
            "1/1 [==============================] - 0s 59ms/step\n",
            "0.22941176470588234\n",
            "1/1 [==============================] - 0s 59ms/step\n",
            "0.22807017543859648\n",
            "1/1 [==============================] - 0s 57ms/step\n",
            "0.23255813953488372\n",
            "1/1 [==============================] - 0s 49ms/step\n",
            "0.23121387283236994\n",
            "1/1 [==============================] - 0s 57ms/step\n",
            "0.22988505747126436\n",
            "1/1 [==============================] - 0s 54ms/step\n",
            "0.22857142857142856\n",
            "1/1 [==============================] - 0s 65ms/step\n",
            "0.23295454545454544\n",
            "1/1 [==============================] - 0s 43ms/step\n",
            "0.23163841807909605\n",
            "1/1 [==============================] - 0s 48ms/step\n",
            "0.2303370786516854\n",
            "1/1 [==============================] - 0s 47ms/step\n",
            "0.2346368715083799\n",
            "1/1 [==============================] - 0s 53ms/step\n",
            "0.2388888888888889\n",
            "1/1 [==============================] - 0s 59ms/step\n",
            "0.23756906077348067\n",
            "1/1 [==============================] - 0s 60ms/step\n",
            "0.24175824175824176\n",
            "1/1 [==============================] - 0s 46ms/step\n",
            "0.24043715846994534\n",
            "1/1 [==============================] - 0s 61ms/step\n",
            "0.2391304347826087\n",
            "1/1 [==============================] - 0s 46ms/step\n",
            "0.24324324324324326\n",
            "1/1 [==============================] - 0s 53ms/step\n",
            "0.24731182795698925\n",
            "1/1 [==============================] - 0s 48ms/step\n",
            "0.24598930481283424\n",
            "1/1 [==============================] - 0s 55ms/step\n",
            "0.24468085106382978\n",
            "1/1 [==============================] - 0s 60ms/step\n",
            "0.24867724867724866\n",
            "1/1 [==============================] - 0s 62ms/step\n",
            "0.24736842105263157\n",
            "1/1 [==============================] - 0s 48ms/step\n",
            "0.2513089005235602\n",
            "1/1 [==============================] - 0s 54ms/step\n",
            "0.25\n",
            "1/1 [==============================] - 0s 60ms/step\n",
            "0.24870466321243523\n",
            "1/1 [==============================] - 0s 48ms/step\n",
            "0.25257731958762886\n",
            "1/1 [==============================] - 0s 65ms/step\n",
            "0.2512820512820513\n",
            "1/1 [==============================] - 0s 48ms/step\n",
            "0.25\n",
            "1/1 [==============================] - 0s 54ms/step\n",
            "0.24873096446700507\n",
            "1/1 [==============================] - 0s 42ms/step\n",
            "0.2474747474747475\n",
            "1/1 [==============================] - 0s 40ms/step\n",
            "0.25125628140703515\n",
            "1/1 [==============================] - 0s 47ms/step\n",
            "0.255\n",
            "1/1 [==============================] - 0s 45ms/step\n",
            "0.2537313432835821\n",
            "1/1 [==============================] - 0s 47ms/step\n",
            "0.2524752475247525\n",
            "1/1 [==============================] - 0s 57ms/step\n",
            "0.2512315270935961\n",
            "1/1 [==============================] - 0s 59ms/step\n",
            "0.25\n",
            "1/1 [==============================] - 0s 53ms/step\n",
            "0.25365853658536586\n",
            "1/1 [==============================] - 0s 57ms/step\n",
            "0.25728155339805825\n",
            "1/1 [==============================] - 0s 57ms/step\n",
            "0.2560386473429952\n",
            "1/1 [==============================] - 0s 42ms/step\n",
            "0.2548076923076923\n",
            "1/1 [==============================] - 0s 51ms/step\n",
            "0.2583732057416268\n",
            "1/1 [==============================] - 0s 48ms/step\n",
            "0.2619047619047619\n",
            "1/1 [==============================] - 0s 49ms/step\n",
            "0.26066350710900477\n",
            "1/1 [==============================] - 0s 57ms/step\n",
            "0.25943396226415094\n",
            "1/1 [==============================] - 0s 47ms/step\n",
            "0.25821596244131456\n",
            "1/1 [==============================] - 0s 43ms/step\n",
            "0.2570093457943925\n",
            "1/1 [==============================] - 0s 62ms/step\n",
            "0.2558139534883721\n",
            "1/1 [==============================] - 0s 60ms/step\n",
            "0.25462962962962965\n",
            "1/1 [==============================] - 0s 57ms/step\n",
            "0.2534562211981567\n",
            "1/1 [==============================] - 0s 57ms/step\n",
            "0.25229357798165136\n",
            "1/1 [==============================] - 0s 42ms/step\n",
            "0.2511415525114155\n",
            "1/1 [==============================] - 0s 49ms/step\n",
            "0.2545454545454545\n",
            "1/1 [==============================] - 0s 41ms/step\n",
            "0.25339366515837103\n",
            "1/1 [==============================] - 0s 58ms/step\n",
            "0.25225225225225223\n",
            "1/1 [==============================] - 0s 45ms/step\n",
            "0.25112107623318386\n",
            "1/1 [==============================] - 0s 54ms/step\n",
            "0.25\n",
            "1/1 [==============================] - 0s 52ms/step\n",
            "0.24888888888888888\n",
            "1/1 [==============================] - 0s 50ms/step\n",
            "0.252212389380531\n",
            "1/1 [==============================] - 0s 42ms/step\n",
            "0.2555066079295154\n",
            "1/1 [==============================] - 0s 58ms/step\n",
            "0.25877192982456143\n",
            "1/1 [==============================] - 0s 45ms/step\n",
            "0.26200873362445415\n",
            "1/1 [==============================] - 0s 51ms/step\n",
            "0.2608695652173913\n",
            "1/1 [==============================] - 0s 56ms/step\n",
            "0.2597402597402597\n",
            "1/1 [==============================] - 0s 54ms/step\n",
            "0.25862068965517243\n",
            "1/1 [==============================] - 0s 56ms/step\n",
            "0.2575107296137339\n",
            "1/1 [==============================] - 0s 40ms/step\n",
            "0.2564102564102564\n",
            "1/1 [==============================] - 0s 50ms/step\n",
            "0.25957446808510637\n",
            "1/1 [==============================] - 0s 65ms/step\n",
            "0.2584745762711864\n",
            "1/1 [==============================] - 0s 40ms/step\n",
            "0.25738396624472576\n",
            "1/1 [==============================] - 0s 60ms/step\n",
            "0.25630252100840334\n",
            "1/1 [==============================] - 0s 50ms/step\n",
            "0.25523012552301255\n",
            "1/1 [==============================] - 0s 47ms/step\n",
            "0.25833333333333336\n",
            "1/1 [==============================] - 0s 56ms/step\n",
            "0.26141078838174275\n",
            "1/1 [==============================] - 0s 67ms/step\n",
            "0.2603305785123967\n",
            "1/1 [==============================] - 0s 60ms/step\n",
            "0.25925925925925924\n",
            "1/1 [==============================] - 0s 48ms/step\n",
            "0.2581967213114754\n",
            "1/1 [==============================] - 0s 62ms/step\n",
            "0.2571428571428571\n",
            "1/1 [==============================] - 0s 48ms/step\n",
            "0.25609756097560976\n",
            "1/1 [==============================] - 0s 49ms/step\n",
            "0.2550607287449393\n",
            "1/1 [==============================] - 0s 44ms/step\n",
            "0.2540322580645161\n",
            "1/1 [==============================] - 0s 50ms/step\n",
            "0.25301204819277107\n",
            "1/1 [==============================] - 0s 43ms/step\n",
            "0.252\n",
            "1/1 [==============================] - 0s 53ms/step\n",
            "0.250996015936255\n",
            "1/1 [==============================] - 0s 54ms/step\n",
            "0.25\n",
            "1/1 [==============================] - 0s 57ms/step\n",
            "0.2490118577075099\n",
            "1/1 [==============================] - 0s 62ms/step\n",
            "0.24803149606299213\n",
            "1/1 [==============================] - 0s 42ms/step\n",
            "0.24705882352941178\n",
            "1/1 [==============================] - 0s 50ms/step\n",
            "0.24609375\n",
            "1/1 [==============================] - 0s 42ms/step\n",
            "0.245136186770428\n",
            "1/1 [==============================] - 0s 47ms/step\n",
            "0.24806201550387597\n",
            "1/1 [==============================] - 0s 42ms/step\n",
            "0.25096525096525096\n",
            "1/1 [==============================] - 0s 50ms/step\n",
            "0.25384615384615383\n",
            "1/1 [==============================] - 0s 82ms/step\n",
            "0.25287356321839083\n",
            "1/1 [==============================] - 0s 48ms/step\n",
            "0.25190839694656486\n",
            "1/1 [==============================] - 0s 45ms/step\n",
            "0.25475285171102663\n",
            "1/1 [==============================] - 0s 40ms/step\n",
            "0.25757575757575757\n",
            "1/1 [==============================] - 0s 63ms/step\n",
            "0.25660377358490566\n",
            "1/1 [==============================] - 0s 41ms/step\n",
            "0.2556390977443609\n",
            "1/1 [==============================] - 0s 54ms/step\n",
            "0.2546816479400749\n",
            "1/1 [==============================] - 0s 51ms/step\n",
            "0.2537313432835821\n",
            "1/1 [==============================] - 0s 43ms/step\n",
            "0.2527881040892193\n",
            "1/1 [==============================] - 0s 52ms/step\n",
            "0.2518518518518518\n",
            "1/1 [==============================] - 0s 48ms/step\n",
            "0.25461254612546125\n",
            "1/1 [==============================] - 0s 62ms/step\n",
            "0.25735294117647056\n",
            "1/1 [==============================] - 0s 51ms/step\n",
            "0.2564102564102564\n",
            "1/1 [==============================] - 0s 48ms/step\n",
            "0.25547445255474455\n",
            "1/1 [==============================] - 0s 52ms/step\n",
            "0.2581818181818182\n",
            "1/1 [==============================] - 0s 54ms/step\n",
            "0.2572463768115942\n",
            "1/1 [==============================] - 0s 67ms/step\n",
            "0.2563176895306859\n",
            "1/1 [==============================] - 0s 67ms/step\n",
            "0.25539568345323743\n",
            "1/1 [==============================] - 0s 47ms/step\n",
            "0.25448028673835127\n",
            "1/1 [==============================] - 0s 60ms/step\n",
            "0.2571428571428571\n",
            "1/1 [==============================] - 0s 52ms/step\n",
            "0.25622775800711745\n",
            "1/1 [==============================] - 0s 61ms/step\n",
            "0.2553191489361702\n",
            "1/1 [==============================] - 0s 48ms/step\n",
            "0.254416961130742\n",
            "1/1 [==============================] - 0s 48ms/step\n",
            "0.2535211267605634\n",
            "1/1 [==============================] - 0s 48ms/step\n",
            "0.25263157894736843\n",
            "1/1 [==============================] - 0s 46ms/step\n",
            "0.2517482517482518\n",
            "1/1 [==============================] - 0s 58ms/step\n",
            "0.2508710801393728\n",
            "1/1 [==============================] - 0s 61ms/step\n",
            "0.2534722222222222\n",
            "1/1 [==============================] - 0s 50ms/step\n",
            "0.2560553633217993\n",
            "1/1 [==============================] - 0s 51ms/step\n",
            "0.25517241379310346\n",
            "1/1 [==============================] - 0s 69ms/step\n",
            "0.25773195876288657\n",
            "1/1 [==============================] - 0s 49ms/step\n",
            "0.2568493150684932\n",
            "1/1 [==============================] - 0s 81ms/step\n",
            "0.2593856655290102\n",
            "1/1 [==============================] - 0s 49ms/step\n",
            "0.2585034013605442\n",
            "1/1 [==============================] - 0s 52ms/step\n",
            "0.26101694915254237\n",
            "1/1 [==============================] - 0s 41ms/step\n",
            "0.26013513513513514\n",
            "1/1 [==============================] - 0s 42ms/step\n",
            "0.25925925925925924\n",
            "1/1 [==============================] - 0s 58ms/step\n",
            "0.25838926174496646\n",
            "1/1 [==============================] - 0s 48ms/step\n",
            "0.2608695652173913\n",
            "1/1 [==============================] - 0s 55ms/step\n",
            "0.2633333333333333\n",
            "1/1 [==============================] - 0s 54ms/step\n",
            "0.26578073089701\n",
            "1/1 [==============================] - 0s 55ms/step\n",
            "0.26490066225165565\n",
            "1/1 [==============================] - 0s 49ms/step\n",
            "0.264026402640264\n",
            "1/1 [==============================] - 0s 54ms/step\n",
            "0.2631578947368421\n",
            "1/1 [==============================] - 0s 46ms/step\n",
            "0.26229508196721313\n",
            "1/1 [==============================] - 0s 49ms/step\n",
            "0.26143790849673204\n",
            "1/1 [==============================] - 0s 60ms/step\n",
            "0.26384364820846906\n",
            "1/1 [==============================] - 0s 48ms/step\n",
            "0.2662337662337662\n",
            "1/1 [==============================] - 0s 54ms/step\n",
            "0.26537216828478966\n",
            "1/1 [==============================] - 0s 45ms/step\n",
            "0.2645161290322581\n",
            "1/1 [==============================] - 0s 49ms/step\n",
            "0.26688102893890675\n",
            "1/1 [==============================] - 0s 49ms/step\n",
            "0.266025641025641\n",
            "1/1 [==============================] - 0s 46ms/step\n",
            "0.26517571884984026\n",
            "1/1 [==============================] - 0s 54ms/step\n",
            "0.267515923566879\n",
            "1/1 [==============================] - 0s 52ms/step\n",
            "0.2698412698412698\n",
            "1/1 [==============================] - 0s 46ms/step\n",
            "0.2689873417721519\n",
            "1/1 [==============================] - 0s 51ms/step\n",
            "0.26813880126182965\n",
            "1/1 [==============================] - 0s 55ms/step\n",
            "0.27044025157232704\n",
            "1/1 [==============================] - 0s 55ms/step\n",
            "0.26959247648902823\n",
            "1/1 [==============================] - 0s 51ms/step\n",
            "0.271875\n",
            "1/1 [==============================] - 0s 62ms/step\n",
            "0.27102803738317754\n",
            "1/1 [==============================] - 0s 46ms/step\n",
            "0.2701863354037267\n",
            "1/1 [==============================] - 0s 43ms/step\n",
            "0.2724458204334365\n",
            "1/1 [==============================] - 0s 52ms/step\n",
            "0.27469135802469136\n",
            "1/1 [==============================] - 0s 52ms/step\n",
            "0.27384615384615385\n",
            "1/1 [==============================] - 0s 47ms/step\n",
            "0.27300613496932513\n",
            "1/1 [==============================] - 0s 53ms/step\n",
            "0.27217125382262997\n",
            "1/1 [==============================] - 0s 46ms/step\n",
            "0.27439024390243905\n",
            "1/1 [==============================] - 0s 71ms/step\n",
            "0.2735562310030395\n",
            "1/1 [==============================] - 0s 38ms/step\n",
            "0.2727272727272727\n",
            "1/1 [==============================] - 0s 57ms/step\n",
            "0.2719033232628399\n",
            "1/1 [==============================] - 0s 53ms/step\n",
            "0.2710843373493976\n",
            "1/1 [==============================] - 0s 60ms/step\n",
            "0.2732732732732733\n",
            "1/1 [==============================] - 0s 48ms/step\n",
            "0.27245508982035926\n",
            "1/1 [==============================] - 0s 61ms/step\n",
            "0.2716417910447761\n",
            "1/1 [==============================] - 0s 57ms/step\n",
            "0.2708333333333333\n",
            "1/1 [==============================] - 0s 50ms/step\n",
            "0.27002967359050445\n",
            "1/1 [==============================] - 0s 66ms/step\n",
            "0.2692307692307692\n",
            "1/1 [==============================] - 0s 47ms/step\n",
            "0.26843657817109146\n",
            "1/1 [==============================] - 0s 53ms/step\n",
            "0.27058823529411763\n",
            "1/1 [==============================] - 0s 48ms/step\n",
            "0.2697947214076246\n",
            "1/1 [==============================] - 0s 46ms/step\n",
            "0.26900584795321636\n",
            "1/1 [==============================] - 0s 52ms/step\n",
            "0.26822157434402333\n",
            "1/1 [==============================] - 0s 59ms/step\n",
            "0.2703488372093023\n",
            "1/1 [==============================] - 0s 45ms/step\n",
            "0.26956521739130435\n",
            "1/1 [==============================] - 0s 49ms/step\n",
            "0.26878612716763006\n",
            "1/1 [==============================] - 0s 52ms/step\n",
            "0.2680115273775216\n",
            "1/1 [==============================] - 0s 49ms/step\n",
            "0.2672413793103448\n",
            "1/1 [==============================] - 0s 47ms/step\n",
            "0.2664756446991404\n",
            "1/1 [==============================] - 0s 61ms/step\n",
            "0.26857142857142857\n",
            "1/1 [==============================] - 0s 64ms/step\n",
            "0.2678062678062678\n",
            "1/1 [==============================] - 0s 51ms/step\n",
            "0.26704545454545453\n",
            "1/1 [==============================] - 0s 66ms/step\n",
            "0.26628895184135976\n",
            "1/1 [==============================] - 0s 43ms/step\n",
            "0.2655367231638418\n",
            "1/1 [==============================] - 0s 40ms/step\n",
            "0.2647887323943662\n",
            "1/1 [==============================] - 0s 47ms/step\n",
            "0.2640449438202247\n",
            "1/1 [==============================] - 0s 53ms/step\n",
            "0.26330532212885155\n",
            "1/1 [==============================] - 0s 49ms/step\n",
            "0.26256983240223464\n",
            "1/1 [==============================] - 0s 62ms/step\n",
            "0.2646239554317549\n",
            "1/1 [==============================] - 0s 47ms/step\n",
            "0.2638888888888889\n",
            "1/1 [==============================] - 0s 47ms/step\n",
            "0.2631578947368421\n",
            "1/1 [==============================] - 0s 56ms/step\n",
            "0.26243093922651933\n",
            "1/1 [==============================] - 0s 47ms/step\n",
            "0.26170798898071623\n",
            "1/1 [==============================] - 0s 47ms/step\n",
            "0.260989010989011\n",
            "1/1 [==============================] - 0s 47ms/step\n",
            "0.26301369863013696\n",
            "1/1 [==============================] - 0s 49ms/step\n",
            "0.26229508196721313\n",
            "1/1 [==============================] - 0s 59ms/step\n",
            "0.2615803814713896\n",
            "1/1 [==============================] - 0s 65ms/step\n",
            "0.2608695652173913\n",
            "1/1 [==============================] - 0s 46ms/step\n",
            "0.2601626016260163\n",
            "1/1 [==============================] - 0s 53ms/step\n",
            "0.26216216216216215\n",
            "1/1 [==============================] - 0s 72ms/step\n",
            "0.261455525606469\n",
            "1/1 [==============================] - 0s 48ms/step\n",
            "0.260752688172043\n",
            "1/1 [==============================] - 0s 47ms/step\n",
            "0.26005361930294907\n",
            "1/1 [==============================] - 0s 48ms/step\n",
            "0.25935828877005346\n",
            "1/1 [==============================] - 0s 68ms/step\n",
            "0.25866666666666666\n",
            "1/1 [==============================] - 0s 42ms/step\n",
            "0.2579787234042553\n",
            "1/1 [==============================] - 0s 51ms/step\n",
            "0.2572944297082228\n",
            "1/1 [==============================] - 0s 57ms/step\n",
            "0.2566137566137566\n",
            "1/1 [==============================] - 0s 50ms/step\n",
            "0.2559366754617414\n",
            "1/1 [==============================] - 0s 49ms/step\n",
            "0.2578947368421053\n",
            "1/1 [==============================] - 0s 69ms/step\n",
            "0.2572178477690289\n",
            "1/1 [==============================] - 0s 47ms/step\n",
            "0.25654450261780104\n",
            "1/1 [==============================] - 0s 53ms/step\n",
            "0.2558746736292428\n",
            "1/1 [==============================] - 0s 55ms/step\n",
            "0.2552083333333333\n",
            "1/1 [==============================] - 0s 46ms/step\n",
            "0.2545454545454545\n",
            "1/1 [==============================] - 0s 57ms/step\n",
            "0.25647668393782386\n",
            "1/1 [==============================] - 0s 55ms/step\n",
            "0.25839793281653745\n",
            "1/1 [==============================] - 0s 63ms/step\n",
            "0.25773195876288657\n",
            "1/1 [==============================] - 0s 56ms/step\n",
            "0.2570694087403599\n",
            "1/1 [==============================] - 0s 49ms/step\n",
            "0.2564102564102564\n",
            "1/1 [==============================] - 0s 63ms/step\n",
            "0.2557544757033248\n",
            "1/1 [==============================] - 0s 63ms/step\n",
            "0.25510204081632654\n",
            "1/1 [==============================] - 0s 56ms/step\n",
            "0.2544529262086514\n",
            "1/1 [==============================] - 0s 47ms/step\n",
            "0.25380710659898476\n",
            "1/1 [==============================] - 0s 45ms/step\n",
            "0.25569620253164554\n",
            "1/1 [==============================] - 0s 40ms/step\n",
            "0.255050505050505\n",
            "1/1 [==============================] - 0s 47ms/step\n",
            "0.25692695214105793\n",
            "1/1 [==============================] - 0s 49ms/step\n",
            "0.2562814070351759\n",
            "1/1 [==============================] - 0s 49ms/step\n",
            "0.2556390977443609\n",
            "1/1 [==============================] - 0s 51ms/step\n",
            "0.255\n",
            "1/1 [==============================] - 0s 50ms/step\n",
            "0.2543640897755611\n",
            "1/1 [==============================] - 0s 53ms/step\n",
            "0.2562189054726368\n",
            "1/1 [==============================] - 0s 47ms/step\n",
            "0.2555831265508685\n",
            "1/1 [==============================] - 0s 58ms/step\n",
            "0.25495049504950495\n",
            "1/1 [==============================] - 0s 47ms/step\n",
            "0.254320987654321\n",
            "1/1 [==============================] - 0s 50ms/step\n",
            "0.2561576354679803\n",
            "1/1 [==============================] - 0s 47ms/step\n",
            "0.25552825552825553\n",
            "1/1 [==============================] - 0s 47ms/step\n",
            "0.2549019607843137\n",
            "1/1 [==============================] - 0s 47ms/step\n",
            "0.254278728606357\n",
            "1/1 [==============================] - 0s 48ms/step\n",
            "0.25365853658536586\n",
            "1/1 [==============================] - 0s 52ms/step\n",
            "0.25304136253041365\n",
            "1/1 [==============================] - 0s 55ms/step\n",
            "0.2524271844660194\n",
            "1/1 [==============================] - 0s 71ms/step\n",
            "0.25181598062953997\n",
            "1/1 [==============================] - 0s 46ms/step\n",
            "0.25120772946859904\n",
            "1/1 [==============================] - 0s 47ms/step\n",
            "0.25301204819277107\n",
            "1/1 [==============================] - 0s 61ms/step\n",
            "0.25240384615384615\n",
            "1/1 [==============================] - 0s 48ms/step\n",
            "0.2517985611510791\n",
            "1/1 [==============================] - 0s 46ms/step\n",
            "0.2535885167464115\n",
            "1/1 [==============================] - 0s 48ms/step\n",
            "0.2553699284009546\n",
            "1/1 [==============================] - 0s 61ms/step\n",
            "0.25476190476190474\n",
            "1/1 [==============================] - 0s 54ms/step\n",
            "0.25415676959619954\n",
            "1/1 [==============================] - 0s 56ms/step\n",
            "0.25355450236966826\n",
            "1/1 [==============================] - 0s 48ms/step\n",
            "0.2553191489361702\n",
            "1/1 [==============================] - 0s 52ms/step\n",
            "0.25471698113207547\n",
            "1/1 [==============================] - 0s 70ms/step\n",
            "0.2541176470588235\n",
            "1/1 [==============================] - 0s 78ms/step\n",
            "0.2535211267605634\n",
            "1/1 [==============================] - 0s 48ms/step\n",
            "0.2529274004683841\n",
            "1/1 [==============================] - 0s 56ms/step\n",
            "0.2546728971962617\n",
            "1/1 [==============================] - 0s 53ms/step\n",
            "0.2540792540792541\n",
            "1/1 [==============================] - 0s 49ms/step\n",
            "0.2534883720930233\n",
            "1/1 [==============================] - 0s 47ms/step\n",
            "0.2529002320185615\n",
            "1/1 [==============================] - 0s 46ms/step\n",
            "0.25462962962962965\n",
            "1/1 [==============================] - 0s 73ms/step\n",
            "0.2540415704387991\n",
            "1/1 [==============================] - 0s 48ms/step\n",
            "0.2557603686635945\n",
            "1/1 [==============================] - 0s 43ms/step\n",
            "0.25517241379310346\n",
            "1/1 [==============================] - 0s 57ms/step\n",
            "0.2545871559633027\n",
            "1/1 [==============================] - 0s 56ms/step\n",
            "0.2540045766590389\n",
            "1/1 [==============================] - 0s 47ms/step\n",
            "0.2557077625570776\n",
            "1/1 [==============================] - 0s 68ms/step\n",
            "0.25740318906605925\n",
            "1/1 [==============================] - 0s 54ms/step\n",
            "0.25681818181818183\n",
            "1/1 [==============================] - 0s 51ms/step\n",
            "0.2562358276643991\n",
            "1/1 [==============================] - 0s 46ms/step\n",
            "0.2579185520361991\n",
            "1/1 [==============================] - 0s 70ms/step\n",
            "0.25733634311512416\n",
            "1/1 [==============================] - 0s 69ms/step\n",
            "0.25675675675675674\n",
            "1/1 [==============================] - 0s 66ms/step\n",
            "0.25617977528089886\n",
            "1/1 [==============================] - 0s 51ms/step\n",
            "0.2556053811659193\n",
            "1/1 [==============================] - 0s 49ms/step\n",
            "0.2550335570469799\n",
            "1/1 [==============================] - 0s 55ms/step\n",
            "0.2544642857142857\n",
            "1/1 [==============================] - 0s 49ms/step\n",
            "0.25389755011135856\n",
            "1/1 [==============================] - 0s 48ms/step\n",
            "0.25333333333333335\n",
            "1/1 [==============================] - 0s 49ms/step\n",
            "0.25277161862527714\n",
            "1/1 [==============================] - 0s 51ms/step\n",
            "0.252212389380531\n",
            "1/1 [==============================] - 0s 48ms/step\n",
            "0.25386313465783666\n",
            "1/1 [==============================] - 0s 58ms/step\n",
            "0.2533039647577093\n",
            "1/1 [==============================] - 0s 62ms/step\n",
            "0.2549450549450549\n",
            "1/1 [==============================] - 0s 65ms/step\n",
            "0.2543859649122807\n",
            "1/1 [==============================] - 0s 77ms/step\n",
            "0.25601750547045954\n",
            "1/1 [==============================] - 0s 60ms/step\n",
            "0.2576419213973799\n",
            "1/1 [==============================] - 0s 64ms/step\n",
            "0.2570806100217865\n",
            "1/1 [==============================] - 0s 51ms/step\n",
            "0.2565217391304348\n",
            "1/1 [==============================] - 0s 57ms/step\n",
            "0.2559652928416486\n",
            "1/1 [==============================] - 0s 61ms/step\n",
            "0.2554112554112554\n",
            "1/1 [==============================] - 0s 53ms/step\n",
            "0.2570194384449244\n",
            "1/1 [==============================] - 0s 57ms/step\n",
            "0.25862068965517243\n",
            "1/1 [==============================] - 0s 56ms/step\n",
            "0.26021505376344084\n",
            "1/1 [==============================] - 0s 69ms/step\n",
            "0.259656652360515\n",
            "1/1 [==============================] - 0s 51ms/step\n",
            "0.25910064239828695\n",
            "1/1 [==============================] - 0s 59ms/step\n",
            "0.2606837606837607\n",
            "1/1 [==============================] - 0s 58ms/step\n",
            "0.2622601279317697\n",
            "1/1 [==============================] - 0s 55ms/step\n",
            "0.26170212765957446\n",
            "1/1 [==============================] - 0s 65ms/step\n",
            "0.2611464968152866\n",
            "1/1 [==============================] - 0s 59ms/step\n",
            "0.2605932203389831\n",
            "1/1 [==============================] - 0s 49ms/step\n",
            "0.26215644820295986\n",
            "1/1 [==============================] - 0s 78ms/step\n",
            "0.2616033755274262\n",
            "1/1 [==============================] - 0s 50ms/step\n",
            "0.2631578947368421\n",
            "1/1 [==============================] - 0s 67ms/step\n",
            "0.26260504201680673\n",
            "1/1 [==============================] - 0s 52ms/step\n",
            "0.2620545073375262\n",
            "1/1 [==============================] - 0s 59ms/step\n",
            "0.2615062761506276\n",
            "1/1 [==============================] - 0s 47ms/step\n",
            "0.2609603340292276\n",
            "1/1 [==============================] - 0s 49ms/step\n",
            "0.2625\n",
            "1/1 [==============================] - 0s 79ms/step\n",
            "0.26195426195426197\n",
            "1/1 [==============================] - 0s 68ms/step\n",
            "0.26141078838174275\n",
            "1/1 [==============================] - 0s 56ms/step\n",
            "0.2608695652173913\n",
            "1/1 [==============================] - 0s 61ms/step\n",
            "0.2603305785123967\n",
            "1/1 [==============================] - 0s 68ms/step\n",
            "0.2597938144329897\n",
            "1/1 [==============================] - 0s 59ms/step\n",
            "0.25925925925925924\n",
            "1/1 [==============================] - 0s 59ms/step\n",
            "0.2587268993839836\n",
            "1/1 [==============================] - 0s 83ms/step\n",
            "0.26024590163934425\n",
            "1/1 [==============================] - 0s 56ms/step\n",
            "0.25971370143149286\n",
            "1/1 [==============================] - 0s 50ms/step\n",
            "0.25918367346938775\n",
            "1/1 [==============================] - 0s 54ms/step\n",
            "0.2606924643584521\n",
            "1/1 [==============================] - 0s 62ms/step\n",
            "0.2601626016260163\n",
            "1/1 [==============================] - 0s 56ms/step\n",
            "0.25963488843813387\n",
            "1/1 [==============================] - 0s 55ms/step\n",
            "0.2591093117408907\n",
            "1/1 [==============================] - 0s 54ms/step\n",
            "0.2606060606060606\n",
            "1/1 [==============================] - 0s 50ms/step\n",
            "0.2600806451612903\n",
            "1/1 [==============================] - 0s 65ms/step\n",
            "0.2595573440643863\n",
            "1/1 [==============================] - 0s 58ms/step\n",
            "0.25903614457831325\n",
            "1/1 [==============================] - 0s 56ms/step\n",
            "0.25851703406813625\n",
            "1/1 [==============================] - 0s 57ms/step\n",
            "0.258\n",
            "1/1 [==============================] - 0s 48ms/step\n",
            "0.25748502994011974\n",
            "1/1 [==============================] - 0s 60ms/step\n",
            "0.25697211155378485\n",
            "1/1 [==============================] - 0s 55ms/step\n",
            "0.2584493041749503\n",
            "1/1 [==============================] - 0s 55ms/step\n",
            "0.25992063492063494\n",
            "1/1 [==============================] - 0s 55ms/step\n",
            "0.2594059405940594\n",
            "1/1 [==============================] - 0s 50ms/step\n",
            "0.2608695652173913\n",
            "1/1 [==============================] - 0s 49ms/step\n",
            "0.2603550295857988\n",
            "1/1 [==============================] - 0s 49ms/step\n",
            "0.25984251968503935\n",
            "1/1 [==============================] - 0s 58ms/step\n",
            "0.26129666011787817\n",
            "1/1 [==============================] - 0s 54ms/step\n",
            "0.2607843137254902\n",
            "1/1 [==============================] - 0s 54ms/step\n",
            "0.2602739726027397\n",
            "1/1 [==============================] - 0s 58ms/step\n",
            "0.259765625\n",
            "1/1 [==============================] - 0s 55ms/step\n",
            "0.25925925925925924\n",
            "1/1 [==============================] - 0s 51ms/step\n",
            "0.2607003891050584\n",
            "1/1 [==============================] - 0s 51ms/step\n",
            "0.26019417475728157\n",
            "1/1 [==============================] - 0s 64ms/step\n",
            "0.2596899224806202\n",
            "1/1 [==============================] - 0s 50ms/step\n",
            "0.25918762088974856\n",
            "1/1 [==============================] - 0s 77ms/step\n",
            "0.2606177606177606\n",
            "1/1 [==============================] - 0s 51ms/step\n",
            "0.26204238921001927\n",
            "1/1 [==============================] - 0s 55ms/step\n",
            "0.26153846153846155\n",
            "1/1 [==============================] - 0s 56ms/step\n",
            "0.26103646833013433\n",
            "1/1 [==============================] - 0s 58ms/step\n",
            "0.2624521072796935\n",
            "1/1 [==============================] - 0s 48ms/step\n",
            "0.2638623326959847\n",
            "1/1 [==============================] - 0s 51ms/step\n",
            "0.2652671755725191\n",
            "1/1 [==============================] - 0s 49ms/step\n",
            "0.26476190476190475\n",
            "1/1 [==============================] - 0s 49ms/step\n",
            "0.26425855513307983\n",
            "1/1 [==============================] - 0s 62ms/step\n",
            "0.2656546489563567\n",
            "1/1 [==============================] - 0s 57ms/step\n",
            "0.26704545454545453\n",
            "1/1 [==============================] - 0s 60ms/step\n",
            "0.2665406427221172\n",
            "1/1 [==============================] - 0s 56ms/step\n",
            "0.2660377358490566\n",
            "1/1 [==============================] - 0s 60ms/step\n",
            "0.2655367231638418\n",
            "1/1 [==============================] - 0s 58ms/step\n",
            "0.2650375939849624\n",
            "1/1 [==============================] - 0s 56ms/step\n",
            "0.26454033771106944\n",
            "1/1 [==============================] - 0s 57ms/step\n",
            "0.2640449438202247\n",
            "1/1 [==============================] - 0s 53ms/step\n",
            "0.26542056074766357\n",
            "1/1 [==============================] - 0s 54ms/step\n",
            "0.2667910447761194\n",
            "1/1 [==============================] - 0s 58ms/step\n",
            "0.26629422718808193\n",
            "1/1 [==============================] - 0s 57ms/step\n",
            "0.26579925650557623\n",
            "1/1 [==============================] - 0s 48ms/step\n",
            "0.26716141001855287\n",
            "1/1 [==============================] - 0s 65ms/step\n",
            "0.26666666666666666\n",
            "1/1 [==============================] - 0s 48ms/step\n",
            "0.2680221811460259\n",
            "1/1 [==============================] - 0s 59ms/step\n",
            "0.26752767527675275\n",
            "1/1 [==============================] - 0s 49ms/step\n",
            "0.26887661141804786\n",
            "1/1 [==============================] - 0s 56ms/step\n",
            "0.26838235294117646\n",
            "1/1 [==============================] - 0s 45ms/step\n",
            "0.26788990825688075\n",
            "1/1 [==============================] - 0s 75ms/step\n",
            "0.2673992673992674\n",
            "1/1 [==============================] - 0s 59ms/step\n",
            "0.26691042047531993\n",
            "1/1 [==============================] - 0s 47ms/step\n",
            "0.2664233576642336\n",
            "1/1 [==============================] - 0s 57ms/step\n",
            "0.2659380692167577\n",
            "1/1 [==============================] - 0s 49ms/step\n",
            "0.2672727272727273\n",
            "1/1 [==============================] - 0s 52ms/step\n",
            "0.26678765880217786\n",
            "1/1 [==============================] - 0s 58ms/step\n",
            "0.266304347826087\n",
            "1/1 [==============================] - 0s 54ms/step\n",
            "0.26582278481012656\n",
            "1/1 [==============================] - 0s 48ms/step\n",
            "0.26534296028880866\n",
            "1/1 [==============================] - 0s 59ms/step\n",
            "0.26666666666666666\n",
            "1/1 [==============================] - 0s 63ms/step\n",
            "0.26618705035971224\n",
            "1/1 [==============================] - 0s 51ms/step\n",
            "0.26570915619389585\n",
            "1/1 [==============================] - 0s 64ms/step\n",
            "0.26523297491039427\n",
            "1/1 [==============================] - 0s 59ms/step\n",
            "0.26475849731663686\n",
            "1/1 [==============================] - 0s 50ms/step\n",
            "0.2642857142857143\n",
            "1/1 [==============================] - 0s 68ms/step\n",
            "0.2638146167557932\n",
            "1/1 [==============================] - 0s 44ms/step\n",
            "0.26334519572953735\n",
            "1/1 [==============================] - 0s 51ms/step\n",
            "0.26465364120781526\n",
            "1/1 [==============================] - 0s 65ms/step\n",
            "0.26595744680851063\n",
            "1/1 [==============================] - 0s 53ms/step\n",
            "0.26548672566371684\n",
            "1/1 [==============================] - 0s 84ms/step\n",
            "0.2667844522968198\n",
            "1/1 [==============================] - 0s 51ms/step\n",
            "0.26631393298059963\n",
            "1/1 [==============================] - 0s 51ms/step\n",
            "0.2658450704225352\n",
            "1/1 [==============================] - 0s 60ms/step\n",
            "0.26537785588752194\n",
            "1/1 [==============================] - 0s 60ms/step\n",
            "0.2649122807017544\n",
            "1/1 [==============================] - 0s 64ms/step\n",
            "0.266199649737303\n",
            "1/1 [==============================] - 0s 63ms/step\n",
            "0.26573426573426573\n",
            "1/1 [==============================] - 0s 54ms/step\n",
            "0.26527050610820246\n",
            "1/1 [==============================] - 0s 50ms/step\n",
            "0.26480836236933797\n",
            "1/1 [==============================] - 0s 65ms/step\n",
            "0.2643478260869565\n",
            "1/1 [==============================] - 0s 62ms/step\n",
            "0.2638888888888889\n",
            "1/1 [==============================] - 0s 53ms/step\n",
            "0.2634315424610052\n",
            "1/1 [==============================] - 0s 57ms/step\n",
            "0.2647058823529412\n",
            "1/1 [==============================] - 0s 55ms/step\n",
            "0.26424870466321243\n",
            "1/1 [==============================] - 0s 52ms/step\n",
            "0.2637931034482759\n",
            "1/1 [==============================] - 0s 55ms/step\n",
            "0.2633390705679862\n",
            "1/1 [==============================] - 0s 50ms/step\n",
            "0.26288659793814434\n",
            "1/1 [==============================] - 0s 48ms/step\n",
            "0.2624356775300172\n",
            "1/1 [==============================] - 0s 49ms/step\n",
            "0.2636986301369863\n",
            "1/1 [==============================] - 0s 52ms/step\n",
            "0.26495726495726496\n",
            "1/1 [==============================] - 0s 58ms/step\n",
            "0.2645051194539249\n",
            "1/1 [==============================] - 0s 48ms/step\n",
            "0.26405451448040884\n",
            "1/1 [==============================] - 0s 57ms/step\n",
            "0.26360544217687076\n",
            "1/1 [==============================] - 0s 54ms/step\n",
            "0.2631578947368421\n",
            "1/1 [==============================] - 0s 47ms/step\n",
            "0.2627118644067797\n",
            "1/1 [==============================] - 0s 50ms/step\n",
            "0.2622673434856176\n",
            "1/1 [==============================] - 0s 71ms/step\n",
            "0.26182432432432434\n",
            "1/1 [==============================] - 0s 48ms/step\n",
            "0.26138279932546377\n",
            "1/1 [==============================] - 0s 59ms/step\n",
            "0.26262626262626265\n",
            "1/1 [==============================] - 0s 57ms/step\n",
            "0.26218487394957984\n",
            "1/1 [==============================] - 0s 63ms/step\n",
            "0.26174496644295303\n",
            "1/1 [==============================] - 0s 61ms/step\n",
            "0.2613065326633166\n",
            "1/1 [==============================] - 0s 49ms/step\n",
            "0.2608695652173913\n",
            "1/1 [==============================] - 0s 48ms/step\n",
            "0.2604340567612688\n",
            "1/1 [==============================] - 0s 50ms/step\n",
            "0.26166666666666666\n",
            "1/1 [==============================] - 0s 57ms/step\n",
            "0.2612312811980033\n",
            "1/1 [==============================] - 0s 47ms/step\n",
            "0.260797342192691\n",
            "1/1 [==============================] - 0s 52ms/step\n",
            "0.2603648424543947\n",
            "1/1 [==============================] - 0s 50ms/step\n",
            "0.2599337748344371\n",
            "1/1 [==============================] - 0s 60ms/step\n",
            "0.25950413223140495\n",
            "1/1 [==============================] - 0s 50ms/step\n",
            "0.2590759075907591\n",
            "1/1 [==============================] - 0s 63ms/step\n",
            "0.2602965403624382\n",
            "1/1 [==============================] - 0s 58ms/step\n",
            "0.2598684210526316\n",
            "1/1 [==============================] - 0s 53ms/step\n",
            "0.2594417077175698\n",
            "1/1 [==============================] - 0s 69ms/step\n",
            "0.260655737704918\n",
            "1/1 [==============================] - 0s 47ms/step\n",
            "0.2618657937806874\n",
            "1/1 [==============================] - 0s 64ms/step\n",
            "0.26143790849673204\n",
            "1/1 [==============================] - 0s 50ms/step\n",
            "0.26101141924959215\n",
            "1/1 [==============================] - 0s 60ms/step\n",
            "0.26058631921824105\n",
            "1/1 [==============================] - 0s 48ms/step\n",
            "0.2601626016260163\n",
            "1/1 [==============================] - 0s 54ms/step\n",
            "0.2597402597402597\n",
            "1/1 [==============================] - 0s 49ms/step\n",
            "0.26094003241491087\n",
            "1/1 [==============================] - 0s 61ms/step\n",
            "0.2605177993527508\n",
            "1/1 [==============================] - 0s 53ms/step\n",
            "0.26009693053311794\n",
            "1/1 [==============================] - 0s 61ms/step\n",
            "0.25967741935483873\n",
            "1/1 [==============================] - 0s 95ms/step\n",
            "0.25925925925925924\n",
            "1/1 [==============================] - 0s 61ms/step\n",
            "0.2604501607717042\n",
            "1/1 [==============================] - 0s 46ms/step\n",
            "0.26003210272873195\n",
            "1/1 [==============================] - 0s 47ms/step\n",
            "0.25961538461538464\n",
            "1/1 [==============================] - 0s 47ms/step\n",
            "0.2608\n",
            "1/1 [==============================] - 0s 66ms/step\n",
            "0.26038338658146964\n",
            "1/1 [==============================] - 0s 64ms/step\n",
            "0.26156299840510366\n",
            "1/1 [==============================] - 0s 66ms/step\n",
            "0.2611464968152866\n",
            "1/1 [==============================] - 0s 61ms/step\n",
            "0.26073131955484896\n",
            "1/1 [==============================] - 0s 51ms/step\n",
            "0.26031746031746034\n",
            "1/1 [==============================] - 0s 58ms/step\n",
            "0.26148969889064977\n",
            "1/1 [==============================] - 0s 49ms/step\n",
            "0.2626582278481013\n",
            "1/1 [==============================] - 0s 47ms/step\n",
            "0.26224328593996843\n",
            "1/1 [==============================] - 0s 58ms/step\n",
            "0.2634069400630915\n",
            "1/1 [==============================] - 0s 64ms/step\n",
            "0.262992125984252\n",
            "1/1 [==============================] - 0s 50ms/step\n",
            "0.2641509433962264\n",
            "1/1 [==============================] - 0s 51ms/step\n",
            "0.26373626373626374\n",
            "1/1 [==============================] - 0s 65ms/step\n",
            "0.26332288401253917\n",
            "1/1 [==============================] - 0s 74ms/step\n",
            "0.26291079812206575\n",
            "1/1 [==============================] - 0s 50ms/step\n",
            "0.2625\n",
            "1/1 [==============================] - 0s 74ms/step\n",
            "0.2620904836193448\n",
            "1/1 [==============================] - 0s 49ms/step\n",
            "0.2616822429906542\n",
            "1/1 [==============================] - 0s 61ms/step\n",
            "0.26127527216174184\n",
            "1/1 [==============================] - 0s 59ms/step\n",
            "0.2608695652173913\n",
            "1/1 [==============================] - 0s 53ms/step\n",
            "0.26046511627906976\n",
            "1/1 [==============================] - 0s 48ms/step\n",
            "0.26006191950464397\n",
            "1/1 [==============================] - 0s 48ms/step\n",
            "0.26120556414219476\n",
            "1/1 [==============================] - 0s 52ms/step\n",
            "0.2623456790123457\n",
            "1/1 [==============================] - 0s 55ms/step\n",
            "0.26194144838212635\n",
            "1/1 [==============================] - 0s 61ms/step\n",
            "0.2630769230769231\n",
            "1/1 [==============================] - 0s 49ms/step\n",
            "0.2642089093701997\n",
            "1/1 [==============================] - 0s 62ms/step\n",
            "0.26380368098159507\n",
            "1/1 [==============================] - 0s 45ms/step\n",
            "0.26339969372128635\n",
            "1/1 [==============================] - 0s 49ms/step\n",
            "0.26299694189602446\n",
            "1/1 [==============================] - 0s 47ms/step\n",
            "0.26259541984732826\n",
            "1/1 [==============================] - 0s 55ms/step\n",
            "0.2621951219512195\n",
            "1/1 [==============================] - 0s 49ms/step\n",
            "0.2617960426179604\n",
            "1/1 [==============================] - 0s 61ms/step\n",
            "0.2613981762917933\n",
            "1/1 [==============================] - 0s 64ms/step\n",
            "0.26251896813353565\n",
            "1/1 [==============================] - 0s 47ms/step\n",
            "0.26212121212121214\n",
            "1/1 [==============================] - 0s 55ms/step\n",
            "0.2617246596066566\n",
            "1/1 [==============================] - 0s 56ms/step\n",
            "0.26132930513595165\n",
            "1/1 [==============================] - 0s 56ms/step\n",
            "0.26244343891402716\n",
            "1/1 [==============================] - 0s 59ms/step\n",
            "0.2620481927710843\n",
            "1/1 [==============================] - 0s 54ms/step\n",
            "0.2631578947368421\n",
            "1/1 [==============================] - 0s 58ms/step\n",
            "0.2627627627627628\n",
            "1/1 [==============================] - 0s 49ms/step\n",
            "0.2623688155922039\n",
            "1/1 [==============================] - 0s 64ms/step\n",
            "0.2619760479041916\n",
            "1/1 [==============================] - 0s 55ms/step\n",
            "0.2615844544095665\n",
            "1/1 [==============================] - 0s 59ms/step\n",
            "0.26119402985074625\n",
            "1/1 [==============================] - 0s 58ms/step\n",
            "0.26229508196721313\n",
            "1/1 [==============================] - 0s 45ms/step\n",
            "0.26339285714285715\n",
            "1/1 [==============================] - 0s 47ms/step\n",
            "0.26300148588410105\n",
            "1/1 [==============================] - 0s 47ms/step\n",
            "0.2626112759643917\n",
            "1/1 [==============================] - 0s 49ms/step\n",
            "0.26222222222222225\n",
            "1/1 [==============================] - 0s 74ms/step\n",
            "0.26331360946745563\n",
            "1/1 [==============================] - 0s 51ms/step\n",
            "0.26292466765140327\n",
            "1/1 [==============================] - 0s 55ms/step\n",
            "0.26253687315634217\n",
            "1/1 [==============================] - 0s 66ms/step\n",
            "0.2621502209131075\n",
            "1/1 [==============================] - 0s 62ms/step\n",
            "0.26176470588235295\n",
            "1/1 [==============================] - 0s 53ms/step\n",
            "0.26284875183553597\n",
            "1/1 [==============================] - 0s 58ms/step\n",
            "0.2624633431085044\n",
            "1/1 [==============================] - 0s 56ms/step\n",
            "0.2635431918008785\n",
            "1/1 [==============================] - 0s 51ms/step\n",
            "0.2646198830409357\n",
            "1/1 [==============================] - 0s 65ms/step\n",
            "0.2656934306569343\n",
            "1/1 [==============================] - 0s 54ms/step\n",
            "0.2653061224489796\n",
            "1/1 [==============================] - 0s 58ms/step\n",
            "0.264919941775837\n",
            "1/1 [==============================] - 0s 71ms/step\n",
            "0.26453488372093026\n",
            "1/1 [==============================] - 0s 57ms/step\n",
            "0.2641509433962264\n",
            "1/1 [==============================] - 0s 62ms/step\n",
            "0.263768115942029\n",
            "1/1 [==============================] - 0s 62ms/step\n",
            "0.2633863965267728\n",
            "1/1 [==============================] - 0s 61ms/step\n",
            "0.26445086705202314\n",
            "1/1 [==============================] - 0s 53ms/step\n",
            "0.26406926406926406\n",
            "1/1 [==============================] - 0s 48ms/step\n",
            "0.26512968299711814\n",
            "1/1 [==============================] - 0s 67ms/step\n",
            "0.26618705035971224\n",
            "1/1 [==============================] - 0s 50ms/step\n",
            "0.2672413793103448\n",
            "1/1 [==============================] - 0s 59ms/step\n",
            "0.266857962697274\n",
            "1/1 [==============================] - 0s 62ms/step\n",
            "0.2664756446991404\n",
            "1/1 [==============================] - 0s 53ms/step\n",
            "0.2675250357653791\n",
            "1/1 [==============================] - 0s 58ms/step\n",
            "0.2671428571428571\n",
            "1/1 [==============================] - 0s 58ms/step\n",
            "0.268188302425107\n",
            "1/1 [==============================] - 0s 54ms/step\n",
            "0.2678062678062678\n",
            "1/1 [==============================] - 0s 55ms/step\n",
            "0.26884779516358465\n",
            "1/1 [==============================] - 0s 48ms/step\n",
            "0.26988636363636365\n",
            "1/1 [==============================] - 0s 87ms/step\n",
            "0.2695035460992908\n",
            "1/1 [==============================] - 0s 41ms/step\n",
            "0.26912181303116145\n",
            "1/1 [==============================] - 0s 64ms/step\n",
            "0.26874115983026875\n",
            "1/1 [==============================] - 0s 54ms/step\n",
            "0.268361581920904\n",
            "1/1 [==============================] - 0s 46ms/step\n",
            "0.2679830747531735\n",
            "1/1 [==============================] - 0s 64ms/step\n",
            "0.2676056338028169\n",
            "1/1 [==============================] - 0s 47ms/step\n",
            "0.2672292545710267\n",
            "1/1 [==============================] - 0s 46ms/step\n",
            "0.26825842696629215\n",
            "1/1 [==============================] - 0s 47ms/step\n",
            "0.26788218793828894\n",
            "1/1 [==============================] - 0s 47ms/step\n",
            "0.2689075630252101\n",
            "1/1 [==============================] - 0s 58ms/step\n",
            "0.2699300699300699\n",
            "1/1 [==============================] - 0s 65ms/step\n",
            "0.26955307262569833\n",
            "1/1 [==============================] - 0s 56ms/step\n",
            "0.2691771269177127\n",
            "1/1 [==============================] - 0s 56ms/step\n",
            "0.27019498607242337\n",
            "1/1 [==============================] - 0s 49ms/step\n",
            "0.2712100139082058\n",
            "1/1 [==============================] - 0s 52ms/step\n",
            "0.2722222222222222\n",
            "1/1 [==============================] - 0s 44ms/step\n",
            "0.27184466019417475\n",
            "1/1 [==============================] - 0s 49ms/step\n",
            "0.27146814404432135\n",
            "1/1 [==============================] - 0s 63ms/step\n",
            "0.2710926694329184\n",
            "1/1 [==============================] - 0s 59ms/step\n",
            "0.27209944751381215\n",
            "1/1 [==============================] - 0s 52ms/step\n",
            "0.2717241379310345\n",
            "1/1 [==============================] - 0s 54ms/step\n",
            "0.2713498622589532\n",
            "1/1 [==============================] - 0s 47ms/step\n",
            "0.27097661623108665\n",
            "1/1 [==============================] - 0s 69ms/step\n",
            "0.2706043956043956\n",
            "1/1 [==============================] - 0s 48ms/step\n",
            "0.27023319615912206\n",
            "1/1 [==============================] - 0s 56ms/step\n",
            "0.26986301369863014\n",
            "1/1 [==============================] - 0s 60ms/step\n",
            "0.2694938440492476\n",
            "1/1 [==============================] - 0s 54ms/step\n",
            "0.2691256830601093\n",
            "1/1 [==============================] - 0s 46ms/step\n",
            "0.26875852660300137\n",
            "1/1 [==============================] - 0s 60ms/step\n",
            "0.2683923705722071\n",
            "1/1 [==============================] - 0s 71ms/step\n",
            "0.2680272108843537\n",
            "1/1 [==============================] - 0s 54ms/step\n",
            "0.26766304347826086\n",
            "1/1 [==============================] - 0s 48ms/step\n",
            "0.2672998643147897\n",
            "1/1 [==============================] - 0s 59ms/step\n",
            "0.2669376693766938\n",
            "1/1 [==============================] - 0s 48ms/step\n",
            "0.2665764546684709\n",
            "1/1 [==============================] - 0s 51ms/step\n",
            "0.26756756756756755\n",
            "1/1 [==============================] - 0s 46ms/step\n",
            "0.26720647773279355\n",
            "1/1 [==============================] - 0s 57ms/step\n",
            "0.2668463611859838\n",
            "1/1 [==============================] - 0s 60ms/step\n",
            "0.26648721399730824\n",
            "1/1 [==============================] - 0s 76ms/step\n",
            "0.2661290322580645\n",
            "1/1 [==============================] - 0s 49ms/step\n",
            "0.2657718120805369\n",
            "1/1 [==============================] - 0s 82ms/step\n",
            "0.2667560321715818\n",
            "1/1 [==============================] - 0s 51ms/step\n",
            "0.2677376171352075\n",
            "1/1 [==============================] - 0s 50ms/step\n",
            "0.26871657754010697\n",
            "1/1 [==============================] - 0s 58ms/step\n",
            "0.2683578104138852\n",
            "1/1 [==============================] - 0s 60ms/step\n",
            "0.2693333333333333\n",
            "1/1 [==============================] - 0s 59ms/step\n",
            "0.27030625832223704\n",
            "1/1 [==============================] - 0s 55ms/step\n",
            "0.2699468085106383\n",
            "1/1 [==============================] - 0s 52ms/step\n",
            "0.2695883134130146\n",
            "1/1 [==============================] - 0s 50ms/step\n",
            "0.27055702917771884\n",
            "1/1 [==============================] - 0s 70ms/step\n",
            "0.271523178807947\n",
            "1/1 [==============================] - 0s 47ms/step\n",
            "0.2724867724867725\n",
            "1/1 [==============================] - 0s 74ms/step\n",
            "0.27344782034346105\n",
            "1/1 [==============================] - 0s 46ms/step\n",
            "0.27308707124010556\n",
            "1/1 [==============================] - 0s 61ms/step\n",
            "0.2740447957839262\n",
            "1/1 [==============================] - 0s 55ms/step\n",
            "0.275\n",
            "1/1 [==============================] - 0s 54ms/step\n",
            "0.27463863337713534\n",
            "1/1 [==============================] - 0s 41ms/step\n",
            "0.2742782152230971\n",
            "1/1 [==============================] - 0s 71ms/step\n",
            "0.27522935779816515\n",
            "1/1 [==============================] - 0s 41ms/step\n",
            "0.2761780104712042\n",
            "1/1 [==============================] - 0s 47ms/step\n",
            "0.27712418300653596\n",
            "1/1 [==============================] - 0s 47ms/step\n",
            "0.2780678851174935\n",
            "1/1 [==============================] - 0s 61ms/step\n",
            "0.2777053455019557\n",
            "1/1 [==============================] - 0s 73ms/step\n",
            "0.27734375\n",
            "1/1 [==============================] - 0s 40ms/step\n",
            "0.27698309492847856\n",
            "1/1 [==============================] - 0s 47ms/step\n",
            "0.2766233766233766\n",
            "1/1 [==============================] - 0s 54ms/step\n",
            "0.27626459143968873\n",
            "1/1 [==============================] - 0s 49ms/step\n",
            "0.2772020725388601\n",
            "1/1 [==============================] - 0s 56ms/step\n",
            "0.276843467011643\n",
            "1/1 [==============================] - 0s 59ms/step\n",
            "0.2777777777777778\n",
            "1/1 [==============================] - 0s 54ms/step\n",
            "0.27741935483870966\n",
            "1/1 [==============================] - 0s 46ms/step\n",
            "0.2770618556701031\n",
            "1/1 [==============================] - 0s 47ms/step\n",
            "0.2767052767052767\n",
            "1/1 [==============================] - 0s 50ms/step\n",
            "0.2763496143958869\n",
            "1/1 [==============================] - 0s 49ms/step\n",
            "0.27599486521181\n",
            "1/1 [==============================] - 0s 45ms/step\n",
            "0.27564102564102566\n",
            "1/1 [==============================] - 0s 41ms/step\n",
            "0.2752880921895006\n",
            "1/1 [==============================] - 0s 49ms/step\n",
            "0.2749360613810742\n",
            "1/1 [==============================] - 0s 46ms/step\n",
            "0.27586206896551724\n",
            "1/1 [==============================] - 0s 48ms/step\n",
            "0.2755102040816326\n",
            "1/1 [==============================] - 0s 46ms/step\n",
            "0.2751592356687898\n",
            "1/1 [==============================] - 0s 47ms/step\n",
            "0.2748091603053435\n",
            "1/1 [==============================] - 0s 64ms/step\n",
            "0.2744599745870394\n",
            "1/1 [==============================] - 0s 47ms/step\n",
            "0.27411167512690354\n",
            "1/1 [==============================] - 0s 88ms/step\n",
            "0.2737642585551331\n",
            "1/1 [==============================] - 0s 46ms/step\n",
            "0.27341772151898736\n",
            "1/1 [==============================] - 0s 55ms/step\n",
            "0.27307206068268014\n",
            "1/1 [==============================] - 0s 47ms/step\n",
            "0.2727272727272727\n",
            "1/1 [==============================] - 0s 98ms/step\n",
            "0.2723833543505675\n",
            "1/1 [==============================] - 0s 43ms/step\n",
            "0.27204030226700254\n",
            "1/1 [==============================] - 0s 63ms/step\n",
            "0.27169811320754716\n",
            "1/1 [==============================] - 0s 56ms/step\n",
            "0.27261306532663315\n",
            "1/1 [==============================] - 0s 49ms/step\n",
            "0.2722710163111669\n",
            "1/1 [==============================] - 0s 52ms/step\n",
            "0.2719298245614035\n",
            "1/1 [==============================] - 0s 57ms/step\n",
            "0.2715894868585732\n",
            "1/1 [==============================] - 0s 40ms/step\n",
            "0.27125\n",
            "1/1 [==============================] - 0s 64ms/step\n",
            "0.27091136079900124\n",
            "1/1 [==============================] - 0s 48ms/step\n",
            "0.27057356608478805\n",
            "1/1 [==============================] - 0s 47ms/step\n",
            "0.2714819427148194\n",
            "1/1 [==============================] - 0s 46ms/step\n",
            "0.27238805970149255\n",
            "1/1 [==============================] - 0s 62ms/step\n",
            "0.2720496894409938\n",
            "1/1 [==============================] - 0s 57ms/step\n",
            "0.271712158808933\n",
            "1/1 [==============================] - 0s 48ms/step\n",
            "0.27137546468401486\n",
            "1/1 [==============================] - 0s 56ms/step\n",
            "0.27103960396039606\n",
            "1/1 [==============================] - 0s 57ms/step\n",
            "0.27070457354758964\n",
            "1/1 [==============================] - 0s 50ms/step\n",
            "0.27037037037037037\n",
            "1/1 [==============================] - 0s 54ms/step\n",
            "0.27003699136868065\n",
            "1/1 [==============================] - 0s 54ms/step\n",
            "0.2697044334975369\n",
            "1/1 [==============================] - 0s 54ms/step\n",
            "0.2693726937269373\n",
            "1/1 [==============================] - 0s 46ms/step\n",
            "0.2702702702702703\n",
            "1/1 [==============================] - 0s 46ms/step\n",
            "0.27116564417177913\n",
            "1/1 [==============================] - 0s 60ms/step\n",
            "0.2708333333333333\n",
            "1/1 [==============================] - 0s 53ms/step\n",
            "0.2717258261933905\n",
            "1/1 [==============================] - 0s 68ms/step\n",
            "0.2713936430317848\n",
            "1/1 [==============================] - 0s 66ms/step\n",
            "0.27228327228327226\n",
            "1/1 [==============================] - 0s 47ms/step\n",
            "0.27195121951219514\n",
            "1/1 [==============================] - 0s 48ms/step\n",
            "0.27161997563946405\n",
            "1/1 [==============================] - 0s 53ms/step\n",
            "0.2712895377128954\n",
            "1/1 [==============================] - 0s 54ms/step\n",
            "0.27217496962332927\n",
            "1/1 [==============================] - 0s 46ms/step\n",
            "0.27184466019417475\n",
            "1/1 [==============================] - 0s 50ms/step\n",
            "0.27151515151515154\n",
            "1/1 [==============================] - 0s 48ms/step\n",
            "0.27239709443099275\n",
            "1/1 [==============================] - 0s 51ms/step\n",
            "0.27327690447400244\n",
            "1/1 [==============================] - 0s 59ms/step\n",
            "0.2741545893719807\n",
            "1/1 [==============================] - 0s 50ms/step\n",
            "0.2750301568154403\n",
            "1/1 [==============================] - 0s 43ms/step\n",
            "0.2746987951807229\n",
            "1/1 [==============================] - 0s 49ms/step\n",
            "0.2743682310469314\n",
            "1/1 [==============================] - 0s 65ms/step\n",
            "0.27403846153846156\n",
            "1/1 [==============================] - 0s 57ms/step\n",
            "0.2737094837935174\n",
            "1/1 [==============================] - 0s 50ms/step\n",
            "0.2733812949640288\n",
            "1/1 [==============================] - 0s 49ms/step\n",
            "0.27305389221556886\n",
            "1/1 [==============================] - 0s 47ms/step\n",
            "0.2727272727272727\n",
            "1/1 [==============================] - 0s 67ms/step\n",
            "0.2724014336917563\n",
            "1/1 [==============================] - 0s 48ms/step\n",
            "0.2720763723150358\n",
            "1/1 [==============================] - 0s 48ms/step\n",
            "0.2729439809296782\n",
            "1/1 [==============================] - 0s 46ms/step\n",
            "0.2726190476190476\n",
            "1/1 [==============================] - 0s 56ms/step\n",
            "0.272294887039239\n",
            "1/1 [==============================] - 0s 51ms/step\n",
            "0.27197149643705465\n",
            "1/1 [==============================] - 0s 53ms/step\n",
            "0.27164887307236063\n",
            "1/1 [==============================] - 0s 54ms/step\n",
            "0.2713270142180095\n",
            "1/1 [==============================] - 0s 51ms/step\n",
            "0.2710059171597633\n",
            "1/1 [==============================] - 0s 50ms/step\n",
            "0.2706855791962175\n",
            "1/1 [==============================] - 0s 55ms/step\n",
            "0.27036599763872493\n",
            "1/1 [==============================] - 0s 67ms/step\n",
            "0.27004716981132076\n",
            "1/1 [==============================] - 0s 47ms/step\n",
            "0.2697290930506478\n",
            "1/1 [==============================] - 0s 46ms/step\n",
            "0.26941176470588235\n",
            "1/1 [==============================] - 0s 46ms/step\n",
            "0.2702702702702703\n",
            "1/1 [==============================] - 0s 59ms/step\n",
            "0.2699530516431925\n",
            "1/1 [==============================] - 0s 48ms/step\n",
            "0.2696365767878077\n",
            "1/1 [==============================] - 0s 52ms/step\n",
            "0.2693208430913349\n",
            "1/1 [==============================] - 0s 55ms/step\n",
            "0.27017543859649124\n",
            "1/1 [==============================] - 0s 47ms/step\n",
            "0.26985981308411217\n",
            "1/1 [==============================] - 0s 48ms/step\n",
            "0.2707117852975496\n",
            "1/1 [==============================] - 0s 47ms/step\n",
            "0.2703962703962704\n",
            "1/1 [==============================] - 0s 63ms/step\n",
            "0.2712456344586729\n",
            "1/1 [==============================] - 0s 55ms/step\n",
            "0.2709302325581395\n",
            "1/1 [==============================] - 0s 78ms/step\n",
            "0.2706155632984901\n",
            "1/1 [==============================] - 0s 59ms/step\n",
            "0.2703016241299304\n",
            "1/1 [==============================] - 0s 52ms/step\n",
            "0.26998841251448435\n",
            "1/1 [==============================] - 0s 53ms/step\n",
            "0.26967592592592593\n",
            "1/1 [==============================] - 0s 52ms/step\n",
            "0.2705202312138728\n",
            "1/1 [==============================] - 0s 59ms/step\n",
            "0.27136258660508084\n",
            "1/1 [==============================] - 0s 54ms/step\n",
            "0.2710495963091119\n",
            "1/1 [==============================] - 0s 57ms/step\n",
            "0.271889400921659\n",
            "1/1 [==============================] - 0s 57ms/step\n",
            "0.2715765247410817\n",
            "1/1 [==============================] - 0s 47ms/step\n",
            "0.271264367816092\n",
            "1/1 [==============================] - 0s 46ms/step\n",
            "0.2709529276693456\n",
            "1/1 [==============================] - 0s 55ms/step\n",
            "0.2717889908256881\n",
            "1/1 [==============================] - 0s 61ms/step\n",
            "0.27147766323024053\n",
            "1/1 [==============================] - 0s 43ms/step\n",
            "0.2711670480549199\n",
            "1/1 [==============================] - 0s 48ms/step\n",
            "0.272\n",
            "1/1 [==============================] - 0s 48ms/step\n",
            "0.2728310502283105\n",
            "1/1 [==============================] - 0s 45ms/step\n",
            "0.2725199543899658\n",
            "1/1 [==============================] - 0s 50ms/step\n",
            "0.2722095671981777\n",
            "1/1 [==============================] - 0s 55ms/step\n",
            "0.27189988623435724\n",
            "1/1 [==============================] - 0s 52ms/step\n",
            "0.2727272727272727\n",
            "1/1 [==============================] - 0s 53ms/step\n",
            "0.2724177071509648\n",
            "1/1 [==============================] - 0s 45ms/step\n",
            "0.272108843537415\n",
            "1/1 [==============================] - 0s 47ms/step\n",
            "0.2718006795016987\n",
            "1/1 [==============================] - 0s 47ms/step\n",
            "0.27262443438914025\n",
            "1/1 [==============================] - 0s 48ms/step\n",
            "0.27231638418079096\n",
            "1/1 [==============================] - 0s 48ms/step\n",
            "0.27200902934537247\n",
            "1/1 [==============================] - 0s 50ms/step\n",
            "0.27282976324689967\n",
            "1/1 [==============================] - 0s 48ms/step\n",
            "0.2725225225225225\n",
            "1/1 [==============================] - 0s 48ms/step\n",
            "0.27334083239595053\n",
            "1/1 [==============================] - 0s 54ms/step\n",
            "0.27415730337078653\n",
            "1/1 [==============================] - 0s 53ms/step\n",
            "0.2738496071829405\n",
            "1/1 [==============================] - 0s 46ms/step\n",
            "0.273542600896861\n",
            "1/1 [==============================] - 0s 77ms/step\n",
            "0.2732362821948488\n",
            "1/1 [==============================] - 0s 56ms/step\n",
            "0.2740492170022371\n",
            "1/1 [==============================] - 0s 56ms/step\n",
            "0.2748603351955307\n",
            "1/1 [==============================] - 0s 40ms/step\n",
            "0.27455357142857145\n",
            "1/1 [==============================] - 0s 48ms/step\n",
            "0.27424749163879597\n",
            "1/1 [==============================] - 0s 68ms/step\n",
            "0.2750556792873051\n",
            "1/1 [==============================] - 0s 58ms/step\n",
            "0.27474972191323693\n",
            "1/1 [==============================] - 0s 60ms/step\n",
            "0.27555555555555555\n",
            "1/1 [==============================] - 0s 48ms/step\n",
            "0.2763596004439512\n",
            "1/1 [==============================] - 0s 51ms/step\n",
            "0.27605321507760533\n",
            "1/1 [==============================] - 0s 60ms/step\n",
            "0.2757475083056478\n",
            "1/1 [==============================] - 0s 51ms/step\n",
            "0.27654867256637167\n",
            "1/1 [==============================] - 0s 40ms/step\n",
            "0.27624309392265195\n",
            "1/1 [==============================] - 0s 52ms/step\n",
            "0.27593818984547464\n",
            "1/1 [==============================] - 0s 60ms/step\n",
            "0.27673649393605293\n",
            "1/1 [==============================] - 0s 48ms/step\n",
            "0.276431718061674\n",
            "1/1 [==============================] - 0s 44ms/step\n",
            "0.27722772277227725\n",
            "1/1 [==============================] - 0s 41ms/step\n",
            "0.27692307692307694\n",
            "1/1 [==============================] - 0s 46ms/step\n",
            "0.27661909989023054\n",
            "1/1 [==============================] - 0s 49ms/step\n",
            "0.27631578947368424\n",
            "1/1 [==============================] - 0s 59ms/step\n",
            "0.276013143483023\n",
            "1/1 [==============================] - 0s 47ms/step\n",
            "0.27571115973741794\n",
            "1/1 [==============================] - 0s 70ms/step\n",
            "0.2754098360655738\n",
            "1/1 [==============================] - 0s 49ms/step\n",
            "0.2762008733624454\n",
            "1/1 [==============================] - 0s 46ms/step\n",
            "0.27589967284623773\n",
            "1/1 [==============================] - 0s 57ms/step\n",
            "0.275599128540305\n",
            "1/1 [==============================] - 0s 66ms/step\n",
            "0.2763873775843308\n",
            "1/1 [==============================] - 0s 49ms/step\n",
            "0.27608695652173915\n",
            "1/1 [==============================] - 0s 59ms/step\n",
            "0.2757871878393051\n",
            "1/1 [==============================] - 0s 62ms/step\n",
            "0.2765726681127983\n",
            "1/1 [==============================] - 0s 44ms/step\n",
            "0.27627302275189597\n",
            "1/1 [==============================] - 0s 49ms/step\n",
            "0.275974025974026\n",
            "1/1 [==============================] - 0s 53ms/step\n",
            "0.2756756756756757\n",
            "1/1 [==============================] - 0s 49ms/step\n",
            "0.275377969762419\n",
            "1/1 [==============================] - 0s 55ms/step\n",
            "0.2750809061488673\n",
            "1/1 [==============================] - 0s 48ms/step\n",
            "0.27478448275862066\n",
            "1/1 [==============================] - 0s 53ms/step\n",
            "0.2744886975242196\n",
            "1/1 [==============================] - 0s 61ms/step\n",
            "0.27419354838709675\n",
            "1/1 [==============================] - 0s 57ms/step\n",
            "0.2738990332975295\n",
            "1/1 [==============================] - 0s 47ms/step\n",
            "0.27467811158798283\n",
            "1/1 [==============================] - 0s 48ms/step\n",
            "0.27438370846730975\n",
            "1/1 [==============================] - 0s 59ms/step\n",
            "0.2740899357601713\n",
            "1/1 [==============================] - 0s 58ms/step\n",
            "0.2737967914438503\n",
            "1/1 [==============================] - 0s 64ms/step\n",
            "0.27350427350427353\n",
            "1/1 [==============================] - 0s 51ms/step\n",
            "0.27321237993596587\n",
            "1/1 [==============================] - 0s 65ms/step\n",
            "0.27292110874200426\n",
            "1/1 [==============================] - 0s 46ms/step\n",
            "0.27263045793397234\n",
            "1/1 [==============================] - 0s 75ms/step\n",
            "0.2723404255319149\n",
            "1/1 [==============================] - 0s 65ms/step\n",
            "0.2731137088204038\n",
            "1/1 [==============================] - 0s 47ms/step\n",
            "0.27282377919320594\n",
            "1/1 [==============================] - 0s 68ms/step\n",
            "0.2725344644750795\n",
            "1/1 [==============================] - 0s 63ms/step\n",
            "0.2733050847457627\n",
            "1/1 [==============================] - 0s 51ms/step\n",
            "0.273015873015873\n",
            "1/1 [==============================] - 0s 56ms/step\n",
            "0.273784355179704\n",
            "1/1 [==============================] - 0s 55ms/step\n",
            "0.2734952481520591\n",
            "1/1 [==============================] - 0s 56ms/step\n",
            "0.2742616033755274\n",
            "1/1 [==============================] - 0s 51ms/step\n",
            "0.273972602739726\n",
            "1/1 [==============================] - 0s 49ms/step\n",
            "0.2736842105263158\n",
            "1/1 [==============================] - 0s 47ms/step\n",
            "0.2733964248159832\n",
            "1/1 [==============================] - 0s 59ms/step\n",
            "0.27310924369747897\n",
            "1/1 [==============================] - 0s 72ms/step\n",
            "0.2728226652675761\n",
            "1/1 [==============================] - 0s 59ms/step\n",
            "0.27253668763102723\n",
            "1/1 [==============================] - 0s 53ms/step\n",
            "0.27225130890052357\n",
            "1/1 [==============================] - 0s 48ms/step\n",
            "0.2719665271966527\n",
            "1/1 [==============================] - 0s 61ms/step\n",
            "0.2716823406478579\n",
            "1/1 [==============================] - 0s 51ms/step\n",
            "0.27139874739039666\n",
            "1/1 [==============================] - 0s 54ms/step\n",
            "0.2711157455683003\n",
            "1/1 [==============================] - 0s 53ms/step\n",
            "0.2708333333333333\n",
            "1/1 [==============================] - 0s 62ms/step\n",
            "0.27055150884495316\n",
            "1/1 [==============================] - 0s 47ms/step\n",
            "0.2702702702702703\n",
            "1/1 [==============================] - 0s 40ms/step\n",
            "0.2699896157840083\n",
            "1/1 [==============================] - 0s 48ms/step\n",
            "0.2697095435684647\n",
            "1/1 [==============================] - 0s 55ms/step\n",
            "0.2704663212435233\n",
            "1/1 [==============================] - 0s 57ms/step\n",
            "0.2701863354037267\n",
            "1/1 [==============================] - 0s 52ms/step\n",
            "0.27094105480868663\n",
            "1/1 [==============================] - 0s 54ms/step\n",
            "0.27169421487603307\n",
            "1/1 [==============================] - 0s 47ms/step\n",
            "0.2724458204334365\n",
            "1/1 [==============================] - 0s 53ms/step\n",
            "0.2721649484536082\n",
            "1/1 [==============================] - 0s 53ms/step\n",
            "0.2729145211122554\n",
            "1/1 [==============================] - 0s 58ms/step\n",
            "0.2726337448559671\n",
            "1/1 [==============================] - 0s 55ms/step\n",
            "0.2733812949640288\n",
            "1/1 [==============================] - 0s 66ms/step\n",
            "0.2731006160164271\n",
            "1/1 [==============================] - 0s 56ms/step\n",
            "0.27282051282051284\n",
            "1/1 [==============================] - 0s 48ms/step\n",
            "0.2725409836065574\n",
            "1/1 [==============================] - 0s 52ms/step\n",
            "0.27226202661207777\n",
            "1/1 [==============================] - 0s 70ms/step\n",
            "0.2719836400817996\n",
            "1/1 [==============================] - 0s 46ms/step\n",
            "0.27170582226762\n",
            "1/1 [==============================] - 0s 56ms/step\n",
            "0.2714285714285714\n",
            "1/1 [==============================] - 0s 57ms/step\n",
            "0.2711518858307849\n",
            "1/1 [==============================] - 0s 46ms/step\n",
            "0.27189409368635437\n",
            "1/1 [==============================] - 0s 49ms/step\n",
            "0.271617497456765\n",
            "1/1 [==============================] - 0s 59ms/step\n",
            "0.27134146341463417\n",
            "1/1 [==============================] - 0s 54ms/step\n",
            "0.27106598984771574\n",
            "1/1 [==============================] - 0s 47ms/step\n",
            "0.27079107505070993\n",
            "1/1 [==============================] - 0s 64ms/step\n",
            "0.270516717325228\n",
            "1/1 [==============================] - 0s 57ms/step\n",
            "0.2702429149797571\n",
            "1/1 [==============================] - 0s 60ms/step\n",
            "0.2699696663296259\n",
            "1/1 [==============================] - 0s 52ms/step\n",
            "0.2696969696969697\n",
            "1/1 [==============================] - 0s 48ms/step\n",
            "0.2694248234106963\n",
            "1/1 [==============================] - 0s 65ms/step\n",
            "0.2691532258064516\n",
            "1/1 [==============================] - 0s 59ms/step\n",
            "0.2688821752265861\n",
            "1/1 [==============================] - 0s 74ms/step\n",
            "0.26961770623742454\n",
            "1/1 [==============================] - 0s 46ms/step\n",
            "0.2693467336683417\n",
            "1/1 [==============================] - 0s 51ms/step\n",
            "0.26907630522088355\n",
            "1/1 [==============================] - 0s 52ms/step\n",
            "0.2688064192577733\n",
            "1/1 [==============================] - 0s 52ms/step\n",
            "0.2685370741482966\n",
            "1/1 [==============================] - 0s 48ms/step\n",
            "0.26926926926926925\n",
            "1/1 [==============================] - 0s 58ms/step\n",
            "0.269\n",
            "1/1 [==============================] - 0s 48ms/step\n",
            "0.26873126873126874\n",
            "1/1 [==============================] - 0s 56ms/step\n",
            "0.2684630738522954\n",
            "1/1 [==============================] - 0s 64ms/step\n",
            "0.26819541375872386\n",
            "1/1 [==============================] - 0s 53ms/step\n",
            "0.2679282868525896\n",
            "1/1 [==============================] - 0s 54ms/step\n",
            "0.26865671641791045\n",
            "1/1 [==============================] - 0s 55ms/step\n",
            "0.268389662027833\n",
            "1/1 [==============================] - 0s 49ms/step\n",
            "0.26812313803376364\n",
            "1/1 [==============================] - 0s 43ms/step\n",
            "0.26785714285714285\n",
            "1/1 [==============================] - 0s 47ms/step\n",
            "0.267591674925669\n",
            "1/1 [==============================] - 0s 52ms/step\n",
            "0.26732673267326734\n",
            "1/1 [==============================] - 0s 68ms/step\n",
            "0.26706231454005935\n",
            "1/1 [==============================] - 0s 45ms/step\n",
            "0.26778656126482214\n",
            "1/1 [==============================] - 0s 48ms/step\n",
            "0.26850937808489633\n",
            "1/1 [==============================] - 0s 45ms/step\n",
            "0.2692307692307692\n",
            "1/1 [==============================] - 0s 54ms/step\n",
            "0.26995073891625615\n",
            "1/1 [==============================] - 0s 56ms/step\n",
            "0.26968503937007876\n",
            "1/1 [==============================] - 0s 45ms/step\n",
            "0.2694198623402163\n",
            "1/1 [==============================] - 0s 55ms/step\n",
            "0.2691552062868369\n",
            "1/1 [==============================] - 0s 66ms/step\n",
            "0.2688910696761531\n",
            "1/1 [==============================] - 0s 58ms/step\n",
            "0.26862745098039215\n",
            "1/1 [==============================] - 0s 58ms/step\n",
            "0.2693437806072478\n",
            "1/1 [==============================] - 0s 61ms/step\n",
            "0.2700587084148728\n",
            "1/1 [==============================] - 0s 48ms/step\n",
            "0.2697947214076246\n",
            "1/1 [==============================] - 0s 53ms/step\n",
            "0.26953125\n",
            "1/1 [==============================] - 0s 47ms/step\n",
            "0.26926829268292685\n",
            "1/1 [==============================] - 0s 53ms/step\n",
            "0.26900584795321636\n",
            "1/1 [==============================] - 0s 54ms/step\n",
            "0.26874391431353456\n",
            "1/1 [==============================] - 0s 47ms/step\n",
            "0.26848249027237353\n",
            "1/1 [==============================] - 0s 59ms/step\n",
            "0.26822157434402333\n",
            "1/1 [==============================] - 0s 54ms/step\n",
            "0.26796116504854367\n",
            "1/1 [==============================] - 0s 42ms/step\n",
            "0.2677012609117362\n",
            "1/1 [==============================] - 0s 54ms/step\n",
            "0.26744186046511625\n",
            "1/1 [==============================] - 0s 47ms/step\n",
            "0.2671829622458858\n",
            "1/1 [==============================] - 0s 46ms/step\n",
            "0.2678916827852998\n",
            "1/1 [==============================] - 0s 60ms/step\n",
            "0.26763285024154587\n",
            "1/1 [==============================] - 0s 60ms/step\n",
            "0.26833976833976836\n",
            "1/1 [==============================] - 0s 47ms/step\n",
            "0.26808100289296044\n",
            "1/1 [==============================] - 0s 50ms/step\n",
            "0.2678227360308285\n",
            "1/1 [==============================] - 0s 53ms/step\n",
            "0.26756496631376325\n",
            "1/1 [==============================] - 0s 55ms/step\n",
            "0.26826923076923076\n",
            "1/1 [==============================] - 0s 58ms/step\n",
            "0.2680115273775216\n",
            "1/1 [==============================] - 0s 40ms/step\n",
            "0.2677543186180422\n",
            "1/1 [==============================] - 0s 54ms/step\n",
            "0.26749760306807285\n",
            "1/1 [==============================] - 0s 46ms/step\n",
            "0.2672413793103448\n",
            "1/1 [==============================] - 0s 63ms/step\n",
            "0.2669856459330144\n",
            "1/1 [==============================] - 0s 46ms/step\n",
            "0.26673040152963673\n",
            "1/1 [==============================] - 0s 55ms/step\n",
            "0.2664756446991404\n",
            "1/1 [==============================] - 0s 41ms/step\n",
            "0.26717557251908397\n",
            "1/1 [==============================] - 0s 41ms/step\n",
            "0.2669208770257388\n",
            "1/1 [==============================] - 0s 41ms/step\n",
            "0.26666666666666666\n",
            "1/1 [==============================] - 0s 50ms/step\n",
            "0.26736441484300666\n",
            "1/1 [==============================] - 0s 47ms/step\n",
            "0.2671102661596958\n",
            "1/1 [==============================] - 0s 54ms/step\n",
            "0.2678062678062678\n",
            "1/1 [==============================] - 0s 47ms/step\n",
            "0.2675521821631879\n",
            "1/1 [==============================] - 0s 49ms/step\n",
            "0.2672985781990521\n",
            "1/1 [==============================] - 0s 52ms/step\n",
            "0.26799242424242425\n",
            "1/1 [==============================] - 0s 53ms/step\n",
            "0.26773888363292336\n",
            "1/1 [==============================] - 0s 48ms/step\n",
            "0.2674858223062382\n",
            "1/1 [==============================] - 0s 58ms/step\n",
            "0.26817752596789424\n",
            "1/1 [==============================] - 0s 48ms/step\n",
            "0.2679245283018868\n",
            "1/1 [==============================] - 0s 54ms/step\n",
            "0.26767200754005654\n",
            "1/1 [==============================] - 0s 50ms/step\n",
            "0.2674199623352166\n",
            "1/1 [==============================] - 0s 62ms/step\n",
            "0.2671683913452493\n",
            "1/1 [==============================] - 0s 48ms/step\n",
            "0.26785714285714285\n",
            "1/1 [==============================] - 0s 65ms/step\n",
            "0.26854460093896715\n",
            "1/1 [==============================] - 0s 58ms/step\n",
            "0.2682926829268293\n",
            "1/1 [==============================] - 0s 58ms/step\n",
            "0.26804123711340205\n",
            "1/1 [==============================] - 0s 41ms/step\n",
            "0.26779026217228463\n",
            "1/1 [==============================] - 0s 60ms/step\n",
            "0.2684752104770814\n",
            "1/1 [==============================] - 0s 49ms/step\n",
            "0.26822429906542056\n",
            "1/1 [==============================] - 0s 50ms/step\n",
            "0.2679738562091503\n",
            "1/1 [==============================] - 0s 65ms/step\n",
            "0.26865671641791045\n",
            "1/1 [==============================] - 0s 47ms/step\n",
            "0.26933830382106244\n",
            "1/1 [==============================] - 0s 57ms/step\n",
            "0.26908752327746743\n",
            "1/1 [==============================] - 0s 48ms/step\n",
            "0.2688372093023256\n",
            "1/1 [==============================] - 0s 45ms/step\n",
            "0.26858736059479554\n",
            "1/1 [==============================] - 0s 65ms/step\n",
            "0.2683379758588672\n",
            "1/1 [==============================] - 0s 62ms/step\n",
            "0.2680890538033395\n",
            "1/1 [==============================] - 0s 57ms/step\n",
            "0.26876737720111216\n",
            "1/1 [==============================] - 0s 43ms/step\n",
            "0.26851851851851855\n",
            "1/1 [==============================] - 0s 49ms/step\n",
            "0.2682701202590194\n",
            "1/1 [==============================] - 0s 43ms/step\n",
            "0.2680221811460259\n",
            "1/1 [==============================] - 0s 47ms/step\n",
            "0.2677746999076639\n",
            "1/1 [==============================] - 0s 58ms/step\n",
            "0.26752767527675275\n",
            "1/1 [==============================] - 0s 57ms/step\n",
            "0.26820276497695855\n",
            "1/1 [==============================] - 0s 48ms/step\n",
            "0.26795580110497236\n",
            "1/1 [==============================] - 0s 59ms/step\n",
            "0.26770929162833484\n",
            "1/1 [==============================] - 0s 46ms/step\n",
            "0.26838235294117646\n",
            "1/1 [==============================] - 0s 62ms/step\n",
            "0.26905417814508725\n",
            "1/1 [==============================] - 0s 54ms/step\n",
            "0.26880733944954127\n",
            "1/1 [==============================] - 0s 51ms/step\n",
            "0.2685609532538955\n",
            "1/1 [==============================] - 0s 50ms/step\n",
            "0.2683150183150183\n",
            "1/1 [==============================] - 0s 51ms/step\n",
            "0.2689844464775846\n",
            "1/1 [==============================] - 0s 46ms/step\n",
            "0.2687385740402194\n",
            "1/1 [==============================] - 0s 70ms/step\n",
            "0.2684931506849315\n",
            "1/1 [==============================] - 0s 54ms/step\n",
            "0.26824817518248173\n",
            "1/1 [==============================] - 0s 57ms/step\n",
            "0.2689152233363719\n",
            "1/1 [==============================] - 0s 55ms/step\n",
            "0.26958105646630237\n",
            "1/1 [==============================] - 0s 44ms/step\n",
            "0.26933575978161967\n",
            "1/1 [==============================] - 0s 48ms/step\n",
            "0.2690909090909091\n",
            "1/1 [==============================] - 0s 48ms/step\n",
            "0.26975476839237056\n",
            "1/1 [==============================] - 0s 56ms/step\n",
            "0.2695099818511797\n",
            "1/1 [==============================] - 0s 57ms/step\n",
            "0.2692656391659112\n",
            "1/1 [==============================] - 0s 46ms/step\n",
            "0.26902173913043476\n",
            "1/1 [==============================] - 0s 47ms/step\n",
            "0.2687782805429864\n",
            "1/1 [==============================] - 0s 89ms/step\n",
            "0.2694394213381555\n",
            "1/1 [==============================] - 0s 59ms/step\n",
            "0.26919602529358627\n",
            "1/1 [==============================] - 0s 68ms/step\n",
            "0.26895306859205775\n",
            "1/1 [==============================] - 0s 49ms/step\n",
            "0.2696122633002705\n",
            "1/1 [==============================] - 0s 64ms/step\n",
            "0.2693693693693694\n",
            "1/1 [==============================] - 0s 47ms/step\n",
            "0.26912691269126915\n",
            "1/1 [==============================] - 0s 49ms/step\n",
            "0.26888489208633093\n",
            "1/1 [==============================] - 0s 59ms/step\n",
            "0.26864330637915546\n",
            "1/1 [==============================] - 0s 47ms/step\n",
            "0.26840215439856374\n",
            "1/1 [==============================] - 0s 45ms/step\n",
            "0.2681614349775785\n",
            "1/1 [==============================] - 0s 51ms/step\n",
            "0.267921146953405\n",
            "1/1 [==============================] - 0s 48ms/step\n",
            "0.26768128916741274\n",
            "1/1 [==============================] - 0s 45ms/step\n",
            "0.26744186046511625\n",
            "1/1 [==============================] - 0s 54ms/step\n",
            "0.26720285969615726\n",
            "1/1 [==============================] - 0s 57ms/step\n",
            "0.26785714285714285\n",
            "1/1 [==============================] - 0s 52ms/step\n",
            "0.26851025869759143\n",
            "1/1 [==============================] - 0s 51ms/step\n",
            "0.26827094474153296\n",
            "1/1 [==============================] - 0s 48ms/step\n",
            "0.2680320569902048\n",
            "1/1 [==============================] - 0s 40ms/step\n",
            "0.2677935943060498\n",
            "1/1 [==============================] - 0s 78ms/step\n",
            "0.26755555555555555\n",
            "1/1 [==============================] - 0s 48ms/step\n",
            "0.2673179396092362\n",
            "1/1 [==============================] - 0s 50ms/step\n",
            "0.2670807453416149\n",
            "1/1 [==============================] - 0s 47ms/step\n",
            "0.26684397163120566\n",
            "1/1 [==============================] - 0s 85ms/step\n",
            "0.26660761736049604\n",
            "1/1 [==============================] - 0s 56ms/step\n",
            "0.2663716814159292\n",
            "1/1 [==============================] - 0s 51ms/step\n",
            "0.2661361626878868\n",
            "1/1 [==============================] - 0s 50ms/step\n",
            "0.2659010600706714\n",
            "1/1 [==============================] - 0s 58ms/step\n",
            "0.265666372462489\n",
            "1/1 [==============================] - 0s 51ms/step\n",
            "0.2654320987654321\n",
            "1/1 [==============================] - 0s 47ms/step\n",
            "0.26519823788546254\n",
            "1/1 [==============================] - 0s 46ms/step\n",
            "0.2649647887323944\n",
            "1/1 [==============================] - 0s 48ms/step\n",
            "0.2647317502198769\n",
            "1/1 [==============================] - 0s 59ms/step\n",
            "0.26449912126537783\n",
            "1/1 [==============================] - 0s 45ms/step\n",
            "0.2642669007901668\n",
            "1/1 [==============================] - 0s 54ms/step\n",
            "0.26403508771929823\n",
            "1/1 [==============================] - 0s 65ms/step\n",
            "0.26380368098159507\n",
            "1/1 [==============================] - 0s 45ms/step\n",
            "0.2635726795096322\n",
            "1/1 [==============================] - 0s 48ms/step\n",
            "0.2642169728783902\n",
            "1/1 [==============================] - 0s 47ms/step\n",
            "0.26486013986013984\n",
            "1/1 [==============================] - 0s 92ms/step\n",
            "0.26550218340611353\n",
            "1/1 [==============================] - 0s 53ms/step\n",
            "0.26527050610820246\n",
            "1/1 [==============================] - 0s 42ms/step\n",
            "0.26503923278116825\n",
            "1/1 [==============================] - 0s 53ms/step\n",
            "0.26480836236933797\n",
            "1/1 [==============================] - 0s 47ms/step\n",
            "0.2654482158398607\n",
            "1/1 [==============================] - 0s 46ms/step\n",
            "0.26521739130434785\n",
            "1/1 [==============================] - 0s 62ms/step\n",
            "0.26498696785403997\n",
            "1/1 [==============================] - 0s 51ms/step\n",
            "0.2647569444444444\n",
            "1/1 [==============================] - 0s 56ms/step\n",
            "0.2645273200346921\n",
            "1/1 [==============================] - 0s 47ms/step\n",
            "0.26429809358752165\n",
            "1/1 [==============================] - 0s 56ms/step\n",
            "0.2649350649350649\n",
            "1/1 [==============================] - 0s 49ms/step\n",
            "0.2655709342560554\n",
            "1/1 [==============================] - 0s 50ms/step\n",
            "0.26534140017286084\n",
            "1/1 [==============================] - 0s 59ms/step\n",
            "0.2651122625215889\n",
            "1/1 [==============================] - 0s 43ms/step\n",
            "0.2657463330457291\n",
            "1/1 [==============================] - 0s 42ms/step\n",
            "0.2655172413793103\n",
            "1/1 [==============================] - 0s 61ms/step\n",
            "0.2661498708010336\n",
            "1/1 [==============================] - 0s 43ms/step\n",
            "0.26592082616179\n",
            "1/1 [==============================] - 0s 60ms/step\n",
            "0.2656921754084265\n",
            "1/1 [==============================] - 0s 58ms/step\n",
            "0.2654639175257732\n",
            "1/1 [==============================] - 0s 57ms/step\n",
            "0.2652360515021459\n",
            "1/1 [==============================] - 0s 54ms/step\n",
            "0.26500857632933106\n"
          ]
        },
        {
          "ename": "KeyboardInterrupt",
          "evalue": "",
          "output_type": "error",
          "traceback": [
            "\u001b[0;31m---------------------------------------------------------------------------\u001b[0m",
            "\u001b[0;31mKeyboardInterrupt\u001b[0m                         Traceback (most recent call last)",
            "\u001b[1;32m/media/ntu/volume1/home/s122md302_01/dip/EE3080-DIP-E032/InceptionResNetV2.ipynb Cell 40\u001b[0m in \u001b[0;36m<cell line: 7>\u001b[0;34m()\u001b[0m\n\u001b[1;32m      <a href='vscode-notebook-cell://ssh-remote%2B7b22686f73744e616d65223a22453033325f444950227d/media/ntu/volume1/home/s122md302_01/dip/EE3080-DIP-E032/InceptionResNetV2.ipynb#X56sdnNjb2RlLXJlbW90ZQ%3D%3D?line=3'>4</a>\u001b[0m count \u001b[39m=\u001b[39m \u001b[39m0\u001b[39m\n\u001b[1;32m      <a href='vscode-notebook-cell://ssh-remote%2B7b22686f73744e616d65223a22453033325f444950227d/media/ntu/volume1/home/s122md302_01/dip/EE3080-DIP-E032/InceptionResNetV2.ipynb#X56sdnNjb2RlLXJlbW90ZQ%3D%3D?line=6'>7</a>\u001b[0m \u001b[39mfor\u001b[39;00m (i, f) \u001b[39min\u001b[39;00m \u001b[39menumerate\u001b[39m(img_list):\n\u001b[0;32m----> <a href='vscode-notebook-cell://ssh-remote%2B7b22686f73744e616d65223a22453033325f444950227d/media/ntu/volume1/home/s122md302_01/dip/EE3080-DIP-E032/InceptionResNetV2.ipynb#X56sdnNjb2RlLXJlbW90ZQ%3D%3D?line=7'>8</a>\u001b[0m     img \u001b[39m=\u001b[39m cv2\u001b[39m.\u001b[39;49mimread(os\u001b[39m.\u001b[39;49mpath\u001b[39m.\u001b[39;49mjoin(\u001b[39mdir\u001b[39;49m, f))\n\u001b[1;32m      <a href='vscode-notebook-cell://ssh-remote%2B7b22686f73744e616d65223a22453033325f444950227d/media/ntu/volume1/home/s122md302_01/dip/EE3080-DIP-E032/InceptionResNetV2.ipynb#X56sdnNjb2RlLXJlbW90ZQ%3D%3D?line=8'>9</a>\u001b[0m     img \u001b[39m=\u001b[39m cv2\u001b[39m.\u001b[39mresize(img, (\u001b[39m512\u001b[39m,\u001b[39m512\u001b[39m))\n\u001b[1;32m     <a href='vscode-notebook-cell://ssh-remote%2B7b22686f73744e616d65223a22453033325f444950227d/media/ntu/volume1/home/s122md302_01/dip/EE3080-DIP-E032/InceptionResNetV2.ipynb#X56sdnNjb2RlLXJlbW90ZQ%3D%3D?line=9'>10</a>\u001b[0m     sample \u001b[39m=\u001b[39m img\u001b[39m.\u001b[39mreshape(\u001b[39m1\u001b[39m,\u001b[39m512\u001b[39m,\u001b[39m512\u001b[39m,\u001b[39m3\u001b[39m)\n",
            "\u001b[0;31mKeyboardInterrupt\u001b[0m: "
          ]
        }
      ],
      "source": [
        "img_list = os.listdir(\"dataset/master_data/fake\")\n",
        "dir = \"dataset/master_data/fake\"\n",
        "\n",
        "count = 0\n",
        "\n",
        "\n",
        "for (i, f) in enumerate(img_list):\n",
        "    img = cv2.imread(os.path.join(dir, f))\n",
        "    img = cv2.resize(img, (512,512))\n",
        "    sample = img.reshape(1,512,512,3)\n",
        "    prob = test.predict(sample)\n",
        "\n",
        "    if prob[0][0] > prob[0][1]:\n",
        "        count += 1\n",
        "    print(count / (i+1))"
      ]
    },
    {
      "cell_type": "code",
      "execution_count": null,
      "metadata": {},
      "outputs": [],
      "source": []
    }
  ],
  "metadata": {
    "accelerator": "GPU",
    "colab": {
      "machine_shape": "hm",
      "provenance": []
    },
    "gpuClass": "premium",
    "kernelspec": {
      "display_name": "Python 3.9.12 ('base')",
      "language": "python",
      "name": "python3"
    },
    "language_info": {
      "codemirror_mode": {
        "name": "ipython",
        "version": 3
      },
      "file_extension": ".py",
      "mimetype": "text/x-python",
      "name": "python",
      "nbconvert_exporter": "python",
      "pygments_lexer": "ipython3",
      "version": "3.9.12 (main, Apr  5 2022, 06:56:58) \n[GCC 7.5.0]"
    },
    "vscode": {
      "interpreter": {
        "hash": "a7972e58dbdb640a09d985be013acf4419964b7c577afe5d516303e6faeea168"
      }
    }
  },
  "nbformat": 4,
  "nbformat_minor": 0
}
