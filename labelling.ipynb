{
 "cells": [
  {
   "cell_type": "code",
   "execution_count": 1,
   "metadata": {},
   "outputs": [],
   "source": [
    "from utils.label_utils import rename, generate_csv"
   ]
  },
  {
   "cell_type": "code",
   "execution_count": 20,
   "metadata": {},
   "outputs": [
    {
     "name": "stderr",
     "output_type": "stream",
     "text": [
      "100%|██████████| 1001/1001 [00:00<00:00, 2579.53it/s]\n"
     ]
    }
   ],
   "source": [
    "inp = 'dataset/Person/Fake/'\n",
    "pref = 'fake_person'\n",
    "out = 'dataset/master_data/fake'\n",
    "\n",
    "rename(input_dir=inp, prefix=pref, output_dir=out)"
   ]
  },
  {
   "cell_type": "code",
   "execution_count": 3,
   "metadata": {},
   "outputs": [
    {
     "name": "stdout",
     "output_type": "stream",
     "text": [
      "4596 6354\n",
      "10950\n"
     ]
    }
   ],
   "source": [
    "\"\"\"\n",
    "master_data, 19 oct\n",
    "\n",
    "fake:\n",
    "- face: 1958\n",
    "- animal: 636\n",
    "- landscape: 1001\n",
    "- person: 1001\n",
    "\n",
    "real:\n",
    "- face: 2145\n",
    "- animal: 1888\n",
    "- landscape: 1660\n",
    "- person: 661\n",
    "\"\"\"\n",
    "\n",
    "fake = 1958 + 636 + 1001 + 1001\n",
    "real = 2145 + 1888 + 1660 + 661\n",
    "\n",
    "print(fake, real)\n",
    "print(fake+real)\n"
   ]
  },
  {
   "cell_type": "code",
   "execution_count": 2,
   "metadata": {},
   "outputs": [
    {
     "name": "stderr",
     "output_type": "stream",
     "text": [
      "100%|██████████| 6354/6354 [00:05<00:00, 1060.93it/s]\n",
      "100%|██████████| 4596/4596 [00:04<00:00, 1034.83it/s]\n"
     ]
    }
   ],
   "source": [
    "p = 'dataset/master_data/'\n",
    "\n",
    "generate_csv(p)"
   ]
  },
  {
   "cell_type": "code",
   "execution_count": null,
   "metadata": {},
   "outputs": [],
   "source": []
  }
 ],
 "metadata": {
  "kernelspec": {
   "display_name": "Python 3.8.5 ('base')",
   "language": "python",
   "name": "python3"
  },
  "language_info": {
   "codemirror_mode": {
    "name": "ipython",
    "version": 3
   },
   "file_extension": ".py",
   "mimetype": "text/x-python",
   "name": "python",
   "nbconvert_exporter": "python",
   "pygments_lexer": "ipython3",
   "version": "3.8.5"
  },
  "orig_nbformat": 4,
  "vscode": {
   "interpreter": {
    "hash": "72c0084fc7174b6cae5fc68a0860f15b6f722f121c8631e77027f6efcaafb695"
   }
  }
 },
 "nbformat": 4,
 "nbformat_minor": 2
}
