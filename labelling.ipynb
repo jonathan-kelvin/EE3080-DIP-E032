{
 "cells": [
  {
   "cell_type": "code",
   "execution_count": 1,
   "metadata": {},
   "outputs": [],
   "source": [
    "from utils.label_utils import rename"
   ]
  },
  {
   "cell_type": "code",
   "execution_count": 3,
   "metadata": {},
   "outputs": [
    {
     "name": "stderr",
     "output_type": "stream",
     "text": [
      "100%|██████████| 4/4 [00:00<00:00, 921.67it/s]"
     ]
    },
    {
     "name": "stdout",
     "output_type": "stream",
     "text": [
      "0 main copy 3.png\n",
      "1 main copy.png\n",
      "2 main copy 2.png\n",
      "3 main.png\n"
     ]
    },
    {
     "name": "stderr",
     "output_type": "stream",
     "text": [
      "\n"
     ]
    }
   ],
   "source": [
    "inp = 'dataset/test/fake'\n",
    "pref = 'real'\n",
    "out = 'dataset/output_test'\n",
    "\n",
    "rename(inp, output_dir=out)"
   ]
  },
  {
   "cell_type": "code",
   "execution_count": 1,
   "metadata": {},
   "outputs": [
    {
     "name": "stdout",
     "output_type": "stream",
     "text": [
      "/Users/kelvin/Documents/NTU2020/Year 3/EE3080/EE3080-DIP-E032\n"
     ]
    }
   ],
   "source": [
    "!pwd\n",
    "import os, pandas"
   ]
  },
  {
   "cell_type": "code",
   "execution_count": null,
   "metadata": {},
   "outputs": [],
   "source": [
    "def generate_csv(path, output_dir=None, csv_name='label.csv'):\n",
    "    \"\"\"\n",
    "    creates a csv file with 2 columns, file_name and label.\n",
    "    expects data to be in format:\n",
    "        data\n",
    "        --real\n",
    "        ----real_123.png\n",
    "        --fake\n",
    "        ----fake_123.png\n",
    "    Args:\n",
    "        path -> path to data\n",
    "    \"\"\"\n",
    "    if output_dir is None:\n",
    "        output_dir = path\n",
    "    df = pd.DataFrame(columns=['file_name', 'label'])\n",
    "    real_path = os.path.join(path, 'real')\n",
    "    fake_path = os.path.join(path, 'fake')\n",
    "\n",
    "    for f in os.listdir(real_path):\n",
    "        if f.startswith('real'):\n",
    "            newRow = {'file_name': f, 'label': 'real'}\n",
    "            df.append(newRow, ignore_index=True)\n",
    "    for f in os.listdir(fake_path):\n",
    "        if f.startswith('fake'):\n",
    "            newRow = {'file_name': f, 'label': 'fake'}\n",
    "            df.append(newRow, ignore_index=True)\n",
    "    df.to_csv(os.path.join(output_dir, csv_name))\n",
    "\n"
   ]
  }
 ],
 "metadata": {
  "kernelspec": {
   "display_name": "Python 3.8.5 ('base')",
   "language": "python",
   "name": "python3"
  },
  "language_info": {
   "codemirror_mode": {
    "name": "ipython",
    "version": 3
   },
   "file_extension": ".py",
   "mimetype": "text/x-python",
   "name": "python",
   "nbconvert_exporter": "python",
   "pygments_lexer": "ipython3",
   "version": "3.8.5"
  },
  "orig_nbformat": 4,
  "vscode": {
   "interpreter": {
    "hash": "72c0084fc7174b6cae5fc68a0860f15b6f722f121c8631e77027f6efcaafb695"
   }
  }
 },
 "nbformat": 4,
 "nbformat_minor": 2
}
